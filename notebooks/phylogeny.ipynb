{
 "cells": [
  {
   "cell_type": "code",
   "execution_count": 159,
   "metadata": {
    "tags": []
   },
   "outputs": [
    {
     "name": "stdout",
     "output_type": "stream",
     "text": [
      "The autoreload extension is already loaded. To reload it, use:\n",
      "  %reload_ext autoreload\n"
     ]
    }
   ],
   "source": [
    "%load_ext autoreload\n",
    "%autoreload 2\n",
    "\n",
    "import sys\n",
    "sys.path.insert(0, '..')\n",
    "\n",
    "from src.general import *\n",
    "from src.eda import *"
   ]
  },
  {
   "cell_type": "code",
   "execution_count": 141,
   "metadata": {
    "tags": []
   },
   "outputs": [
    {
     "data": {
      "text/html": [
       "<div>\n",
       "<style scoped>\n",
       "    .dataframe tbody tr th:only-of-type {\n",
       "        vertical-align: middle;\n",
       "    }\n",
       "\n",
       "    .dataframe tbody tr th {\n",
       "        vertical-align: top;\n",
       "    }\n",
       "\n",
       "    .dataframe thead th {\n",
       "        text-align: right;\n",
       "    }\n",
       "</style>\n",
       "<table border=\"1\" class=\"dataframe\">\n",
       "  <thead>\n",
       "    <tr style=\"text-align: right;\">\n",
       "      <th></th>\n",
       "      <th>0</th>\n",
       "    </tr>\n",
       "  </thead>\n",
       "  <tbody>\n",
       "    <tr>\n",
       "      <th>n_species</th>\n",
       "      <td>16</td>\n",
       "    </tr>\n",
       "    <tr>\n",
       "      <th>min_species</th>\n",
       "      <td>2</td>\n",
       "    </tr>\n",
       "    <tr>\n",
       "      <th>species_order</th>\n",
       "      <td>abundance</td>\n",
       "    </tr>\n",
       "    <tr>\n",
       "      <th>training_data</th>\n",
       "      <td>petrer_limestone</td>\n",
       "    </tr>\n",
       "    <tr>\n",
       "      <th>testing_data</th>\n",
       "      <td>union_patches</td>\n",
       "    </tr>\n",
       "    <tr>\n",
       "      <th>training_start</th>\n",
       "      <td>train_from_scratch</td>\n",
       "    </tr>\n",
       "    <tr>\n",
       "      <th>val_split</th>\n",
       "      <td>0.5</td>\n",
       "    </tr>\n",
       "    <tr>\n",
       "      <th>reconstruction_loss</th>\n",
       "      <td>bce</td>\n",
       "    </tr>\n",
       "    <tr>\n",
       "      <th>depth</th>\n",
       "      <td>32</td>\n",
       "    </tr>\n",
       "    <tr>\n",
       "      <th>n_latent</th>\n",
       "      <td>16</td>\n",
       "    </tr>\n",
       "    <tr>\n",
       "      <th>beta</th>\n",
       "      <td>1</td>\n",
       "    </tr>\n",
       "    <tr>\n",
       "      <th>monitor</th>\n",
       "      <td>val_loss</td>\n",
       "    </tr>\n",
       "    <tr>\n",
       "      <th>mode</th>\n",
       "      <td>min</td>\n",
       "    </tr>\n",
       "    <tr>\n",
       "      <th>learning_rate</th>\n",
       "      <td>0.001</td>\n",
       "    </tr>\n",
       "    <tr>\n",
       "      <th>batch_size</th>\n",
       "      <td>64</td>\n",
       "    </tr>\n",
       "    <tr>\n",
       "      <th>epochs</th>\n",
       "      <td>200</td>\n",
       "    </tr>\n",
       "    <tr>\n",
       "      <th>stride</th>\n",
       "      <td>2</td>\n",
       "    </tr>\n",
       "    <tr>\n",
       "      <th>n_bootstrap</th>\n",
       "      <td>20</td>\n",
       "    </tr>\n",
       "    <tr>\n",
       "      <th>n_tile</th>\n",
       "      <td>8</td>\n",
       "    </tr>\n",
       "    <tr>\n",
       "      <th>n_colors</th>\n",
       "      <td>1</td>\n",
       "    </tr>\n",
       "    <tr>\n",
       "      <th>fully_connected</th>\n",
       "      <td>False</td>\n",
       "    </tr>\n",
       "    <tr>\n",
       "      <th>testing</th>\n",
       "      <td>False</td>\n",
       "    </tr>\n",
       "    <tr>\n",
       "      <th>chunk_size</th>\n",
       "      <td>1</td>\n",
       "    </tr>\n",
       "  </tbody>\n",
       "</table>\n",
       "</div>"
      ],
      "text/plain": [
       "                                      0\n",
       "n_species                            16\n",
       "min_species                           2\n",
       "species_order                 abundance\n",
       "training_data          petrer_limestone\n",
       "testing_data              union_patches\n",
       "training_start       train_from_scratch\n",
       "val_split                           0.5\n",
       "reconstruction_loss                 bce\n",
       "depth                                32\n",
       "n_latent                             16\n",
       "beta                                  1\n",
       "monitor                        val_loss\n",
       "mode                                min\n",
       "learning_rate                     0.001\n",
       "batch_size                           64\n",
       "epochs                              200\n",
       "stride                                2\n",
       "n_bootstrap                          20\n",
       "n_tile                                8\n",
       "n_colors                              1\n",
       "fully_connected                   False\n",
       "testing                           False\n",
       "chunk_size                            1"
      ]
     },
     "execution_count": 141,
     "metadata": {},
     "output_type": "execute_result"
    }
   ],
   "source": [
    "config = configure_defaults()\n",
    "config['testing_data'] = 'union_patches'\n",
    "# config['testing_data'] = 'mexico_all'\n",
    "\n",
    "show(config)"
   ]
  },
  {
   "cell_type": "code",
   "execution_count": 142,
   "metadata": {
    "tags": []
   },
   "outputs": [
    {
     "data": {
      "text/plain": [
       "Index(['Fumana thymifolia', 'Stipa tenacissima', 'Helianthemum violaceum',\n",
       "       'Brachypodium retusum', 'Fumana ericoides', 'Rosmarinus officinalis',\n",
       "       'Helianthemum syriacum', 'Teucrium capitatum', 'Atractylis cancellata',\n",
       "       'Teucrium pseudochamaepitys', 'Phagnalon rupestre', 'Teucrium mola',\n",
       "       'Fumana hispidula', 'Sedum sediforme', 'Matthiola fruticulosa',\n",
       "       'Thymus vulgaris'],\n",
       "      dtype='object')"
      ]
     },
     "execution_count": 142,
     "metadata": {},
     "output_type": "execute_result"
    }
   ],
   "source": [
    "species_origin = get_species(config['training_data'])\n",
    "species_origin"
   ]
  },
  {
   "cell_type": "code",
   "execution_count": 157,
   "metadata": {
    "tags": []
   },
   "outputs": [
    {
     "data": {
      "application/vnd.plotly.v1+json": {
       "config": {
        "plotlyServerURL": "https://plot.ly"
       },
       "data": [
        {
         "coloraxis": "coloraxis",
         "hovertemplate": "x: %{x}<br>y: %{y}<br>color: %{z}<extra></extra>",
         "name": "0",
         "type": "heatmap",
         "x": [
          0,
          1,
          2,
          3,
          4,
          5,
          6,
          7,
          8,
          9,
          10,
          11,
          12,
          13,
          14,
          15,
          16,
          17,
          18,
          19
         ],
         "xaxis": "x",
         "y": [
          "Helichrysum stoechas",
          "Piptatherum miliaceum",
          "Hyparrhenia sinaica",
          "Reichardia tingitana",
          "Dittrichia viscosa",
          "Sonchus tenerrimus",
          "Linum strictum",
          "Pinus halepensis",
          "Leontodon longirostris",
          "Phagnalon saxatile",
          "Plantago crassifolia",
          "Fagonia cretica",
          "Atriplex halimus",
          "Lygeum spartum",
          "Paronychia suffruticosa",
          "Limonium carthaginense"
         ],
         "yaxis": "y",
         "z": [
          [
           0,
           0,
           255,
           255,
           0,
           255,
           255,
           255,
           0,
           0,
           255,
           255,
           255,
           255,
           255,
           255,
           255,
           0,
           255,
           0
          ],
          [
           255,
           255,
           255,
           255,
           255,
           0,
           255,
           0,
           255,
           255,
           255,
           255,
           0,
           255,
           0,
           255,
           0,
           255,
           255,
           0
          ],
          [
           0,
           0,
           0,
           0,
           0,
           255,
           0,
           0,
           0,
           0,
           0,
           0,
           255,
           0,
           0,
           0,
           255,
           0,
           0,
           0
          ],
          [
           0,
           0,
           0,
           255,
           255,
           0,
           0,
           0,
           0,
           0,
           0,
           0,
           0,
           0,
           0,
           255,
           0,
           0,
           255,
           255
          ],
          [
           255,
           255,
           0,
           255,
           0,
           0,
           255,
           0,
           255,
           0,
           0,
           255,
           0,
           255,
           0,
           0,
           0,
           0,
           255,
           0
          ],
          [
           0,
           0,
           255,
           0,
           0,
           0,
           0,
           0,
           0,
           255,
           255,
           0,
           0,
           255,
           0,
           255,
           0,
           0,
           255,
           0
          ],
          [
           0,
           0,
           255,
           0,
           0,
           255,
           0,
           0,
           0,
           0,
           0,
           0,
           0,
           0,
           0,
           0,
           0,
           0,
           0,
           0
          ],
          [
           0,
           0,
           0,
           0,
           0,
           0,
           0,
           255,
           0,
           0,
           0,
           0,
           0,
           0,
           255,
           0,
           0,
           0,
           0,
           0
          ],
          [
           255,
           0,
           255,
           255,
           255,
           0,
           0,
           0,
           0,
           0,
           0,
           0,
           0,
           0,
           255,
           0,
           0,
           0,
           255,
           0
          ],
          [
           0,
           0,
           255,
           0,
           0,
           0,
           255,
           255,
           0,
           0,
           255,
           0,
           0,
           0,
           255,
           0,
           0,
           0,
           255,
           0
          ],
          [
           255,
           0,
           0,
           255,
           255,
           0,
           0,
           0,
           0,
           0,
           0,
           0,
           0,
           255,
           0,
           0,
           0,
           0,
           255,
           0
          ],
          [
           0,
           0,
           0,
           0,
           0,
           0,
           0,
           0,
           0,
           0,
           0,
           0,
           0,
           0,
           0,
           0,
           0,
           0,
           0,
           0
          ],
          [
           0,
           0,
           0,
           0,
           255,
           0,
           0,
           0,
           0,
           0,
           0,
           0,
           0,
           0,
           0,
           255,
           0,
           0,
           255,
           255
          ],
          [
           0,
           0,
           0,
           0,
           0,
           0,
           0,
           0,
           0,
           0,
           0,
           0,
           0,
           0,
           255,
           0,
           0,
           0,
           0,
           0
          ],
          [
           0,
           0,
           0,
           0,
           0,
           0,
           0,
           0,
           0,
           0,
           0,
           0,
           0,
           0,
           255,
           0,
           0,
           0,
           0,
           0
          ],
          [
           0,
           0,
           0,
           0,
           0,
           0,
           255,
           0,
           0,
           0,
           0,
           0,
           0,
           0,
           0,
           0,
           0,
           255,
           0,
           0
          ]
         ]
        }
       ],
       "layout": {
        "autosize": true,
        "coloraxis": {
         "colorscale": [
          [
           0,
           "white"
          ],
          [
           1,
           "grey"
          ]
         ]
        },
        "margin": {
         "t": 60
        },
        "template": {
         "data": {
          "bar": [
           {
            "error_x": {
             "color": "#2a3f5f"
            },
            "error_y": {
             "color": "#2a3f5f"
            },
            "marker": {
             "line": {
              "color": "white",
              "width": 0.5
             },
             "pattern": {
              "fillmode": "overlay",
              "size": 10,
              "solidity": 0.2
             }
            },
            "type": "bar"
           }
          ],
          "barpolar": [
           {
            "marker": {
             "line": {
              "color": "white",
              "width": 0.5
             },
             "pattern": {
              "fillmode": "overlay",
              "size": 10,
              "solidity": 0.2
             }
            },
            "type": "barpolar"
           }
          ],
          "carpet": [
           {
            "aaxis": {
             "endlinecolor": "#2a3f5f",
             "gridcolor": "#C8D4E3",
             "linecolor": "#C8D4E3",
             "minorgridcolor": "#C8D4E3",
             "startlinecolor": "#2a3f5f"
            },
            "baxis": {
             "endlinecolor": "#2a3f5f",
             "gridcolor": "#C8D4E3",
             "linecolor": "#C8D4E3",
             "minorgridcolor": "#C8D4E3",
             "startlinecolor": "#2a3f5f"
            },
            "type": "carpet"
           }
          ],
          "choropleth": [
           {
            "colorbar": {
             "outlinewidth": 0,
             "ticks": ""
            },
            "type": "choropleth"
           }
          ],
          "contour": [
           {
            "colorbar": {
             "outlinewidth": 0,
             "ticks": ""
            },
            "colorscale": [
             [
              0,
              "#0d0887"
             ],
             [
              0.1111111111111111,
              "#46039f"
             ],
             [
              0.2222222222222222,
              "#7201a8"
             ],
             [
              0.3333333333333333,
              "#9c179e"
             ],
             [
              0.4444444444444444,
              "#bd3786"
             ],
             [
              0.5555555555555556,
              "#d8576b"
             ],
             [
              0.6666666666666666,
              "#ed7953"
             ],
             [
              0.7777777777777778,
              "#fb9f3a"
             ],
             [
              0.8888888888888888,
              "#fdca26"
             ],
             [
              1,
              "#f0f921"
             ]
            ],
            "type": "contour"
           }
          ],
          "contourcarpet": [
           {
            "colorbar": {
             "outlinewidth": 0,
             "ticks": ""
            },
            "type": "contourcarpet"
           }
          ],
          "heatmap": [
           {
            "colorbar": {
             "outlinewidth": 0,
             "ticks": ""
            },
            "colorscale": [
             [
              0,
              "#0d0887"
             ],
             [
              0.1111111111111111,
              "#46039f"
             ],
             [
              0.2222222222222222,
              "#7201a8"
             ],
             [
              0.3333333333333333,
              "#9c179e"
             ],
             [
              0.4444444444444444,
              "#bd3786"
             ],
             [
              0.5555555555555556,
              "#d8576b"
             ],
             [
              0.6666666666666666,
              "#ed7953"
             ],
             [
              0.7777777777777778,
              "#fb9f3a"
             ],
             [
              0.8888888888888888,
              "#fdca26"
             ],
             [
              1,
              "#f0f921"
             ]
            ],
            "type": "heatmap"
           }
          ],
          "heatmapgl": [
           {
            "colorbar": {
             "outlinewidth": 0,
             "ticks": ""
            },
            "colorscale": [
             [
              0,
              "#0d0887"
             ],
             [
              0.1111111111111111,
              "#46039f"
             ],
             [
              0.2222222222222222,
              "#7201a8"
             ],
             [
              0.3333333333333333,
              "#9c179e"
             ],
             [
              0.4444444444444444,
              "#bd3786"
             ],
             [
              0.5555555555555556,
              "#d8576b"
             ],
             [
              0.6666666666666666,
              "#ed7953"
             ],
             [
              0.7777777777777778,
              "#fb9f3a"
             ],
             [
              0.8888888888888888,
              "#fdca26"
             ],
             [
              1,
              "#f0f921"
             ]
            ],
            "type": "heatmapgl"
           }
          ],
          "histogram": [
           {
            "marker": {
             "pattern": {
              "fillmode": "overlay",
              "size": 10,
              "solidity": 0.2
             }
            },
            "type": "histogram"
           }
          ],
          "histogram2d": [
           {
            "colorbar": {
             "outlinewidth": 0,
             "ticks": ""
            },
            "colorscale": [
             [
              0,
              "#0d0887"
             ],
             [
              0.1111111111111111,
              "#46039f"
             ],
             [
              0.2222222222222222,
              "#7201a8"
             ],
             [
              0.3333333333333333,
              "#9c179e"
             ],
             [
              0.4444444444444444,
              "#bd3786"
             ],
             [
              0.5555555555555556,
              "#d8576b"
             ],
             [
              0.6666666666666666,
              "#ed7953"
             ],
             [
              0.7777777777777778,
              "#fb9f3a"
             ],
             [
              0.8888888888888888,
              "#fdca26"
             ],
             [
              1,
              "#f0f921"
             ]
            ],
            "type": "histogram2d"
           }
          ],
          "histogram2dcontour": [
           {
            "colorbar": {
             "outlinewidth": 0,
             "ticks": ""
            },
            "colorscale": [
             [
              0,
              "#0d0887"
             ],
             [
              0.1111111111111111,
              "#46039f"
             ],
             [
              0.2222222222222222,
              "#7201a8"
             ],
             [
              0.3333333333333333,
              "#9c179e"
             ],
             [
              0.4444444444444444,
              "#bd3786"
             ],
             [
              0.5555555555555556,
              "#d8576b"
             ],
             [
              0.6666666666666666,
              "#ed7953"
             ],
             [
              0.7777777777777778,
              "#fb9f3a"
             ],
             [
              0.8888888888888888,
              "#fdca26"
             ],
             [
              1,
              "#f0f921"
             ]
            ],
            "type": "histogram2dcontour"
           }
          ],
          "mesh3d": [
           {
            "colorbar": {
             "outlinewidth": 0,
             "ticks": ""
            },
            "type": "mesh3d"
           }
          ],
          "parcoords": [
           {
            "line": {
             "colorbar": {
              "outlinewidth": 0,
              "ticks": ""
             }
            },
            "type": "parcoords"
           }
          ],
          "pie": [
           {
            "automargin": true,
            "type": "pie"
           }
          ],
          "scatter": [
           {
            "fillpattern": {
             "fillmode": "overlay",
             "size": 10,
             "solidity": 0.2
            },
            "type": "scatter"
           }
          ],
          "scatter3d": [
           {
            "line": {
             "colorbar": {
              "outlinewidth": 0,
              "ticks": ""
             }
            },
            "marker": {
             "colorbar": {
              "outlinewidth": 0,
              "ticks": ""
             }
            },
            "type": "scatter3d"
           }
          ],
          "scattercarpet": [
           {
            "marker": {
             "colorbar": {
              "outlinewidth": 0,
              "ticks": ""
             }
            },
            "type": "scattercarpet"
           }
          ],
          "scattergeo": [
           {
            "marker": {
             "colorbar": {
              "outlinewidth": 0,
              "ticks": ""
             }
            },
            "type": "scattergeo"
           }
          ],
          "scattergl": [
           {
            "marker": {
             "colorbar": {
              "outlinewidth": 0,
              "ticks": ""
             }
            },
            "type": "scattergl"
           }
          ],
          "scattermapbox": [
           {
            "marker": {
             "colorbar": {
              "outlinewidth": 0,
              "ticks": ""
             }
            },
            "type": "scattermapbox"
           }
          ],
          "scatterpolar": [
           {
            "marker": {
             "colorbar": {
              "outlinewidth": 0,
              "ticks": ""
             }
            },
            "type": "scatterpolar"
           }
          ],
          "scatterpolargl": [
           {
            "marker": {
             "colorbar": {
              "outlinewidth": 0,
              "ticks": ""
             }
            },
            "type": "scatterpolargl"
           }
          ],
          "scatterternary": [
           {
            "marker": {
             "colorbar": {
              "outlinewidth": 0,
              "ticks": ""
             }
            },
            "type": "scatterternary"
           }
          ],
          "surface": [
           {
            "colorbar": {
             "outlinewidth": 0,
             "ticks": ""
            },
            "colorscale": [
             [
              0,
              "#0d0887"
             ],
             [
              0.1111111111111111,
              "#46039f"
             ],
             [
              0.2222222222222222,
              "#7201a8"
             ],
             [
              0.3333333333333333,
              "#9c179e"
             ],
             [
              0.4444444444444444,
              "#bd3786"
             ],
             [
              0.5555555555555556,
              "#d8576b"
             ],
             [
              0.6666666666666666,
              "#ed7953"
             ],
             [
              0.7777777777777778,
              "#fb9f3a"
             ],
             [
              0.8888888888888888,
              "#fdca26"
             ],
             [
              1,
              "#f0f921"
             ]
            ],
            "type": "surface"
           }
          ],
          "table": [
           {
            "cells": {
             "fill": {
              "color": "#EBF0F8"
             },
             "line": {
              "color": "white"
             }
            },
            "header": {
             "fill": {
              "color": "#C8D4E3"
             },
             "line": {
              "color": "white"
             }
            },
            "type": "table"
           }
          ]
         },
         "layout": {
          "annotationdefaults": {
           "arrowcolor": "#2a3f5f",
           "arrowhead": 0,
           "arrowwidth": 1
          },
          "autotypenumbers": "strict",
          "coloraxis": {
           "colorbar": {
            "outlinewidth": 0,
            "ticks": ""
           }
          },
          "colorscale": {
           "diverging": [
            [
             0,
             "#8e0152"
            ],
            [
             0.1,
             "#c51b7d"
            ],
            [
             0.2,
             "#de77ae"
            ],
            [
             0.3,
             "#f1b6da"
            ],
            [
             0.4,
             "#fde0ef"
            ],
            [
             0.5,
             "#f7f7f7"
            ],
            [
             0.6,
             "#e6f5d0"
            ],
            [
             0.7,
             "#b8e186"
            ],
            [
             0.8,
             "#7fbc41"
            ],
            [
             0.9,
             "#4d9221"
            ],
            [
             1,
             "#276419"
            ]
           ],
           "sequential": [
            [
             0,
             "#0d0887"
            ],
            [
             0.1111111111111111,
             "#46039f"
            ],
            [
             0.2222222222222222,
             "#7201a8"
            ],
            [
             0.3333333333333333,
             "#9c179e"
            ],
            [
             0.4444444444444444,
             "#bd3786"
            ],
            [
             0.5555555555555556,
             "#d8576b"
            ],
            [
             0.6666666666666666,
             "#ed7953"
            ],
            [
             0.7777777777777778,
             "#fb9f3a"
            ],
            [
             0.8888888888888888,
             "#fdca26"
            ],
            [
             1,
             "#f0f921"
            ]
           ],
           "sequentialminus": [
            [
             0,
             "#0d0887"
            ],
            [
             0.1111111111111111,
             "#46039f"
            ],
            [
             0.2222222222222222,
             "#7201a8"
            ],
            [
             0.3333333333333333,
             "#9c179e"
            ],
            [
             0.4444444444444444,
             "#bd3786"
            ],
            [
             0.5555555555555556,
             "#d8576b"
            ],
            [
             0.6666666666666666,
             "#ed7953"
            ],
            [
             0.7777777777777778,
             "#fb9f3a"
            ],
            [
             0.8888888888888888,
             "#fdca26"
            ],
            [
             1,
             "#f0f921"
            ]
           ]
          },
          "colorway": [
           "#636efa",
           "#EF553B",
           "#00cc96",
           "#ab63fa",
           "#FFA15A",
           "#19d3f3",
           "#FF6692",
           "#B6E880",
           "#FF97FF",
           "#FECB52"
          ],
          "font": {
           "color": "#2a3f5f"
          },
          "geo": {
           "bgcolor": "white",
           "lakecolor": "white",
           "landcolor": "white",
           "showlakes": true,
           "showland": true,
           "subunitcolor": "#C8D4E3"
          },
          "hoverlabel": {
           "align": "left"
          },
          "hovermode": "closest",
          "mapbox": {
           "style": "light"
          },
          "paper_bgcolor": "white",
          "plot_bgcolor": "white",
          "polar": {
           "angularaxis": {
            "gridcolor": "#EBF0F8",
            "linecolor": "#EBF0F8",
            "ticks": ""
           },
           "bgcolor": "white",
           "radialaxis": {
            "gridcolor": "#EBF0F8",
            "linecolor": "#EBF0F8",
            "ticks": ""
           }
          },
          "scene": {
           "xaxis": {
            "backgroundcolor": "white",
            "gridcolor": "#DFE8F3",
            "gridwidth": 2,
            "linecolor": "#EBF0F8",
            "showbackground": true,
            "ticks": "",
            "zerolinecolor": "#EBF0F8"
           },
           "yaxis": {
            "backgroundcolor": "white",
            "gridcolor": "#DFE8F3",
            "gridwidth": 2,
            "linecolor": "#EBF0F8",
            "showbackground": true,
            "ticks": "",
            "zerolinecolor": "#EBF0F8"
           },
           "zaxis": {
            "backgroundcolor": "white",
            "gridcolor": "#DFE8F3",
            "gridwidth": 2,
            "linecolor": "#EBF0F8",
            "showbackground": true,
            "ticks": "",
            "zerolinecolor": "#EBF0F8"
           }
          },
          "shapedefaults": {
           "line": {
            "color": "#2a3f5f"
           }
          },
          "ternary": {
           "aaxis": {
            "gridcolor": "#DFE8F3",
            "linecolor": "#A2B1C6",
            "ticks": ""
           },
           "baxis": {
            "gridcolor": "#DFE8F3",
            "linecolor": "#A2B1C6",
            "ticks": ""
           },
           "bgcolor": "white",
           "caxis": {
            "gridcolor": "#DFE8F3",
            "linecolor": "#A2B1C6",
            "ticks": ""
           }
          },
          "title": {
           "x": 0.05
          },
          "xaxis": {
           "automargin": true,
           "gridcolor": "#EBF0F8",
           "linecolor": "#EBF0F8",
           "ticks": "",
           "title": {
            "standoff": 15
           },
           "zerolinecolor": "#EBF0F8",
           "zerolinewidth": 2
          },
          "yaxis": {
           "automargin": true,
           "gridcolor": "#EBF0F8",
           "linecolor": "#EBF0F8",
           "ticks": "",
           "title": {
            "standoff": 15
           },
           "zerolinecolor": "#EBF0F8",
           "zerolinewidth": 2
          }
         }
        },
        "xaxis": {
         "anchor": "y",
         "autorange": true,
         "domain": [
          0,
          1
         ],
         "range": [
          -0.5,
          19.5
         ],
         "type": "linear"
        },
        "yaxis": {
         "anchor": "x",
         "autorange": true,
         "domain": [
          0,
          1
         ],
         "range": [
          15.5,
          -0.5
         ],
         "type": "category"
        }
       }
      },
      "image/png": "[encoded data removed]",
      "text/html": [
       "<div>                            <div id=\"ebf3bfeb-214f-4d1c-8670-60e60cedd702\" class=\"plotly-graph-div\" style=\"height:600px; width:100%;\"></div>            <script type=\"text/javascript\">                require([\"plotly\"], function(Plotly) {                    window.PLOTLYENV=window.PLOTLYENV || {};                                    if (document.getElementById(\"ebf3bfeb-214f-4d1c-8670-60e60cedd702\")) {                    Plotly.newPlot(                        \"ebf3bfeb-214f-4d1c-8670-60e60cedd702\",                        [{\"coloraxis\":\"coloraxis\",\"name\":\"0\",\"x\":[0,1,2,3,4,5,6,7,8,9,10,11,12,13,14,15,16,17,18,19],\"y\":[\"Helichrysum stoechas\",\"Piptatherum miliaceum\",\"Hyparrhenia sinaica\",\"Reichardia tingitana\",\"Dittrichia viscosa\",\"Sonchus tenerrimus\",\"Linum strictum\",\"Pinus halepensis\",\"Leontodon longirostris\",\"Phagnalon saxatile\",\"Plantago crassifolia\",\"Fagonia cretica\",\"Atriplex halimus\",\"Lygeum spartum\",\"Paronychia suffruticosa\",\"Limonium carthaginense\"],\"z\":[[0,0,255,255,0,255,255,255,0,0,255,255,255,255,255,255,255,0,255,0],[255,255,255,255,255,0,255,0,255,255,255,255,0,255,0,255,0,255,255,0],[0,0,0,0,0,255,0,0,0,0,0,0,255,0,0,0,255,0,0,0],[0,0,0,255,255,0,0,0,0,0,0,0,0,0,0,255,0,0,255,255],[255,255,0,255,0,0,255,0,255,0,0,255,0,255,0,0,0,0,255,0],[0,0,255,0,0,0,0,0,0,255,255,0,0,255,0,255,0,0,255,0],[0,0,255,0,0,255,0,0,0,0,0,0,0,0,0,0,0,0,0,0],[0,0,0,0,0,0,0,255,0,0,0,0,0,0,255,0,0,0,0,0],[255,0,255,255,255,0,0,0,0,0,0,0,0,0,255,0,0,0,255,0],[0,0,255,0,0,0,255,255,0,0,255,0,0,0,255,0,0,0,255,0],[255,0,0,255,255,0,0,0,0,0,0,0,0,255,0,0,0,0,255,0],[0,0,0,0,0,0,0,0,0,0,0,0,0,0,0,0,0,0,0,0],[0,0,0,0,255,0,0,0,0,0,0,0,0,0,0,255,0,0,255,255],[0,0,0,0,0,0,0,0,0,0,0,0,0,0,255,0,0,0,0,0],[0,0,0,0,0,0,0,0,0,0,0,0,0,0,255,0,0,0,0,0],[0,0,0,0,0,0,255,0,0,0,0,0,0,0,0,0,0,255,0,0]],\"type\":\"heatmap\",\"xaxis\":\"x\",\"yaxis\":\"y\",\"hovertemplate\":\"x: %{x}<br>y: %{y}<br>color: %{z}<extra></extra>\"}],                        {\"template\":{\"data\":{\"histogram2dcontour\":[{\"type\":\"histogram2dcontour\",\"colorbar\":{\"outlinewidth\":0,\"ticks\":\"\"},\"colorscale\":[[0.0,\"#0d0887\"],[0.1111111111111111,\"#46039f\"],[0.2222222222222222,\"#7201a8\"],[0.3333333333333333,\"#9c179e\"],[0.4444444444444444,\"#bd3786\"],[0.5555555555555556,\"#d8576b\"],[0.6666666666666666,\"#ed7953\"],[0.7777777777777778,\"#fb9f3a\"],[0.8888888888888888,\"#fdca26\"],[1.0,\"#f0f921\"]]}],\"choropleth\":[{\"type\":\"choropleth\",\"colorbar\":{\"outlinewidth\":0,\"ticks\":\"\"}}],\"histogram2d\":[{\"type\":\"histogram2d\",\"colorbar\":{\"outlinewidth\":0,\"ticks\":\"\"},\"colorscale\":[[0.0,\"#0d0887\"],[0.1111111111111111,\"#46039f\"],[0.2222222222222222,\"#7201a8\"],[0.3333333333333333,\"#9c179e\"],[0.4444444444444444,\"#bd3786\"],[0.5555555555555556,\"#d8576b\"],[0.6666666666666666,\"#ed7953\"],[0.7777777777777778,\"#fb9f3a\"],[0.8888888888888888,\"#fdca26\"],[1.0,\"#f0f921\"]]}],\"heatmap\":[{\"type\":\"heatmap\",\"colorbar\":{\"outlinewidth\":0,\"ticks\":\"\"},\"colorscale\":[[0.0,\"#0d0887\"],[0.1111111111111111,\"#46039f\"],[0.2222222222222222,\"#7201a8\"],[0.3333333333333333,\"#9c179e\"],[0.4444444444444444,\"#bd3786\"],[0.5555555555555556,\"#d8576b\"],[0.6666666666666666,\"#ed7953\"],[0.7777777777777778,\"#fb9f3a\"],[0.8888888888888888,\"#fdca26\"],[1.0,\"#f0f921\"]]}],\"heatmapgl\":[{\"type\":\"heatmapgl\",\"colorbar\":{\"outlinewidth\":0,\"ticks\":\"\"},\"colorscale\":[[0.0,\"#0d0887\"],[0.1111111111111111,\"#46039f\"],[0.2222222222222222,\"#7201a8\"],[0.3333333333333333,\"#9c179e\"],[0.4444444444444444,\"#bd3786\"],[0.5555555555555556,\"#d8576b\"],[0.6666666666666666,\"#ed7953\"],[0.7777777777777778,\"#fb9f3a\"],[0.8888888888888888,\"#fdca26\"],[1.0,\"#f0f921\"]]}],\"contourcarpet\":[{\"type\":\"contourcarpet\",\"colorbar\":{\"outlinewidth\":0,\"ticks\":\"\"}}],\"contour\":[{\"type\":\"contour\",\"colorbar\":{\"outlinewidth\":0,\"ticks\":\"\"},\"colorscale\":[[0.0,\"#0d0887\"],[0.1111111111111111,\"#46039f\"],[0.2222222222222222,\"#7201a8\"],[0.3333333333333333,\"#9c179e\"],[0.4444444444444444,\"#bd3786\"],[0.5555555555555556,\"#d8576b\"],[0.6666666666666666,\"#ed7953\"],[0.7777777777777778,\"#fb9f3a\"],[0.8888888888888888,\"#fdca26\"],[1.0,\"#f0f921\"]]}],\"surface\":[{\"type\":\"surface\",\"colorbar\":{\"outlinewidth\":0,\"ticks\":\"\"},\"colorscale\":[[0.0,\"#0d0887\"],[0.1111111111111111,\"#46039f\"],[0.2222222222222222,\"#7201a8\"],[0.3333333333333333,\"#9c179e\"],[0.4444444444444444,\"#bd3786\"],[0.5555555555555556,\"#d8576b\"],[0.6666666666666666,\"#ed7953\"],[0.7777777777777778,\"#fb9f3a\"],[0.8888888888888888,\"#fdca26\"],[1.0,\"#f0f921\"]]}],\"mesh3d\":[{\"type\":\"mesh3d\",\"colorbar\":{\"outlinewidth\":0,\"ticks\":\"\"}}],\"scatter\":[{\"fillpattern\":{\"fillmode\":\"overlay\",\"size\":10,\"solidity\":0.2},\"type\":\"scatter\"}],\"parcoords\":[{\"type\":\"parcoords\",\"line\":{\"colorbar\":{\"outlinewidth\":0,\"ticks\":\"\"}}}],\"scatterpolargl\":[{\"type\":\"scatterpolargl\",\"marker\":{\"colorbar\":{\"outlinewidth\":0,\"ticks\":\"\"}}}],\"bar\":[{\"error_x\":{\"color\":\"#2a3f5f\"},\"error_y\":{\"color\":\"#2a3f5f\"},\"marker\":{\"line\":{\"color\":\"white\",\"width\":0.5},\"pattern\":{\"fillmode\":\"overlay\",\"size\":10,\"solidity\":0.2}},\"type\":\"bar\"}],\"scattergeo\":[{\"type\":\"scattergeo\",\"marker\":{\"colorbar\":{\"outlinewidth\":0,\"ticks\":\"\"}}}],\"scatterpolar\":[{\"type\":\"scatterpolar\",\"marker\":{\"colorbar\":{\"outlinewidth\":0,\"ticks\":\"\"}}}],\"histogram\":[{\"marker\":{\"pattern\":{\"fillmode\":\"overlay\",\"size\":10,\"solidity\":0.2}},\"type\":\"histogram\"}],\"scattergl\":[{\"type\":\"scattergl\",\"marker\":{\"colorbar\":{\"outlinewidth\":0,\"ticks\":\"\"}}}],\"scatter3d\":[{\"type\":\"scatter3d\",\"line\":{\"colorbar\":{\"outlinewidth\":0,\"ticks\":\"\"}},\"marker\":{\"colorbar\":{\"outlinewidth\":0,\"ticks\":\"\"}}}],\"scattermapbox\":[{\"type\":\"scattermapbox\",\"marker\":{\"colorbar\":{\"outlinewidth\":0,\"ticks\":\"\"}}}],\"scatterternary\":[{\"type\":\"scatterternary\",\"marker\":{\"colorbar\":{\"outlinewidth\":0,\"ticks\":\"\"}}}],\"scattercarpet\":[{\"type\":\"scattercarpet\",\"marker\":{\"colorbar\":{\"outlinewidth\":0,\"ticks\":\"\"}}}],\"carpet\":[{\"aaxis\":{\"endlinecolor\":\"#2a3f5f\",\"gridcolor\":\"#C8D4E3\",\"linecolor\":\"#C8D4E3\",\"minorgridcolor\":\"#C8D4E3\",\"startlinecolor\":\"#2a3f5f\"},\"baxis\":{\"endlinecolor\":\"#2a3f5f\",\"gridcolor\":\"#C8D4E3\",\"linecolor\":\"#C8D4E3\",\"minorgridcolor\":\"#C8D4E3\",\"startlinecolor\":\"#2a3f5f\"},\"type\":\"carpet\"}],\"table\":[{\"cells\":{\"fill\":{\"color\":\"#EBF0F8\"},\"line\":{\"color\":\"white\"}},\"header\":{\"fill\":{\"color\":\"#C8D4E3\"},\"line\":{\"color\":\"white\"}},\"type\":\"table\"}],\"barpolar\":[{\"marker\":{\"line\":{\"color\":\"white\",\"width\":0.5},\"pattern\":{\"fillmode\":\"overlay\",\"size\":10,\"solidity\":0.2}},\"type\":\"barpolar\"}],\"pie\":[{\"automargin\":true,\"type\":\"pie\"}]},\"layout\":{\"autotypenumbers\":\"strict\",\"colorway\":[\"#636efa\",\"#EF553B\",\"#00cc96\",\"#ab63fa\",\"#FFA15A\",\"#19d3f3\",\"#FF6692\",\"#B6E880\",\"#FF97FF\",\"#FECB52\"],\"font\":{\"color\":\"#2a3f5f\"},\"hovermode\":\"closest\",\"hoverlabel\":{\"align\":\"left\"},\"paper_bgcolor\":\"white\",\"plot_bgcolor\":\"white\",\"polar\":{\"bgcolor\":\"white\",\"angularaxis\":{\"gridcolor\":\"#EBF0F8\",\"linecolor\":\"#EBF0F8\",\"ticks\":\"\"},\"radialaxis\":{\"gridcolor\":\"#EBF0F8\",\"linecolor\":\"#EBF0F8\",\"ticks\":\"\"}},\"ternary\":{\"bgcolor\":\"white\",\"aaxis\":{\"gridcolor\":\"#DFE8F3\",\"linecolor\":\"#A2B1C6\",\"ticks\":\"\"},\"baxis\":{\"gridcolor\":\"#DFE8F3\",\"linecolor\":\"#A2B1C6\",\"ticks\":\"\"},\"caxis\":{\"gridcolor\":\"#DFE8F3\",\"linecolor\":\"#A2B1C6\",\"ticks\":\"\"}},\"coloraxis\":{\"colorbar\":{\"outlinewidth\":0,\"ticks\":\"\"}},\"colorscale\":{\"sequential\":[[0.0,\"#0d0887\"],[0.1111111111111111,\"#46039f\"],[0.2222222222222222,\"#7201a8\"],[0.3333333333333333,\"#9c179e\"],[0.4444444444444444,\"#bd3786\"],[0.5555555555555556,\"#d8576b\"],[0.6666666666666666,\"#ed7953\"],[0.7777777777777778,\"#fb9f3a\"],[0.8888888888888888,\"#fdca26\"],[1.0,\"#f0f921\"]],\"sequentialminus\":[[0.0,\"#0d0887\"],[0.1111111111111111,\"#46039f\"],[0.2222222222222222,\"#7201a8\"],[0.3333333333333333,\"#9c179e\"],[0.4444444444444444,\"#bd3786\"],[0.5555555555555556,\"#d8576b\"],[0.6666666666666666,\"#ed7953\"],[0.7777777777777778,\"#fb9f3a\"],[0.8888888888888888,\"#fdca26\"],[1.0,\"#f0f921\"]],\"diverging\":[[0,\"#8e0152\"],[0.1,\"#c51b7d\"],[0.2,\"#de77ae\"],[0.3,\"#f1b6da\"],[0.4,\"#fde0ef\"],[0.5,\"#f7f7f7\"],[0.6,\"#e6f5d0\"],[0.7,\"#b8e186\"],[0.8,\"#7fbc41\"],[0.9,\"#4d9221\"],[1,\"#276419\"]]},\"xaxis\":{\"gridcolor\":\"#EBF0F8\",\"linecolor\":\"#EBF0F8\",\"ticks\":\"\",\"title\":{\"standoff\":15},\"zerolinecolor\":\"#EBF0F8\",\"automargin\":true,\"zerolinewidth\":2},\"yaxis\":{\"gridcolor\":\"#EBF0F8\",\"linecolor\":\"#EBF0F8\",\"ticks\":\"\",\"title\":{\"standoff\":15},\"zerolinecolor\":\"#EBF0F8\",\"automargin\":true,\"zerolinewidth\":2},\"scene\":{\"xaxis\":{\"backgroundcolor\":\"white\",\"gridcolor\":\"#DFE8F3\",\"linecolor\":\"#EBF0F8\",\"showbackground\":true,\"ticks\":\"\",\"zerolinecolor\":\"#EBF0F8\",\"gridwidth\":2},\"yaxis\":{\"backgroundcolor\":\"white\",\"gridcolor\":\"#DFE8F3\",\"linecolor\":\"#EBF0F8\",\"showbackground\":true,\"ticks\":\"\",\"zerolinecolor\":\"#EBF0F8\",\"gridwidth\":2},\"zaxis\":{\"backgroundcolor\":\"white\",\"gridcolor\":\"#DFE8F3\",\"linecolor\":\"#EBF0F8\",\"showbackground\":true,\"ticks\":\"\",\"zerolinecolor\":\"#EBF0F8\",\"gridwidth\":2}},\"shapedefaults\":{\"line\":{\"color\":\"#2a3f5f\"}},\"annotationdefaults\":{\"arrowcolor\":\"#2a3f5f\",\"arrowhead\":0,\"arrowwidth\":1},\"geo\":{\"bgcolor\":\"white\",\"landcolor\":\"white\",\"subunitcolor\":\"#C8D4E3\",\"showland\":true,\"showlakes\":true,\"lakecolor\":\"white\"},\"title\":{\"x\":0.05},\"mapbox\":{\"style\":\"light\"}}},\"xaxis\":{\"anchor\":\"y\",\"domain\":[0.0,1.0]},\"yaxis\":{\"anchor\":\"x\",\"domain\":[0.0,1.0],\"autorange\":\"reversed\"},\"coloraxis\":{\"colorscale\":[[0,\"white\"],[1,\"grey\"]]},\"margin\":{\"t\":60},\"height\":600},                        {\"responsive\": true}                    ).then(function(){\n",
       "                            \n",
       "var gd = document.getElementById('ebf3bfeb-214f-4d1c-8670-60e60cedd702');\n",
       "var x = new MutationObserver(function (mutations, observer) {{\n",
       "        var display = window.getComputedStyle(gd).display;\n",
       "        if (!display || display === 'none') {{\n",
       "            console.log([gd, 'removed!']);\n",
       "            Plotly.purge(gd);\n",
       "            observer.disconnect();\n",
       "        }}\n",
       "}});\n",
       "\n",
       "// Listen for the removal of the full notebook cells\n",
       "var notebookContainer = gd.closest('#notebook-container');\n",
       "if (notebookContainer) {{\n",
       "    x.observe(notebookContainer, {childList: true});\n",
       "}}\n",
       "\n",
       "// Listen for the clearing of the current output cell\n",
       "var outputEl = gd.closest('.output');\n",
       "if (outputEl) {{\n",
       "    x.observe(outputEl, {childList: true});\n",
       "}}\n",
       "\n",
       "                        })                };                });            </script>        </div>"
      ]
     },
     "metadata": {},
     "output_type": "display_data"
    }
   ],
   "source": [
    "patches = get_patches(config)\n",
    "patches.sample(n=20).reset_index(drop=True).T.plot(**{'kind' : 'imshow', 'aspect' : 'auto', 'color_continuous_scale' : [(0,\"white\"), (1,'grey')], 'height' : 600})"
   ]
  },
  {
   "cell_type": "code",
   "execution_count": 144,
   "metadata": {
    "tags": []
   },
   "outputs": [
    {
     "data": {
      "text/plain": [
       "Index(['Helichrysum stoechas', 'Piptatherum miliaceum', 'Hyparrhenia sinaica',\n",
       "       'Reichardia tingitana', 'Dittrichia viscosa', 'Sonchus tenerrimus',\n",
       "       'Linum strictum', 'Pinus halepensis', 'Leontodon longirostris',\n",
       "       'Phagnalon saxatile', 'Plantago crassifolia', 'Fagonia cretica',\n",
       "       'Atriplex halimus', 'Lygeum spartum', 'Paronychia suffruticosa',\n",
       "       'Limonium carthaginense'],\n",
       "      dtype='object')"
      ]
     },
     "execution_count": 144,
     "metadata": {},
     "output_type": "execute_result"
    }
   ],
   "source": [
    "species_target = get_species(config['testing_data'])\n",
    "species_target"
   ]
  },
  {
   "cell_type": "code",
   "execution_count": 145,
   "metadata": {
    "tags": []
   },
   "outputs": [
    {
     "data": {
      "text/plain": [
       "{'data': PosixPath('/Users/johannes/work/resecarin/data/phylo_mexico_all_chunk_size=16'),\n",
       " 'outputs': PosixPath('/Users/johannes/work/resecarin/outputs/phylo_mexico_all_chunk_size=16'),\n",
       " 'figures': PosixPath('/Users/johannes/work/resecarin/figures/phylo_mexico_all_chunk_size=16'),\n",
       " 'models': PosixPath('/Users/johannes/work/resecarin/models/phylo_mexico_all_chunk_size=16')}"
      ]
     },
     "execution_count": 145,
     "metadata": {},
     "output_type": "execute_result"
    }
   ],
   "source": [
    "paths"
   ]
  },
  {
   "cell_type": "code",
   "execution_count": 146,
   "metadata": {
    "tags": []
   },
   "outputs": [
    {
     "data": {
      "text/plain": [
       "[PosixPath('/Users/johannes/work/resecarin/data/union_patches/phydist.csv')]"
      ]
     },
     "execution_count": 146,
     "metadata": {},
     "output_type": "execute_result"
    }
   ],
   "source": [
    "paths = set_paths(config['testing_data'])\n",
    "csvs = [p for p in paths['data'].glob('phy*.csv')]\n",
    "csvs\n"
   ]
  },
  {
   "cell_type": "code",
   "execution_count": 147,
   "metadata": {
    "tags": []
   },
   "outputs": [
    {
     "data": {
      "text/html": [
       "<div>\n",
       "<style scoped>\n",
       "    .dataframe tbody tr th:only-of-type {\n",
       "        vertical-align: middle;\n",
       "    }\n",
       "\n",
       "    .dataframe tbody tr th {\n",
       "        vertical-align: top;\n",
       "    }\n",
       "\n",
       "    .dataframe thead th {\n",
       "        text-align: right;\n",
       "    }\n",
       "</style>\n",
       "<table border=\"1\" class=\"dataframe\">\n",
       "  <thead>\n",
       "    <tr style=\"text-align: right;\">\n",
       "      <th></th>\n",
       "      <th>Jasonia glutinosa</th>\n",
       "      <th>Aetheorhiza bulbosa</th>\n",
       "      <th>Helichrysum stoechas</th>\n",
       "      <th>Filago fuscescens</th>\n",
       "      <th>Bombycilaena erecta</th>\n",
       "      <th>Filago gallica</th>\n",
       "      <th>Phagnalon saxatile</th>\n",
       "      <th>Phagnalon rupestre</th>\n",
       "      <th>Dittrichia viscosa</th>\n",
       "      <th>Pallenis spinosa</th>\n",
       "      <th>...</th>\n",
       "      <th>Stipa tenacissima</th>\n",
       "      <th>Lygeum spartum</th>\n",
       "      <th>Carex humilis</th>\n",
       "      <th>Juncus acutus</th>\n",
       "      <th>Chamaerops humilis</th>\n",
       "      <th>Juniperus phoenicea</th>\n",
       "      <th>Juniperus oxycedrus</th>\n",
       "      <th>Tetraclinis articulata</th>\n",
       "      <th>Pinus halepensis</th>\n",
       "      <th>Ephedra fragilis</th>\n",
       "    </tr>\n",
       "  </thead>\n",
       "  <tbody>\n",
       "    <tr>\n",
       "      <th>Jasonia glutinosa</th>\n",
       "      <td>0.000000</td>\n",
       "      <td>90.519268</td>\n",
       "      <td>90.519269</td>\n",
       "      <td>90.519269</td>\n",
       "      <td>90.519269</td>\n",
       "      <td>90.519269</td>\n",
       "      <td>90.519269</td>\n",
       "      <td>90.519269</td>\n",
       "      <td>90.519269</td>\n",
       "      <td>90.519269</td>\n",
       "      <td>...</td>\n",
       "      <td>271.516129</td>\n",
       "      <td>271.516129</td>\n",
       "      <td>271.516128</td>\n",
       "      <td>271.516129</td>\n",
       "      <td>271.516129</td>\n",
       "      <td>650.100055</td>\n",
       "      <td>650.100055</td>\n",
       "      <td>650.100055</td>\n",
       "      <td>650.100055</td>\n",
       "      <td>650.100055</td>\n",
       "    </tr>\n",
       "    <tr>\n",
       "      <th>Aetheorhiza bulbosa</th>\n",
       "      <td>90.519268</td>\n",
       "      <td>0.000000</td>\n",
       "      <td>90.519269</td>\n",
       "      <td>90.519269</td>\n",
       "      <td>90.519269</td>\n",
       "      <td>90.519269</td>\n",
       "      <td>90.519269</td>\n",
       "      <td>90.519269</td>\n",
       "      <td>90.519269</td>\n",
       "      <td>90.519269</td>\n",
       "      <td>...</td>\n",
       "      <td>271.516129</td>\n",
       "      <td>271.516129</td>\n",
       "      <td>271.516128</td>\n",
       "      <td>271.516129</td>\n",
       "      <td>271.516129</td>\n",
       "      <td>650.100055</td>\n",
       "      <td>650.100055</td>\n",
       "      <td>650.100055</td>\n",
       "      <td>650.100055</td>\n",
       "      <td>650.100055</td>\n",
       "    </tr>\n",
       "    <tr>\n",
       "      <th>Helichrysum stoechas</th>\n",
       "      <td>90.519269</td>\n",
       "      <td>90.519269</td>\n",
       "      <td>0.000000</td>\n",
       "      <td>13.516502</td>\n",
       "      <td>13.516502</td>\n",
       "      <td>13.516502</td>\n",
       "      <td>27.369892</td>\n",
       "      <td>27.369892</td>\n",
       "      <td>44.199414</td>\n",
       "      <td>44.199414</td>\n",
       "      <td>...</td>\n",
       "      <td>271.516130</td>\n",
       "      <td>271.516130</td>\n",
       "      <td>271.516129</td>\n",
       "      <td>271.516130</td>\n",
       "      <td>271.516130</td>\n",
       "      <td>650.100056</td>\n",
       "      <td>650.100056</td>\n",
       "      <td>650.100056</td>\n",
       "      <td>650.100056</td>\n",
       "      <td>650.100056</td>\n",
       "    </tr>\n",
       "    <tr>\n",
       "      <th>Filago fuscescens</th>\n",
       "      <td>90.519269</td>\n",
       "      <td>90.519269</td>\n",
       "      <td>13.516502</td>\n",
       "      <td>0.000000</td>\n",
       "      <td>5.834124</td>\n",
       "      <td>7.725148</td>\n",
       "      <td>27.369892</td>\n",
       "      <td>27.369892</td>\n",
       "      <td>44.199414</td>\n",
       "      <td>44.199414</td>\n",
       "      <td>...</td>\n",
       "      <td>271.516130</td>\n",
       "      <td>271.516130</td>\n",
       "      <td>271.516129</td>\n",
       "      <td>271.516130</td>\n",
       "      <td>271.516130</td>\n",
       "      <td>650.100056</td>\n",
       "      <td>650.100056</td>\n",
       "      <td>650.100056</td>\n",
       "      <td>650.100056</td>\n",
       "      <td>650.100056</td>\n",
       "    </tr>\n",
       "    <tr>\n",
       "      <th>Bombycilaena erecta</th>\n",
       "      <td>90.519269</td>\n",
       "      <td>90.519269</td>\n",
       "      <td>13.516502</td>\n",
       "      <td>5.834124</td>\n",
       "      <td>0.000000</td>\n",
       "      <td>7.725148</td>\n",
       "      <td>27.369892</td>\n",
       "      <td>27.369892</td>\n",
       "      <td>44.199414</td>\n",
       "      <td>44.199414</td>\n",
       "      <td>...</td>\n",
       "      <td>271.516130</td>\n",
       "      <td>271.516130</td>\n",
       "      <td>271.516129</td>\n",
       "      <td>271.516130</td>\n",
       "      <td>271.516130</td>\n",
       "      <td>650.100056</td>\n",
       "      <td>650.100056</td>\n",
       "      <td>650.100056</td>\n",
       "      <td>650.100056</td>\n",
       "      <td>650.100056</td>\n",
       "    </tr>\n",
       "    <tr>\n",
       "      <th>...</th>\n",
       "      <td>...</td>\n",
       "      <td>...</td>\n",
       "      <td>...</td>\n",
       "      <td>...</td>\n",
       "      <td>...</td>\n",
       "      <td>...</td>\n",
       "      <td>...</td>\n",
       "      <td>...</td>\n",
       "      <td>...</td>\n",
       "      <td>...</td>\n",
       "      <td>...</td>\n",
       "      <td>...</td>\n",
       "      <td>...</td>\n",
       "      <td>...</td>\n",
       "      <td>...</td>\n",
       "      <td>...</td>\n",
       "      <td>...</td>\n",
       "      <td>...</td>\n",
       "      <td>...</td>\n",
       "      <td>...</td>\n",
       "      <td>...</td>\n",
       "    </tr>\n",
       "    <tr>\n",
       "      <th>Juniperus phoenicea</th>\n",
       "      <td>650.100055</td>\n",
       "      <td>650.100055</td>\n",
       "      <td>650.100056</td>\n",
       "      <td>650.100056</td>\n",
       "      <td>650.100056</td>\n",
       "      <td>650.100056</td>\n",
       "      <td>650.100056</td>\n",
       "      <td>650.100056</td>\n",
       "      <td>650.100056</td>\n",
       "      <td>650.100056</td>\n",
       "      <td>...</td>\n",
       "      <td>650.100056</td>\n",
       "      <td>650.100056</td>\n",
       "      <td>650.100055</td>\n",
       "      <td>650.100056</td>\n",
       "      <td>650.100056</td>\n",
       "      <td>0.000000</td>\n",
       "      <td>10.072960</td>\n",
       "      <td>40.753274</td>\n",
       "      <td>253.645516</td>\n",
       "      <td>541.715216</td>\n",
       "    </tr>\n",
       "    <tr>\n",
       "      <th>Juniperus oxycedrus</th>\n",
       "      <td>650.100055</td>\n",
       "      <td>650.100055</td>\n",
       "      <td>650.100056</td>\n",
       "      <td>650.100056</td>\n",
       "      <td>650.100056</td>\n",
       "      <td>650.100056</td>\n",
       "      <td>650.100056</td>\n",
       "      <td>650.100056</td>\n",
       "      <td>650.100056</td>\n",
       "      <td>650.100056</td>\n",
       "      <td>...</td>\n",
       "      <td>650.100056</td>\n",
       "      <td>650.100056</td>\n",
       "      <td>650.100055</td>\n",
       "      <td>650.100056</td>\n",
       "      <td>650.100056</td>\n",
       "      <td>10.072960</td>\n",
       "      <td>0.000000</td>\n",
       "      <td>40.753274</td>\n",
       "      <td>253.645516</td>\n",
       "      <td>541.715216</td>\n",
       "    </tr>\n",
       "    <tr>\n",
       "      <th>Tetraclinis articulata</th>\n",
       "      <td>650.100055</td>\n",
       "      <td>650.100055</td>\n",
       "      <td>650.100056</td>\n",
       "      <td>650.100056</td>\n",
       "      <td>650.100056</td>\n",
       "      <td>650.100056</td>\n",
       "      <td>650.100056</td>\n",
       "      <td>650.100056</td>\n",
       "      <td>650.100056</td>\n",
       "      <td>650.100056</td>\n",
       "      <td>...</td>\n",
       "      <td>650.100056</td>\n",
       "      <td>650.100056</td>\n",
       "      <td>650.100055</td>\n",
       "      <td>650.100056</td>\n",
       "      <td>650.100056</td>\n",
       "      <td>40.753274</td>\n",
       "      <td>40.753274</td>\n",
       "      <td>0.000000</td>\n",
       "      <td>253.645516</td>\n",
       "      <td>541.715216</td>\n",
       "    </tr>\n",
       "    <tr>\n",
       "      <th>Pinus halepensis</th>\n",
       "      <td>650.100055</td>\n",
       "      <td>650.100055</td>\n",
       "      <td>650.100056</td>\n",
       "      <td>650.100056</td>\n",
       "      <td>650.100056</td>\n",
       "      <td>650.100056</td>\n",
       "      <td>650.100056</td>\n",
       "      <td>650.100056</td>\n",
       "      <td>650.100056</td>\n",
       "      <td>650.100056</td>\n",
       "      <td>...</td>\n",
       "      <td>650.100056</td>\n",
       "      <td>650.100056</td>\n",
       "      <td>650.100055</td>\n",
       "      <td>650.100056</td>\n",
       "      <td>650.100056</td>\n",
       "      <td>253.645516</td>\n",
       "      <td>253.645516</td>\n",
       "      <td>253.645516</td>\n",
       "      <td>0.000000</td>\n",
       "      <td>541.715216</td>\n",
       "    </tr>\n",
       "    <tr>\n",
       "      <th>Ephedra fragilis</th>\n",
       "      <td>650.100055</td>\n",
       "      <td>650.100055</td>\n",
       "      <td>650.100056</td>\n",
       "      <td>650.100056</td>\n",
       "      <td>650.100056</td>\n",
       "      <td>650.100056</td>\n",
       "      <td>650.100056</td>\n",
       "      <td>650.100056</td>\n",
       "      <td>650.100056</td>\n",
       "      <td>650.100056</td>\n",
       "      <td>...</td>\n",
       "      <td>650.100056</td>\n",
       "      <td>650.100056</td>\n",
       "      <td>650.100055</td>\n",
       "      <td>650.100056</td>\n",
       "      <td>650.100056</td>\n",
       "      <td>541.715216</td>\n",
       "      <td>541.715216</td>\n",
       "      <td>541.715216</td>\n",
       "      <td>541.715216</td>\n",
       "      <td>0.000000</td>\n",
       "    </tr>\n",
       "  </tbody>\n",
       "</table>\n",
       "<p>191 rows × 191 columns</p>\n",
       "</div>"
      ],
      "text/plain": [
       "                        Jasonia glutinosa  Aetheorhiza bulbosa  \\\n",
       "Jasonia glutinosa                0.000000            90.519268   \n",
       "Aetheorhiza bulbosa             90.519268             0.000000   \n",
       "Helichrysum stoechas            90.519269            90.519269   \n",
       "Filago fuscescens               90.519269            90.519269   \n",
       "Bombycilaena erecta             90.519269            90.519269   \n",
       "...                                   ...                  ...   \n",
       "Juniperus phoenicea            650.100055           650.100055   \n",
       "Juniperus oxycedrus            650.100055           650.100055   \n",
       "Tetraclinis articulata         650.100055           650.100055   \n",
       "Pinus halepensis               650.100055           650.100055   \n",
       "Ephedra fragilis               650.100055           650.100055   \n",
       "\n",
       "                        Helichrysum stoechas  Filago fuscescens  \\\n",
       "Jasonia glutinosa                  90.519269          90.519269   \n",
       "Aetheorhiza bulbosa                90.519269          90.519269   \n",
       "Helichrysum stoechas                0.000000          13.516502   \n",
       "Filago fuscescens                  13.516502           0.000000   \n",
       "Bombycilaena erecta                13.516502           5.834124   \n",
       "...                                      ...                ...   \n",
       "Juniperus phoenicea               650.100056         650.100056   \n",
       "Juniperus oxycedrus               650.100056         650.100056   \n",
       "Tetraclinis articulata            650.100056         650.100056   \n",
       "Pinus halepensis                  650.100056         650.100056   \n",
       "Ephedra fragilis                  650.100056         650.100056   \n",
       "\n",
       "                        Bombycilaena erecta  Filago gallica  \\\n",
       "Jasonia glutinosa                 90.519269       90.519269   \n",
       "Aetheorhiza bulbosa               90.519269       90.519269   \n",
       "Helichrysum stoechas              13.516502       13.516502   \n",
       "Filago fuscescens                  5.834124        7.725148   \n",
       "Bombycilaena erecta                0.000000        7.725148   \n",
       "...                                     ...             ...   \n",
       "Juniperus phoenicea              650.100056      650.100056   \n",
       "Juniperus oxycedrus              650.100056      650.100056   \n",
       "Tetraclinis articulata           650.100056      650.100056   \n",
       "Pinus halepensis                 650.100056      650.100056   \n",
       "Ephedra fragilis                 650.100056      650.100056   \n",
       "\n",
       "                        Phagnalon saxatile  Phagnalon rupestre  \\\n",
       "Jasonia glutinosa                90.519269           90.519269   \n",
       "Aetheorhiza bulbosa              90.519269           90.519269   \n",
       "Helichrysum stoechas             27.369892           27.369892   \n",
       "Filago fuscescens                27.369892           27.369892   \n",
       "Bombycilaena erecta              27.369892           27.369892   \n",
       "...                                    ...                 ...   \n",
       "Juniperus phoenicea             650.100056          650.100056   \n",
       "Juniperus oxycedrus             650.100056          650.100056   \n",
       "Tetraclinis articulata          650.100056          650.100056   \n",
       "Pinus halepensis                650.100056          650.100056   \n",
       "Ephedra fragilis                650.100056          650.100056   \n",
       "\n",
       "                        Dittrichia viscosa  Pallenis spinosa  ...  \\\n",
       "Jasonia glutinosa                90.519269         90.519269  ...   \n",
       "Aetheorhiza bulbosa              90.519269         90.519269  ...   \n",
       "Helichrysum stoechas             44.199414         44.199414  ...   \n",
       "Filago fuscescens                44.199414         44.199414  ...   \n",
       "Bombycilaena erecta              44.199414         44.199414  ...   \n",
       "...                                    ...               ...  ...   \n",
       "Juniperus phoenicea             650.100056        650.100056  ...   \n",
       "Juniperus oxycedrus             650.100056        650.100056  ...   \n",
       "Tetraclinis articulata          650.100056        650.100056  ...   \n",
       "Pinus halepensis                650.100056        650.100056  ...   \n",
       "Ephedra fragilis                650.100056        650.100056  ...   \n",
       "\n",
       "                        Stipa tenacissima  Lygeum spartum  Carex humilis  \\\n",
       "Jasonia glutinosa              271.516129      271.516129     271.516128   \n",
       "Aetheorhiza bulbosa            271.516129      271.516129     271.516128   \n",
       "Helichrysum stoechas           271.516130      271.516130     271.516129   \n",
       "Filago fuscescens              271.516130      271.516130     271.516129   \n",
       "Bombycilaena erecta            271.516130      271.516130     271.516129   \n",
       "...                                   ...             ...            ...   \n",
       "Juniperus phoenicea            650.100056      650.100056     650.100055   \n",
       "Juniperus oxycedrus            650.100056      650.100056     650.100055   \n",
       "Tetraclinis articulata         650.100056      650.100056     650.100055   \n",
       "Pinus halepensis               650.100056      650.100056     650.100055   \n",
       "Ephedra fragilis               650.100056      650.100056     650.100055   \n",
       "\n",
       "                        Juncus acutus  Chamaerops humilis  \\\n",
       "Jasonia glutinosa          271.516129          271.516129   \n",
       "Aetheorhiza bulbosa        271.516129          271.516129   \n",
       "Helichrysum stoechas       271.516130          271.516130   \n",
       "Filago fuscescens          271.516130          271.516130   \n",
       "Bombycilaena erecta        271.516130          271.516130   \n",
       "...                               ...                 ...   \n",
       "Juniperus phoenicea        650.100056          650.100056   \n",
       "Juniperus oxycedrus        650.100056          650.100056   \n",
       "Tetraclinis articulata     650.100056          650.100056   \n",
       "Pinus halepensis           650.100056          650.100056   \n",
       "Ephedra fragilis           650.100056          650.100056   \n",
       "\n",
       "                        Juniperus phoenicea  Juniperus oxycedrus  \\\n",
       "Jasonia glutinosa                650.100055           650.100055   \n",
       "Aetheorhiza bulbosa              650.100055           650.100055   \n",
       "Helichrysum stoechas             650.100056           650.100056   \n",
       "Filago fuscescens                650.100056           650.100056   \n",
       "Bombycilaena erecta              650.100056           650.100056   \n",
       "...                                     ...                  ...   \n",
       "Juniperus phoenicea                0.000000            10.072960   \n",
       "Juniperus oxycedrus               10.072960             0.000000   \n",
       "Tetraclinis articulata            40.753274            40.753274   \n",
       "Pinus halepensis                 253.645516           253.645516   \n",
       "Ephedra fragilis                 541.715216           541.715216   \n",
       "\n",
       "                        Tetraclinis articulata  Pinus halepensis  \\\n",
       "Jasonia glutinosa                   650.100055        650.100055   \n",
       "Aetheorhiza bulbosa                 650.100055        650.100055   \n",
       "Helichrysum stoechas                650.100056        650.100056   \n",
       "Filago fuscescens                   650.100056        650.100056   \n",
       "Bombycilaena erecta                 650.100056        650.100056   \n",
       "...                                        ...               ...   \n",
       "Juniperus phoenicea                  40.753274        253.645516   \n",
       "Juniperus oxycedrus                  40.753274        253.645516   \n",
       "Tetraclinis articulata                0.000000        253.645516   \n",
       "Pinus halepensis                    253.645516          0.000000   \n",
       "Ephedra fragilis                    541.715216        541.715216   \n",
       "\n",
       "                        Ephedra fragilis  \n",
       "Jasonia glutinosa             650.100055  \n",
       "Aetheorhiza bulbosa           650.100055  \n",
       "Helichrysum stoechas          650.100056  \n",
       "Filago fuscescens             650.100056  \n",
       "Bombycilaena erecta           650.100056  \n",
       "...                                  ...  \n",
       "Juniperus phoenicea           541.715216  \n",
       "Juniperus oxycedrus           541.715216  \n",
       "Tetraclinis articulata        541.715216  \n",
       "Pinus halepensis              541.715216  \n",
       "Ephedra fragilis                0.000000  \n",
       "\n",
       "[191 rows x 191 columns]"
      ]
     },
     "execution_count": 147,
     "metadata": {},
     "output_type": "execute_result"
    }
   ],
   "source": [
    "csv = csvs[0]\n",
    "phylo = pd.read_csv(csv, index_col = 0).pipe(clean_names)\n",
    "phylo.index = phylo.index.str.replace('_', ' ')\n",
    "\n",
    "phylo"
   ]
  },
  {
   "cell_type": "code",
   "execution_count": 148,
   "metadata": {
    "tags": []
   },
   "outputs": [
    {
     "data": {
      "text/plain": [
       "Index(['Teucrium libanitis', 'Teucrium carolipaui', 'Teucrium carthaginense',\n",
       "       'Teucrium capitatum', 'Teucrium pseudochamaepitys'],\n",
       "      dtype='object')"
      ]
     },
     "execution_count": 148,
     "metadata": {},
     "output_type": "execute_result"
    }
   ],
   "source": [
    "phylo.columns[phylo.columns.str.startswith('Teucrium')]"
   ]
  },
  {
   "cell_type": "code",
   "execution_count": 149,
   "metadata": {
    "tags": []
   },
   "outputs": [
    {
     "data": {
      "application/vnd.plotly.v1+json": {
       "config": {
        "plotlyServerURL": "https://plot.ly"
       },
       "data": [
        {
         "coloraxis": "coloraxis",
         "hovertemplate": "x: %{x}<br>y: %{y}<br>color: %{z}<extra></extra>",
         "name": "0",
         "type": "heatmap",
         "x": [
          "Jasonia glutinosa",
          "Aetheorhiza bulbosa",
          "Helichrysum stoechas",
          "Filago fuscescens",
          "Bombycilaena erecta",
          "Filago gallica",
          "Phagnalon saxatile",
          "Phagnalon rupestre",
          "Dittrichia viscosa",
          "Pallenis spinosa",
          "Pallenis maritima",
          "Artemisia campestris",
          "Santolina chamaecyparissus",
          "Calendula arvensis",
          "Crepis vesicaria",
          "Leontodon saxatilis subsp. rothii",
          "Hypochaeris radicata",
          "Urospermum picroides",
          "Sonchus asper",
          "Sonchus tenerrimus",
          "Launaea fragilis",
          "Launaea arborescens",
          "Reichardia tingitana",
          "Scorzonera sp",
          "Centaurea melitensis",
          "Carduus tenuiflorus",
          "Atractylis cancellata",
          "Foeniculum vulgare",
          "Pseudorlaya pumila",
          "Distichoselinum tenuifolium",
          "Thapsia sp",
          "Thapsia villosa",
          "Torilis nodosa",
          "Bupleurum fruticescens",
          "Eryngium campestre",
          "Cephalaria leucantha",
          "Lomelosia stellata",
          "Thymus moroderi",
          "Thymus hyemalis",
          "Thymus vulgaris",
          "Rosmarinus officinalis",
          "Lavandula latifolia",
          "Lavandula dentata",
          "Lavandula multifida",
          "Teucrium libanitis",
          "Teucrium carolipaui",
          "Teucrium carthaginense",
          "Teucrium capitatum",
          "Teucrium pseudochamaepitys",
          "Ballota hirsuta",
          "Phlomis lychnitis",
          "Sideritis incana",
          "Sideritis angustifolia",
          "Bellardia trixago",
          "Orobanche sp",
          "Plantago albicans",
          "Plantago bellardii",
          "Plantago afra",
          "Globularia alypum",
          "Linaria arvensis",
          "Misopates orontium",
          "Olea europaea",
          "Echium creticum",
          "Lithodora fruticosa",
          "Valantia hispida",
          "Asperula aristata",
          "Rubia peregrina",
          "Periploca laevigata subsp. angustifolia",
          "Centaurium quadrifolium",
          "Blackstonia perfoliata",
          "Solanum americanum",
          "Withania frutescens",
          "Convolvulus lanuginosus",
          "Convolvulus althaeoides",
          "Erica multiflora",
          "Lysimachia linum-stellatum",
          "Anagallis arvensis",
          "Coris monspeliensis",
          "Mesembryanthemum nodiflorum",
          "Silene secundiflora",
          "Silene inaperta",
          "Dianthus sp",
          "Gypsophila struthium",
          "Spergularia rubra",
          "Polycarpon tetraphyllum",
          "Paronychia suffruticosa",
          "Paronychia argentea",
          "Herniaria fruticosa",
          "Salsola oppositifolia",
          "Salsola genistoides",
          "Salsola kali",
          "Halogeton sativus",
          "Atriplex semibaccata",
          "Atriplex halimus",
          "Rumex bucephalophorus",
          "Limonium sp",
          "Limonium carthaginense",
          "Limonium echioides",
          "Limonium cossonianum",
          "Tamarix canariensis",
          "Thesium humifusum",
          "Osyris lanceolata",
          "Medicago minima",
          "Ononis tridentata",
          "Astragalus sp",
          "Astragalus sesameus",
          "Onobrychis sp",
          "Lotus edulis",
          "Dorycnium pentaphyllum",
          "Anthyllis cytisoides",
          "Anthyllis terniflora",
          "Coronilla minima",
          "Bituminaria bituminosa",
          "Ulex parviflorus",
          "Polygala rupestris",
          "Sanguisorba minor",
          "Rhamnus lycioides",
          "Rhamnus alaternus",
          "Quercus coccifera",
          "Viola arborescens",
          "Euphorbia terracina",
          "Euphorbia exigua",
          "Euphorbia falcata",
          "Mercurialis annua",
          "Linum strictum",
          "Gymnosporia senegalensis",
          "Zygophyllum fabago",
          "Fagonia cretica",
          "Erucastrum virgatum",
          "Diplotaxis harra",
          "Moricandia arvensis",
          "Carrichtera annua",
          "Matthiola fruticulosa",
          "Lobularia maritima",
          "Reseda stricta",
          "Reseda phyteuma",
          "Fumana laevipes",
          "Fumana hispidula",
          "Fumana ericoides",
          "Fumana thymifolia",
          "Cistus albidus",
          "Cistus monspeliensis",
          "Cistus clusii",
          "Helianthemum violaceum",
          "Helianthemum squamatum",
          "Helianthemum cinereum",
          "Helianthemum syriacum",
          "Daphne gnidium",
          "Thymelaea hirsuta",
          "Thymelaea tinctoria",
          "Ruta angustifolia",
          "Haplophyllum rosmarinifolium",
          "Pistacia lentiscus",
          "Erodium malacoides",
          "Erodium cicutarium",
          "Sedum sediforme",
          "Serapias parviflora",
          "Asparagus albus",
          "Asparagus acutifolius",
          "Asparagus horridus",
          "Dipcadi serotinum",
          "Lapiedra martinezii",
          "Asphodelus fistulosus",
          "Hyparrhenia hirta",
          "Cynodon dactylon",
          "Phragmites australis",
          "Vulpia myuros",
          "Psilurus incurvus",
          "Dactylis glomerata",
          "Lamarckia aurea",
          "Rostraria cristata",
          "Avena barbata",
          "Bromus fasciculatus",
          "Bromus diandrus",
          "Brachypodium retusum",
          "Brachypodium phoenicoides",
          "Brachypodium distachyon",
          "Stipa offneri",
          "Piptatherum miliaceum",
          "Stipa parviflora",
          "Stipa capensis",
          "Stipa tenacissima",
          "Lygeum spartum",
          "Carex humilis",
          "Juncus acutus",
          "Chamaerops humilis",
          "Juniperus phoenicea",
          "Juniperus oxycedrus",
          "Tetraclinis articulata",
          "Pinus halepensis",
          "Ephedra fragilis"
         ],
         "xaxis": "x",
         "y": [
          "Teucrium libanitis",
          "Teucrium carolipaui",
          "Teucrium carthaginense",
          "Teucrium capitatum",
          "Teucrium pseudochamaepitys"
         ],
         "yaxis": "y",
         "z": [
          [
           213.48282,
           213.48282,
           213.482821,
           213.482821,
           213.482821,
           213.482821,
           213.482821,
           213.482821,
           213.482821,
           213.482821,
           213.482821,
           213.482821,
           213.48282,
           213.482821,
           213.482821,
           213.48282,
           213.482821,
           213.482821,
           213.482821,
           213.482821,
           213.48282,
           213.48282,
           213.482821,
           213.48282,
           213.482821,
           213.482821,
           213.482821,
           213.482821,
           213.482821,
           213.482821,
           213.48282,
           213.482821,
           213.482821,
           213.482821,
           213.482821,
           213.482821,
           213.48282,
           68.5608340000001,
           68.5608340000001,
           68.560835,
           68.560835,
           68.5608340000002,
           68.5608340000002,
           68.560835,
           0,
           14.1839220000001,
           14.1839220000001,
           14.183923,
           14.183923,
           57.1514260000001,
           57.1514260000001,
           57.151426,
           57.151427,
           80.577871,
           80.5778700000001,
           105.865523,
           105.865523,
           105.865523,
           105.865523,
           105.865522,
           105.865523,
           142.041217,
           176.495553,
           176.495553,
           179.502135,
           179.502135,
           179.502135,
           179.502134,
           179.502134,
           179.502135,
           179.502135,
           179.502135,
           179.502135,
           179.502135,
           224.681457,
           224.681456,
           224.681457,
           224.681457,
           239.748467,
           239.748466,
           239.748467,
           239.748466,
           239.748466,
           239.748467,
           239.748467,
           239.748466,
           239.748466,
           239.748466,
           239.748466,
           239.748467,
           239.748467,
           239.748467,
           239.748467,
           239.748467,
           239.748466,
           239.748466,
           239.748466,
           239.748467,
           239.748467,
           239.748466,
           242.769328,
           242.769329,
           247.468473,
           247.468472,
           247.468472,
           247.468472,
           247.468472,
           247.468473,
           247.468473,
           247.468472,
           247.468473,
           247.468473,
           247.468473,
           247.468472,
           247.468472,
           247.468473,
           247.468473,
           247.468473,
           247.468473,
           247.468473,
           247.4684729998,
           247.4684729998,
           247.4684729998,
           247.4684729998,
           247.468473,
           247.468473,
           247.468473,
           247.468473,
           247.4684730003,
           247.4684730003,
           247.468473,
           247.4684730003,
           247.4684730003,
           247.4684730003,
           247.468472,
           247.468472,
           247.468472,
           247.468472,
           247.468472,
           247.468472,
           247.468472,
           247.468472,
           247.468473,
           247.468472,
           247.468472,
           247.468472,
           247.468472,
           247.468472,
           247.468473,
           247.468473,
           247.468473,
           247.468473,
           247.468473,
           247.468473,
           247.468473,
           247.468473,
           271.516129,
           271.516129,
           271.516129,
           271.516129,
           271.516129,
           271.516129,
           271.516128,
           271.516129,
           271.516129,
           271.516129,
           271.516129,
           271.516129,
           271.516129,
           271.516129,
           271.516129,
           271.516129,
           271.516128,
           271.516129,
           271.516129,
           271.516129,
           271.516129,
           271.516128,
           271.516129,
           271.516129,
           271.516129,
           271.516129,
           271.516129,
           271.516128,
           271.516129,
           271.516129,
           650.100055,
           650.100055,
           650.100055,
           650.100055,
           650.100055
          ],
          [
           213.48282,
           213.48282,
           213.482821,
           213.482821,
           213.482821,
           213.482821,
           213.482821,
           213.482821,
           213.482821,
           213.482821,
           213.482821,
           213.482821,
           213.48282,
           213.482821,
           213.482821,
           213.48282,
           213.482821,
           213.482821,
           213.482821,
           213.482821,
           213.48282,
           213.48282,
           213.482821,
           213.48282,
           213.482821,
           213.482821,
           213.482821,
           213.482821,
           213.482821,
           213.482821,
           213.48282,
           213.482821,
           213.482821,
           213.482821,
           213.482821,
           213.482821,
           213.48282,
           68.5608340000001,
           68.5608340000001,
           68.560835,
           68.560835,
           68.5608340000002,
           68.5608340000002,
           68.560835,
           14.1839220000001,
           0,
           14.1839220000001,
           14.183923,
           14.183923,
           57.1514260000001,
           57.1514260000001,
           57.151426,
           57.151427,
           80.577871,
           80.5778700000001,
           105.865523,
           105.865523,
           105.865523,
           105.865523,
           105.865522,
           105.865523,
           142.041217,
           176.495553,
           176.495553,
           179.502135,
           179.502135,
           179.502135,
           179.502134,
           179.502134,
           179.502135,
           179.502135,
           179.502135,
           179.502135,
           179.502135,
           224.681457,
           224.681456,
           224.681457,
           224.681457,
           239.748467,
           239.748466,
           239.748467,
           239.748466,
           239.748466,
           239.748467,
           239.748467,
           239.748466,
           239.748466,
           239.748466,
           239.748466,
           239.748467,
           239.748467,
           239.748467,
           239.748467,
           239.748467,
           239.748466,
           239.748466,
           239.748466,
           239.748467,
           239.748467,
           239.748466,
           242.769328,
           242.769329,
           247.468473,
           247.468472,
           247.468472,
           247.468472,
           247.468472,
           247.468473,
           247.468473,
           247.468472,
           247.468473,
           247.468473,
           247.468473,
           247.468472,
           247.468472,
           247.468473,
           247.468473,
           247.468473,
           247.468473,
           247.468473,
           247.4684729998,
           247.4684729998,
           247.4684729998,
           247.4684729998,
           247.468473,
           247.468473,
           247.468473,
           247.468473,
           247.4684730003,
           247.4684730003,
           247.468473,
           247.4684730003,
           247.4684730003,
           247.4684730003,
           247.468472,
           247.468472,
           247.468472,
           247.468472,
           247.468472,
           247.468472,
           247.468472,
           247.468472,
           247.468473,
           247.468472,
           247.468472,
           247.468472,
           247.468472,
           247.468472,
           247.468473,
           247.468473,
           247.468473,
           247.468473,
           247.468473,
           247.468473,
           247.468473,
           247.468473,
           271.516129,
           271.516129,
           271.516129,
           271.516129,
           271.516129,
           271.516129,
           271.516128,
           271.516129,
           271.516129,
           271.516129,
           271.516129,
           271.516129,
           271.516129,
           271.516129,
           271.516129,
           271.516129,
           271.516128,
           271.516129,
           271.516129,
           271.516129,
           271.516129,
           271.516128,
           271.516129,
           271.516129,
           271.516129,
           271.516129,
           271.516129,
           271.516128,
           271.516129,
           271.516129,
           650.100055,
           650.100055,
           650.100055,
           650.100055,
           650.100055
          ],
          [
           213.48282,
           213.48282,
           213.482821,
           213.482821,
           213.482821,
           213.482821,
           213.482821,
           213.482821,
           213.482821,
           213.482821,
           213.482821,
           213.482821,
           213.48282,
           213.482821,
           213.482821,
           213.48282,
           213.482821,
           213.482821,
           213.482821,
           213.482821,
           213.48282,
           213.48282,
           213.482821,
           213.48282,
           213.482821,
           213.482821,
           213.482821,
           213.482821,
           213.482821,
           213.482821,
           213.48282,
           213.482821,
           213.482821,
           213.482821,
           213.482821,
           213.482821,
           213.48282,
           68.5608340000001,
           68.5608340000001,
           68.560835,
           68.560835,
           68.5608340000002,
           68.5608340000002,
           68.560835,
           14.1839220000001,
           14.1839220000001,
           0,
           14.183923,
           14.183923,
           57.1514260000001,
           57.1514260000001,
           57.151426,
           57.151427,
           80.577871,
           80.5778700000001,
           105.865523,
           105.865523,
           105.865523,
           105.865523,
           105.865522,
           105.865523,
           142.041217,
           176.495553,
           176.495553,
           179.502135,
           179.502135,
           179.502135,
           179.502134,
           179.502134,
           179.502135,
           179.502135,
           179.502135,
           179.502135,
           179.502135,
           224.681457,
           224.681456,
           224.681457,
           224.681457,
           239.748467,
           239.748466,
           239.748467,
           239.748466,
           239.748466,
           239.748467,
           239.748467,
           239.748466,
           239.748466,
           239.748466,
           239.748466,
           239.748467,
           239.748467,
           239.748467,
           239.748467,
           239.748467,
           239.748466,
           239.748466,
           239.748466,
           239.748467,
           239.748467,
           239.748466,
           242.769328,
           242.769329,
           247.468473,
           247.468472,
           247.468472,
           247.468472,
           247.468472,
           247.468473,
           247.468473,
           247.468472,
           247.468473,
           247.468473,
           247.468473,
           247.468472,
           247.468472,
           247.468473,
           247.468473,
           247.468473,
           247.468473,
           247.468473,
           247.4684729998,
           247.4684729998,
           247.4684729998,
           247.4684729998,
           247.468473,
           247.468473,
           247.468473,
           247.468473,
           247.4684730003,
           247.4684730003,
           247.468473,
           247.4684730003,
           247.4684730003,
           247.4684730003,
           247.468472,
           247.468472,
           247.468472,
           247.468472,
           247.468472,
           247.468472,
           247.468472,
           247.468472,
           247.468473,
           247.468472,
           247.468472,
           247.468472,
           247.468472,
           247.468472,
           247.468473,
           247.468473,
           247.468473,
           247.468473,
           247.468473,
           247.468473,
           247.468473,
           247.468473,
           271.516129,
           271.516129,
           271.516129,
           271.516129,
           271.516129,
           271.516129,
           271.516128,
           271.516129,
           271.516129,
           271.516129,
           271.516129,
           271.516129,
           271.516129,
           271.516129,
           271.516129,
           271.516129,
           271.516128,
           271.516129,
           271.516129,
           271.516129,
           271.516129,
           271.516128,
           271.516129,
           271.516129,
           271.516129,
           271.516129,
           271.516129,
           271.516128,
           271.516129,
           271.516129,
           650.100055,
           650.100055,
           650.100055,
           650.100055,
           650.100055
          ],
          [
           213.482821,
           213.482821,
           213.482822,
           213.482822,
           213.482822,
           213.482822,
           213.482822,
           213.482822,
           213.482822,
           213.482822,
           213.482822,
           213.482822,
           213.482821,
           213.482822,
           213.482822,
           213.482821,
           213.482822,
           213.482822,
           213.482822,
           213.482822,
           213.482821,
           213.482821,
           213.482822,
           213.482821,
           213.482822,
           213.482822,
           213.482822,
           213.482822,
           213.482822,
           213.482822,
           213.482821,
           213.482822,
           213.482822,
           213.482822,
           213.482822,
           213.482822,
           213.482821,
           68.560835,
           68.560835,
           68.560836,
           68.560836,
           68.5608350000002,
           68.5608350000002,
           68.560836,
           14.183923,
           14.183923,
           14.183923,
           0,
           14.178,
           57.151427,
           57.1514270000001,
           57.151427,
           57.151428,
           80.577872,
           80.5778710000001,
           105.865524,
           105.865524,
           105.865524,
           105.865524,
           105.865523,
           105.865524,
           142.041218,
           176.495554,
           176.495554,
           179.502136,
           179.502136,
           179.502136,
           179.502135,
           179.502135,
           179.502136,
           179.502136,
           179.502136,
           179.502136,
           179.502136,
           224.681458,
           224.681457,
           224.681458,
           224.681458,
           239.748468,
           239.748467,
           239.748468,
           239.748467,
           239.748467,
           239.748468,
           239.748468,
           239.748467,
           239.748467,
           239.748467,
           239.748467,
           239.748468,
           239.748468,
           239.748468,
           239.748468,
           239.748468,
           239.748467,
           239.748467,
           239.748467,
           239.748468,
           239.748468,
           239.748467,
           242.769329,
           242.76933,
           247.468474,
           247.468473,
           247.468473,
           247.468473,
           247.468473,
           247.468474,
           247.468474,
           247.468473,
           247.468474,
           247.468474,
           247.468474,
           247.468473,
           247.468473,
           247.468474,
           247.468474,
           247.468474,
           247.468474,
           247.468474,
           247.4684739998,
           247.4684739998,
           247.4684739998,
           247.4684739998,
           247.468474,
           247.468474,
           247.468474,
           247.468474,
           247.4684740003,
           247.4684740003,
           247.468474,
           247.4684740003,
           247.4684740003,
           247.4684740003,
           247.468473,
           247.468473,
           247.468473,
           247.468473,
           247.468473,
           247.468473,
           247.468473,
           247.468473,
           247.468474,
           247.468473,
           247.468473,
           247.468473,
           247.468473,
           247.468473,
           247.468474,
           247.468474,
           247.468474,
           247.468474,
           247.468474,
           247.468474,
           247.468474,
           247.468474,
           271.51613,
           271.51613,
           271.51613,
           271.51613,
           271.51613,
           271.51613,
           271.516129,
           271.51613,
           271.51613,
           271.51613,
           271.51613,
           271.51613,
           271.51613,
           271.51613,
           271.51613,
           271.51613,
           271.516129,
           271.51613,
           271.51613,
           271.51613,
           271.51613,
           271.516129,
           271.51613,
           271.51613,
           271.51613,
           271.51613,
           271.51613,
           271.516129,
           271.51613,
           271.51613,
           650.100056,
           650.100056,
           650.100056,
           650.100056,
           650.100056
          ],
          [
           213.482821,
           213.482821,
           213.482822,
           213.482822,
           213.482822,
           213.482822,
           213.482822,
           213.482822,
           213.482822,
           213.482822,
           213.482822,
           213.482822,
           213.482821,
           213.482822,
           213.482822,
           213.482821,
           213.482822,
           213.482822,
           213.482822,
           213.482822,
           213.482821,
           213.482821,
           213.482822,
           213.482821,
           213.482822,
           213.482822,
           213.482822,
           213.482822,
           213.482822,
           213.482822,
           213.482821,
           213.482822,
           213.482822,
           213.482822,
           213.482822,
           213.482822,
           213.482821,
           68.560835,
           68.560835,
           68.560836,
           68.560836,
           68.5608350000002,
           68.5608350000002,
           68.560836,
           14.183923,
           14.183923,
           14.183923,
           14.178,
           0,
           57.151427,
           57.1514270000001,
           57.151427,
           57.151428,
           80.577872,
           80.5778710000001,
           105.865524,
           105.865524,
           105.865524,
           105.865524,
           105.865523,
           105.865524,
           142.041218,
           176.495554,
           176.495554,
           179.502136,
           179.502136,
           179.502136,
           179.502135,
           179.502135,
           179.502136,
           179.502136,
           179.502136,
           179.502136,
           179.502136,
           224.681458,
           224.681457,
           224.681458,
           224.681458,
           239.748468,
           239.748467,
           239.748468,
           239.748467,
           239.748467,
           239.748468,
           239.748468,
           239.748467,
           239.748467,
           239.748467,
           239.748467,
           239.748468,
           239.748468,
           239.748468,
           239.748468,
           239.748468,
           239.748467,
           239.748467,
           239.748467,
           239.748468,
           239.748468,
           239.748467,
           242.769329,
           242.76933,
           247.468474,
           247.468473,
           247.468473,
           247.468473,
           247.468473,
           247.468474,
           247.468474,
           247.468473,
           247.468474,
           247.468474,
           247.468474,
           247.468473,
           247.468473,
           247.468474,
           247.468474,
           247.468474,
           247.468474,
           247.468474,
           247.4684739998,
           247.4684739998,
           247.4684739998,
           247.4684739998,
           247.468474,
           247.468474,
           247.468474,
           247.468474,
           247.4684740003,
           247.4684740003,
           247.468474,
           247.4684740003,
           247.4684740003,
           247.4684740003,
           247.468473,
           247.468473,
           247.468473,
           247.468473,
           247.468473,
           247.468473,
           247.468473,
           247.468473,
           247.468474,
           247.468473,
           247.468473,
           247.468473,
           247.468473,
           247.468473,
           247.468474,
           247.468474,
           247.468474,
           247.468474,
           247.468474,
           247.468474,
           247.468474,
           247.468474,
           271.51613,
           271.51613,
           271.51613,
           271.51613,
           271.51613,
           271.51613,
           271.516129,
           271.51613,
           271.51613,
           271.51613,
           271.51613,
           271.51613,
           271.51613,
           271.51613,
           271.51613,
           271.51613,
           271.516129,
           271.51613,
           271.51613,
           271.51613,
           271.51613,
           271.516129,
           271.51613,
           271.51613,
           271.51613,
           271.51613,
           271.51613,
           271.516129,
           271.51613,
           271.51613,
           650.100056,
           650.100056,
           650.100056,
           650.100056,
           650.100056
          ]
         ]
        }
       ],
       "layout": {
        "autosize": true,
        "coloraxis": {
         "colorscale": [
          [
           0,
           "#1331c1"
          ],
          [
           0.00392156862745098,
           "#1832c1"
          ],
          [
           0.00784313725490196,
           "#1c32c0"
          ],
          [
           0.011764705882352941,
           "#1f33c0"
          ],
          [
           0.01568627450980392,
           "#2234bf"
          ],
          [
           0.0196078431372549,
           "#2534bf"
          ],
          [
           0.023529411764705882,
           "#2735bf"
          ],
          [
           0.027450980392156862,
           "#2a36be"
          ],
          [
           0.03137254901960784,
           "#2c37be"
          ],
          [
           0.03529411764705882,
           "#2e37be"
          ],
          [
           0.0392156862745098,
           "#3038bd"
          ],
          [
           0.043137254901960784,
           "#3239bd"
          ],
          [
           0.047058823529411764,
           "#343abd"
          ],
          [
           0.050980392156862744,
           "#363abc"
          ],
          [
           0.054901960784313725,
           "#383bbc"
          ],
          [
           0.058823529411764705,
           "#393cbc"
          ],
          [
           0.06274509803921569,
           "#3b3cbb"
          ],
          [
           0.06666666666666667,
           "#3d3dbb"
          ],
          [
           0.07058823529411765,
           "#3e3ebb"
          ],
          [
           0.07450980392156863,
           "#403fba"
          ],
          [
           0.0784313725490196,
           "#413fba"
          ],
          [
           0.08235294117647059,
           "#4240b9"
          ],
          [
           0.08627450980392157,
           "#4441b9"
          ],
          [
           0.09019607843137255,
           "#4542b9"
          ],
          [
           0.09411764705882353,
           "#4642b8"
          ],
          [
           0.09803921568627451,
           "#4843b8"
          ],
          [
           0.10196078431372549,
           "#4944b8"
          ],
          [
           0.10588235294117647,
           "#4a44b7"
          ],
          [
           0.10980392156862745,
           "#4b45b7"
          ],
          [
           0.11372549019607843,
           "#4d46b7"
          ],
          [
           0.11764705882352941,
           "#4e47b6"
          ],
          [
           0.12156862745098039,
           "#4f47b6"
          ],
          [
           0.12549019607843137,
           "#5048b6"
          ],
          [
           0.12941176470588237,
           "#5149b5"
          ],
          [
           0.13333333333333333,
           "#524ab5"
          ],
          [
           0.13725490196078433,
           "#534ab4"
          ],
          [
           0.1411764705882353,
           "#544bb4"
          ],
          [
           0.1450980392156863,
           "#554cb4"
          ],
          [
           0.14901960784313725,
           "#564db3"
          ],
          [
           0.15294117647058825,
           "#574db3"
          ],
          [
           0.1568627450980392,
           "#584eb3"
          ],
          [
           0.1607843137254902,
           "#594fb2"
          ],
          [
           0.16470588235294117,
           "#5a50b2"
          ],
          [
           0.16862745098039217,
           "#5b50b2"
          ],
          [
           0.17254901960784313,
           "#5c51b1"
          ],
          [
           0.17647058823529413,
           "#5d52b1"
          ],
          [
           0.1803921568627451,
           "#5e52b0"
          ],
          [
           0.1843137254901961,
           "#5f53b0"
          ],
          [
           0.18823529411764706,
           "#6054b0"
          ],
          [
           0.19215686274509805,
           "#6155af"
          ],
          [
           0.19607843137254902,
           "#6155af"
          ],
          [
           0.2,
           "#6256af"
          ],
          [
           0.20392156862745098,
           "#6357ae"
          ],
          [
           0.20784313725490197,
           "#6458ae"
          ],
          [
           0.21176470588235294,
           "#6558ad"
          ],
          [
           0.21568627450980393,
           "#6659ad"
          ],
          [
           0.2196078431372549,
           "#665aad"
          ],
          [
           0.2235294117647059,
           "#675bac"
          ],
          [
           0.22745098039215686,
           "#685bac"
          ],
          [
           0.23137254901960785,
           "#695cac"
          ],
          [
           0.23529411764705882,
           "#695dab"
          ],
          [
           0.23921568627450981,
           "#6a5eab"
          ],
          [
           0.24313725490196078,
           "#6b5eab"
          ],
          [
           0.24705882352941178,
           "#6c5faa"
          ],
          [
           0.25098039215686274,
           "#6c60aa"
          ],
          [
           0.2549019607843137,
           "#6d61a9"
          ],
          [
           0.25882352941176473,
           "#6e61a9"
          ],
          [
           0.2627450980392157,
           "#6f62a9"
          ],
          [
           0.26666666666666666,
           "#6f63a8"
          ],
          [
           0.27058823529411763,
           "#7064a8"
          ],
          [
           0.27450980392156865,
           "#7164a7"
          ],
          [
           0.2784313725490196,
           "#7165a7"
          ],
          [
           0.2823529411764706,
           "#7266a7"
          ],
          [
           0.28627450980392155,
           "#7367a6"
          ],
          [
           0.2901960784313726,
           "#7367a6"
          ],
          [
           0.29411764705882354,
           "#7468a6"
          ],
          [
           0.2980392156862745,
           "#7569a5"
          ],
          [
           0.30196078431372547,
           "#756aa5"
          ],
          [
           0.3058823529411765,
           "#766aa4"
          ],
          [
           0.30980392156862746,
           "#776ba4"
          ],
          [
           0.3137254901960784,
           "#776ca4"
          ],
          [
           0.3176470588235294,
           "#786da3"
          ],
          [
           0.3215686274509804,
           "#786da3"
          ],
          [
           0.3254901960784314,
           "#796ea2"
          ],
          [
           0.32941176470588235,
           "#7a6fa2"
          ],
          [
           0.3333333333333333,
           "#7a70a2"
          ],
          [
           0.33725490196078434,
           "#7b70a1"
          ],
          [
           0.3411764705882353,
           "#7b71a1"
          ],
          [
           0.34509803921568627,
           "#7c72a0"
          ],
          [
           0.34901960784313724,
           "#7d73a0"
          ],
          [
           0.35294117647058826,
           "#7d73a0"
          ],
          [
           0.3568627450980392,
           "#7e749f"
          ],
          [
           0.3607843137254902,
           "#7e759f"
          ],
          [
           0.36470588235294116,
           "#7f769e"
          ],
          [
           0.3686274509803922,
           "#80769e"
          ],
          [
           0.37254901960784315,
           "#80779e"
          ],
          [
           0.3764705882352941,
           "#81789d"
          ],
          [
           0.3803921568627451,
           "#81799d"
          ],
          [
           0.3843137254901961,
           "#82799c"
          ],
          [
           0.38823529411764707,
           "#827a9c"
          ],
          [
           0.39215686274509803,
           "#837b9c"
          ],
          [
           0.396078431372549,
           "#837c9b"
          ],
          [
           0.4,
           "#847c9b"
          ],
          [
           0.403921568627451,
           "#847d9a"
          ],
          [
           0.40784313725490196,
           "#857e9a"
          ],
          [
           0.4117647058823529,
           "#857f9a"
          ],
          [
           0.41568627450980394,
           "#868099"
          ],
          [
           0.4196078431372549,
           "#868099"
          ],
          [
           0.4235294117647059,
           "#878198"
          ],
          [
           0.42745098039215684,
           "#878298"
          ],
          [
           0.43137254901960786,
           "#888398"
          ],
          [
           0.43529411764705883,
           "#888397"
          ],
          [
           0.4392156862745098,
           "#898497"
          ],
          [
           0.44313725490196076,
           "#898596"
          ],
          [
           0.4470588235294118,
           "#8a8696"
          ],
          [
           0.45098039215686275,
           "#8a8695"
          ],
          [
           0.4549019607843137,
           "#8b8795"
          ],
          [
           0.4588235294117647,
           "#8b8895"
          ],
          [
           0.4627450980392157,
           "#8c8994"
          ],
          [
           0.4666666666666667,
           "#8c8a94"
          ],
          [
           0.47058823529411764,
           "#8d8a93"
          ],
          [
           0.4745098039215686,
           "#8d8b93"
          ],
          [
           0.47843137254901963,
           "#8e8c92"
          ],
          [
           0.4823529411764706,
           "#8e8d92"
          ],
          [
           0.48627450980392156,
           "#8e8d92"
          ],
          [
           0.49019607843137253,
           "#8f8e91"
          ],
          [
           0.49411764705882355,
           "#8f8f91"
          ],
          [
           0.4980392156862745,
           "#909090"
          ],
          [
           0.5019607843137255,
           "#919090"
          ],
          [
           0.5058823529411764,
           "#92918f"
          ],
          [
           0.5098039215686274,
           "#93928f"
          ],
          [
           0.5137254901960784,
           "#94928e"
          ],
          [
           0.5176470588235295,
           "#95938d"
          ],
          [
           0.5215686274509804,
           "#96938d"
          ],
          [
           0.5254901960784314,
           "#97948c"
          ],
          [
           0.5294117647058824,
           "#98958c"
          ],
          [
           0.5333333333333333,
           "#99958b"
          ],
          [
           0.5372549019607843,
           "#9a968a"
          ],
          [
           0.5411764705882353,
           "#9b968a"
          ],
          [
           0.5450980392156862,
           "#9c9789"
          ],
          [
           0.5490196078431373,
           "#9d9888"
          ],
          [
           0.5529411764705883,
           "#9e9888"
          ],
          [
           0.5568627450980392,
           "#9f9987"
          ],
          [
           0.5607843137254902,
           "#a09a87"
          ],
          [
           0.5647058823529412,
           "#a19a86"
          ],
          [
           0.5686274509803921,
           "#a29b85"
          ],
          [
           0.5725490196078431,
           "#a29b85"
          ],
          [
           0.5764705882352941,
           "#a39c84"
          ],
          [
           0.5803921568627451,
           "#a49d83"
          ],
          [
           0.5843137254901961,
           "#a59d83"
          ],
          [
           0.5882352941176471,
           "#a69e82"
          ],
          [
           0.592156862745098,
           "#a79f82"
          ],
          [
           0.596078431372549,
           "#a89f81"
          ],
          [
           0.6,
           "#a9a080"
          ],
          [
           0.6039215686274509,
           "#aaa080"
          ],
          [
           0.6078431372549019,
           "#aba17f"
          ],
          [
           0.611764705882353,
           "#aca27e"
          ],
          [
           0.615686274509804,
           "#ada27e"
          ],
          [
           0.6196078431372549,
           "#aea37d"
          ],
          [
           0.6235294117647059,
           "#aea47c"
          ],
          [
           0.6274509803921569,
           "#afa47c"
          ],
          [
           0.6313725490196078,
           "#b0a57b"
          ],
          [
           0.6352941176470588,
           "#b1a67a"
          ],
          [
           0.6392156862745098,
           "#b2a67a"
          ],
          [
           0.6431372549019608,
           "#b3a779"
          ],
          [
           0.6470588235294118,
           "#b4a778"
          ],
          [
           0.6509803921568628,
           "#b5a878"
          ],
          [
           0.6549019607843137,
           "#b6a977"
          ],
          [
           0.6588235294117647,
           "#b6a976"
          ],
          [
           0.6627450980392157,
           "#b7aa76"
          ],
          [
           0.6666666666666666,
           "#b8ab75"
          ],
          [
           0.6705882352941176,
           "#b9ab74"
          ],
          [
           0.6745098039215687,
           "#baac73"
          ],
          [
           0.6784313725490196,
           "#bbad73"
          ],
          [
           0.6823529411764706,
           "#bcad72"
          ],
          [
           0.6862745098039216,
           "#bdae71"
          ],
          [
           0.6901960784313725,
           "#bdae71"
          ],
          [
           0.6941176470588235,
           "#beaf70"
          ],
          [
           0.6980392156862745,
           "#bfb06f"
          ],
          [
           0.7019607843137254,
           "#c0b06e"
          ],
          [
           0.7058823529411765,
           "#c1b16e"
          ],
          [
           0.7098039215686275,
           "#c2b26d"
          ],
          [
           0.7137254901960784,
           "#c3b26c"
          ],
          [
           0.7176470588235294,
           "#c3b36b"
          ],
          [
           0.7215686274509804,
           "#c4b46b"
          ],
          [
           0.7254901960784313,
           "#c5b46a"
          ],
          [
           0.7294117647058823,
           "#c6b569"
          ],
          [
           0.7333333333333333,
           "#c7b668"
          ],
          [
           0.7372549019607844,
           "#c8b668"
          ],
          [
           0.7411764705882353,
           "#c8b767"
          ],
          [
           0.7450980392156863,
           "#c9b866"
          ],
          [
           0.7490196078431373,
           "#cab865"
          ],
          [
           0.7529411764705882,
           "#cbb965"
          ],
          [
           0.7568627450980392,
           "#ccba64"
          ],
          [
           0.7607843137254902,
           "#ccba63"
          ],
          [
           0.7647058823529411,
           "#cdbb62"
          ],
          [
           0.7686274509803922,
           "#cebc61"
          ],
          [
           0.7725490196078432,
           "#cfbc60"
          ],
          [
           0.7764705882352941,
           "#d0bd60"
          ],
          [
           0.7803921568627451,
           "#d1be5f"
          ],
          [
           0.7843137254901961,
           "#d1be5e"
          ],
          [
           0.788235294117647,
           "#d2bf5d"
          ],
          [
           0.792156862745098,
           "#d3c05c"
          ],
          [
           0.796078431372549,
           "#d4c05b"
          ],
          [
           0.8,
           "#d5c15a"
          ],
          [
           0.803921568627451,
           "#d5c25a"
          ],
          [
           0.807843137254902,
           "#d6c259"
          ],
          [
           0.8117647058823529,
           "#d7c358"
          ],
          [
           0.8156862745098039,
           "#d8c457"
          ],
          [
           0.8196078431372549,
           "#d9c456"
          ],
          [
           0.8235294117647058,
           "#d9c555"
          ],
          [
           0.8274509803921568,
           "#dac654"
          ],
          [
           0.8313725490196079,
           "#dbc653"
          ],
          [
           0.8352941176470589,
           "#dcc752"
          ],
          [
           0.8392156862745098,
           "#ddc851"
          ],
          [
           0.8431372549019608,
           "#ddc850"
          ],
          [
           0.8470588235294118,
           "#dec94f"
          ],
          [
           0.8509803921568627,
           "#dfca4e"
          ],
          [
           0.8549019607843137,
           "#e0ca4d"
          ],
          [
           0.8588235294117647,
           "#e1cb4c"
          ],
          [
           0.8627450980392157,
           "#e1cc4b"
          ],
          [
           0.8666666666666667,
           "#e2cc4a"
          ],
          [
           0.8705882352941177,
           "#e3cd49"
          ],
          [
           0.8745098039215686,
           "#e4ce48"
          ],
          [
           0.8784313725490196,
           "#e4ce47"
          ],
          [
           0.8823529411764706,
           "#e5cf46"
          ],
          [
           0.8862745098039215,
           "#e6d044"
          ],
          [
           0.8901960784313725,
           "#e7d043"
          ],
          [
           0.8941176470588236,
           "#e8d142"
          ],
          [
           0.8980392156862745,
           "#e8d241"
          ],
          [
           0.9019607843137255,
           "#e9d240"
          ],
          [
           0.9058823529411765,
           "#ead33e"
          ],
          [
           0.9098039215686274,
           "#ebd43d"
          ],
          [
           0.9137254901960784,
           "#ebd43c"
          ],
          [
           0.9176470588235294,
           "#ecd53a"
          ],
          [
           0.9215686274509803,
           "#edd639"
          ],
          [
           0.9254901960784314,
           "#eed637"
          ],
          [
           0.9294117647058824,
           "#efd736"
          ],
          [
           0.9333333333333333,
           "#efd834"
          ],
          [
           0.9372549019607843,
           "#f0d833"
          ],
          [
           0.9411764705882353,
           "#f1d931"
          ],
          [
           0.9450980392156862,
           "#f2da30"
          ],
          [
           0.9490196078431372,
           "#f2da2e"
          ],
          [
           0.9529411764705882,
           "#f3db2c"
          ],
          [
           0.9568627450980393,
           "#f4dc2a"
          ],
          [
           0.9607843137254902,
           "#f5dd28"
          ],
          [
           0.9647058823529412,
           "#f5dd26"
          ],
          [
           0.9686274509803922,
           "#f6de24"
          ],
          [
           0.9725490196078431,
           "#f7df22"
          ],
          [
           0.9764705882352941,
           "#f8df1f"
          ],
          [
           0.9803921568627451,
           "#f8e01d"
          ],
          [
           0.984313725490196,
           "#f9e11a"
          ],
          [
           0.9882352941176471,
           "#fae116"
          ],
          [
           0.9921568627450981,
           "#fbe213"
          ],
          [
           0.996078431372549,
           "#fbe30e"
          ],
          [
           1,
           "#fce309"
          ]
         ]
        },
        "margin": {
         "t": 60
        },
        "template": {
         "data": {
          "bar": [
           {
            "error_x": {
             "color": "#2a3f5f"
            },
            "error_y": {
             "color": "#2a3f5f"
            },
            "marker": {
             "line": {
              "color": "white",
              "width": 0.5
             },
             "pattern": {
              "fillmode": "overlay",
              "size": 10,
              "solidity": 0.2
             }
            },
            "type": "bar"
           }
          ],
          "barpolar": [
           {
            "marker": {
             "line": {
              "color": "white",
              "width": 0.5
             },
             "pattern": {
              "fillmode": "overlay",
              "size": 10,
              "solidity": 0.2
             }
            },
            "type": "barpolar"
           }
          ],
          "carpet": [
           {
            "aaxis": {
             "endlinecolor": "#2a3f5f",
             "gridcolor": "#C8D4E3",
             "linecolor": "#C8D4E3",
             "minorgridcolor": "#C8D4E3",
             "startlinecolor": "#2a3f5f"
            },
            "baxis": {
             "endlinecolor": "#2a3f5f",
             "gridcolor": "#C8D4E3",
             "linecolor": "#C8D4E3",
             "minorgridcolor": "#C8D4E3",
             "startlinecolor": "#2a3f5f"
            },
            "type": "carpet"
           }
          ],
          "choropleth": [
           {
            "colorbar": {
             "outlinewidth": 0,
             "ticks": ""
            },
            "type": "choropleth"
           }
          ],
          "contour": [
           {
            "colorbar": {
             "outlinewidth": 0,
             "ticks": ""
            },
            "colorscale": [
             [
              0,
              "#0d0887"
             ],
             [
              0.1111111111111111,
              "#46039f"
             ],
             [
              0.2222222222222222,
              "#7201a8"
             ],
             [
              0.3333333333333333,
              "#9c179e"
             ],
             [
              0.4444444444444444,
              "#bd3786"
             ],
             [
              0.5555555555555556,
              "#d8576b"
             ],
             [
              0.6666666666666666,
              "#ed7953"
             ],
             [
              0.7777777777777778,
              "#fb9f3a"
             ],
             [
              0.8888888888888888,
              "#fdca26"
             ],
             [
              1,
              "#f0f921"
             ]
            ],
            "type": "contour"
           }
          ],
          "contourcarpet": [
           {
            "colorbar": {
             "outlinewidth": 0,
             "ticks": ""
            },
            "type": "contourcarpet"
           }
          ],
          "heatmap": [
           {
            "colorbar": {
             "outlinewidth": 0,
             "ticks": ""
            },
            "colorscale": [
             [
              0,
              "#0d0887"
             ],
             [
              0.1111111111111111,
              "#46039f"
             ],
             [
              0.2222222222222222,
              "#7201a8"
             ],
             [
              0.3333333333333333,
              "#9c179e"
             ],
             [
              0.4444444444444444,
              "#bd3786"
             ],
             [
              0.5555555555555556,
              "#d8576b"
             ],
             [
              0.6666666666666666,
              "#ed7953"
             ],
             [
              0.7777777777777778,
              "#fb9f3a"
             ],
             [
              0.8888888888888888,
              "#fdca26"
             ],
             [
              1,
              "#f0f921"
             ]
            ],
            "type": "heatmap"
           }
          ],
          "heatmapgl": [
           {
            "colorbar": {
             "outlinewidth": 0,
             "ticks": ""
            },
            "colorscale": [
             [
              0,
              "#0d0887"
             ],
             [
              0.1111111111111111,
              "#46039f"
             ],
             [
              0.2222222222222222,
              "#7201a8"
             ],
             [
              0.3333333333333333,
              "#9c179e"
             ],
             [
              0.4444444444444444,
              "#bd3786"
             ],
             [
              0.5555555555555556,
              "#d8576b"
             ],
             [
              0.6666666666666666,
              "#ed7953"
             ],
             [
              0.7777777777777778,
              "#fb9f3a"
             ],
             [
              0.8888888888888888,
              "#fdca26"
             ],
             [
              1,
              "#f0f921"
             ]
            ],
            "type": "heatmapgl"
           }
          ],
          "histogram": [
           {
            "marker": {
             "pattern": {
              "fillmode": "overlay",
              "size": 10,
              "solidity": 0.2
             }
            },
            "type": "histogram"
           }
          ],
          "histogram2d": [
           {
            "colorbar": {
             "outlinewidth": 0,
             "ticks": ""
            },
            "colorscale": [
             [
              0,
              "#0d0887"
             ],
             [
              0.1111111111111111,
              "#46039f"
             ],
             [
              0.2222222222222222,
              "#7201a8"
             ],
             [
              0.3333333333333333,
              "#9c179e"
             ],
             [
              0.4444444444444444,
              "#bd3786"
             ],
             [
              0.5555555555555556,
              "#d8576b"
             ],
             [
              0.6666666666666666,
              "#ed7953"
             ],
             [
              0.7777777777777778,
              "#fb9f3a"
             ],
             [
              0.8888888888888888,
              "#fdca26"
             ],
             [
              1,
              "#f0f921"
             ]
            ],
            "type": "histogram2d"
           }
          ],
          "histogram2dcontour": [
           {
            "colorbar": {
             "outlinewidth": 0,
             "ticks": ""
            },
            "colorscale": [
             [
              0,
              "#0d0887"
             ],
             [
              0.1111111111111111,
              "#46039f"
             ],
             [
              0.2222222222222222,
              "#7201a8"
             ],
             [
              0.3333333333333333,
              "#9c179e"
             ],
             [
              0.4444444444444444,
              "#bd3786"
             ],
             [
              0.5555555555555556,
              "#d8576b"
             ],
             [
              0.6666666666666666,
              "#ed7953"
             ],
             [
              0.7777777777777778,
              "#fb9f3a"
             ],
             [
              0.8888888888888888,
              "#fdca26"
             ],
             [
              1,
              "#f0f921"
             ]
            ],
            "type": "histogram2dcontour"
           }
          ],
          "mesh3d": [
           {
            "colorbar": {
             "outlinewidth": 0,
             "ticks": ""
            },
            "type": "mesh3d"
           }
          ],
          "parcoords": [
           {
            "line": {
             "colorbar": {
              "outlinewidth": 0,
              "ticks": ""
             }
            },
            "type": "parcoords"
           }
          ],
          "pie": [
           {
            "automargin": true,
            "type": "pie"
           }
          ],
          "scatter": [
           {
            "fillpattern": {
             "fillmode": "overlay",
             "size": 10,
             "solidity": 0.2
            },
            "type": "scatter"
           }
          ],
          "scatter3d": [
           {
            "line": {
             "colorbar": {
              "outlinewidth": 0,
              "ticks": ""
             }
            },
            "marker": {
             "colorbar": {
              "outlinewidth": 0,
              "ticks": ""
             }
            },
            "type": "scatter3d"
           }
          ],
          "scattercarpet": [
           {
            "marker": {
             "colorbar": {
              "outlinewidth": 0,
              "ticks": ""
             }
            },
            "type": "scattercarpet"
           }
          ],
          "scattergeo": [
           {
            "marker": {
             "colorbar": {
              "outlinewidth": 0,
              "ticks": ""
             }
            },
            "type": "scattergeo"
           }
          ],
          "scattergl": [
           {
            "marker": {
             "colorbar": {
              "outlinewidth": 0,
              "ticks": ""
             }
            },
            "type": "scattergl"
           }
          ],
          "scattermapbox": [
           {
            "marker": {
             "colorbar": {
              "outlinewidth": 0,
              "ticks": ""
             }
            },
            "type": "scattermapbox"
           }
          ],
          "scatterpolar": [
           {
            "marker": {
             "colorbar": {
              "outlinewidth": 0,
              "ticks": ""
             }
            },
            "type": "scatterpolar"
           }
          ],
          "scatterpolargl": [
           {
            "marker": {
             "colorbar": {
              "outlinewidth": 0,
              "ticks": ""
             }
            },
            "type": "scatterpolargl"
           }
          ],
          "scatterternary": [
           {
            "marker": {
             "colorbar": {
              "outlinewidth": 0,
              "ticks": ""
             }
            },
            "type": "scatterternary"
           }
          ],
          "surface": [
           {
            "colorbar": {
             "outlinewidth": 0,
             "ticks": ""
            },
            "colorscale": [
             [
              0,
              "#0d0887"
             ],
             [
              0.1111111111111111,
              "#46039f"
             ],
             [
              0.2222222222222222,
              "#7201a8"
             ],
             [
              0.3333333333333333,
              "#9c179e"
             ],
             [
              0.4444444444444444,
              "#bd3786"
             ],
             [
              0.5555555555555556,
              "#d8576b"
             ],
             [
              0.6666666666666666,
              "#ed7953"
             ],
             [
              0.7777777777777778,
              "#fb9f3a"
             ],
             [
              0.8888888888888888,
              "#fdca26"
             ],
             [
              1,
              "#f0f921"
             ]
            ],
            "type": "surface"
           }
          ],
          "table": [
           {
            "cells": {
             "fill": {
              "color": "#EBF0F8"
             },
             "line": {
              "color": "white"
             }
            },
            "header": {
             "fill": {
              "color": "#C8D4E3"
             },
             "line": {
              "color": "white"
             }
            },
            "type": "table"
           }
          ]
         },
         "layout": {
          "annotationdefaults": {
           "arrowcolor": "#2a3f5f",
           "arrowhead": 0,
           "arrowwidth": 1
          },
          "autotypenumbers": "strict",
          "coloraxis": {
           "colorbar": {
            "outlinewidth": 0,
            "ticks": ""
           }
          },
          "colorscale": {
           "diverging": [
            [
             0,
             "#8e0152"
            ],
            [
             0.1,
             "#c51b7d"
            ],
            [
             0.2,
             "#de77ae"
            ],
            [
             0.3,
             "#f1b6da"
            ],
            [
             0.4,
             "#fde0ef"
            ],
            [
             0.5,
             "#f7f7f7"
            ],
            [
             0.6,
             "#e6f5d0"
            ],
            [
             0.7,
             "#b8e186"
            ],
            [
             0.8,
             "#7fbc41"
            ],
            [
             0.9,
             "#4d9221"
            ],
            [
             1,
             "#276419"
            ]
           ],
           "sequential": [
            [
             0,
             "#0d0887"
            ],
            [
             0.1111111111111111,
             "#46039f"
            ],
            [
             0.2222222222222222,
             "#7201a8"
            ],
            [
             0.3333333333333333,
             "#9c179e"
            ],
            [
             0.4444444444444444,
             "#bd3786"
            ],
            [
             0.5555555555555556,
             "#d8576b"
            ],
            [
             0.6666666666666666,
             "#ed7953"
            ],
            [
             0.7777777777777778,
             "#fb9f3a"
            ],
            [
             0.8888888888888888,
             "#fdca26"
            ],
            [
             1,
             "#f0f921"
            ]
           ],
           "sequentialminus": [
            [
             0,
             "#0d0887"
            ],
            [
             0.1111111111111111,
             "#46039f"
            ],
            [
             0.2222222222222222,
             "#7201a8"
            ],
            [
             0.3333333333333333,
             "#9c179e"
            ],
            [
             0.4444444444444444,
             "#bd3786"
            ],
            [
             0.5555555555555556,
             "#d8576b"
            ],
            [
             0.6666666666666666,
             "#ed7953"
            ],
            [
             0.7777777777777778,
             "#fb9f3a"
            ],
            [
             0.8888888888888888,
             "#fdca26"
            ],
            [
             1,
             "#f0f921"
            ]
           ]
          },
          "colorway": [
           "#636efa",
           "#EF553B",
           "#00cc96",
           "#ab63fa",
           "#FFA15A",
           "#19d3f3",
           "#FF6692",
           "#B6E880",
           "#FF97FF",
           "#FECB52"
          ],
          "font": {
           "color": "#2a3f5f"
          },
          "geo": {
           "bgcolor": "white",
           "lakecolor": "white",
           "landcolor": "white",
           "showlakes": true,
           "showland": true,
           "subunitcolor": "#C8D4E3"
          },
          "hoverlabel": {
           "align": "left"
          },
          "hovermode": "closest",
          "mapbox": {
           "style": "light"
          },
          "paper_bgcolor": "white",
          "plot_bgcolor": "white",
          "polar": {
           "angularaxis": {
            "gridcolor": "#EBF0F8",
            "linecolor": "#EBF0F8",
            "ticks": ""
           },
           "bgcolor": "white",
           "radialaxis": {
            "gridcolor": "#EBF0F8",
            "linecolor": "#EBF0F8",
            "ticks": ""
           }
          },
          "scene": {
           "xaxis": {
            "backgroundcolor": "white",
            "gridcolor": "#DFE8F3",
            "gridwidth": 2,
            "linecolor": "#EBF0F8",
            "showbackground": true,
            "ticks": "",
            "zerolinecolor": "#EBF0F8"
           },
           "yaxis": {
            "backgroundcolor": "white",
            "gridcolor": "#DFE8F3",
            "gridwidth": 2,
            "linecolor": "#EBF0F8",
            "showbackground": true,
            "ticks": "",
            "zerolinecolor": "#EBF0F8"
           },
           "zaxis": {
            "backgroundcolor": "white",
            "gridcolor": "#DFE8F3",
            "gridwidth": 2,
            "linecolor": "#EBF0F8",
            "showbackground": true,
            "ticks": "",
            "zerolinecolor": "#EBF0F8"
           }
          },
          "shapedefaults": {
           "line": {
            "color": "#2a3f5f"
           }
          },
          "ternary": {
           "aaxis": {
            "gridcolor": "#DFE8F3",
            "linecolor": "#A2B1C6",
            "ticks": ""
           },
           "baxis": {
            "gridcolor": "#DFE8F3",
            "linecolor": "#A2B1C6",
            "ticks": ""
           },
           "bgcolor": "white",
           "caxis": {
            "gridcolor": "#DFE8F3",
            "linecolor": "#A2B1C6",
            "ticks": ""
           }
          },
          "title": {
           "x": 0.05
          },
          "xaxis": {
           "automargin": true,
           "gridcolor": "#EBF0F8",
           "linecolor": "#EBF0F8",
           "ticks": "",
           "title": {
            "standoff": 15
           },
           "zerolinecolor": "#EBF0F8",
           "zerolinewidth": 2
          },
          "yaxis": {
           "automargin": true,
           "gridcolor": "#EBF0F8",
           "linecolor": "#EBF0F8",
           "ticks": "",
           "title": {
            "standoff": 15
           },
           "zerolinecolor": "#EBF0F8",
           "zerolinewidth": 2
          }
         }
        },
        "xaxis": {
         "anchor": "y",
         "autorange": true,
         "domain": [
          0,
          1
         ],
         "range": [
          -0.5,
          190.5
         ],
         "type": "category"
        },
        "yaxis": {
         "anchor": "x",
         "autorange": true,
         "domain": [
          0,
          1
         ],
         "range": [
          4.5,
          -0.5
         ],
         "type": "category"
        }
       }
      },
      "image/png": "[encoded data removed]",
      "text/html": [
       "<div>                            <div id=\"ec6ea55b-98ec-4780-817b-e07efefc80a9\" class=\"plotly-graph-div\" style=\"height:400px; width:100%;\"></div>            <script type=\"text/javascript\">                require([\"plotly\"], function(Plotly) {                    window.PLOTLYENV=window.PLOTLYENV || {};                                    if (document.getElementById(\"ec6ea55b-98ec-4780-817b-e07efefc80a9\")) {                    Plotly.newPlot(                        \"ec6ea55b-98ec-4780-817b-e07efefc80a9\",                        [{\"coloraxis\":\"coloraxis\",\"name\":\"0\",\"x\":[\"Jasonia glutinosa\",\"Aetheorhiza bulbosa\",\"Helichrysum stoechas\",\"Filago fuscescens\",\"Bombycilaena erecta\",\"Filago gallica\",\"Phagnalon saxatile\",\"Phagnalon rupestre\",\"Dittrichia viscosa\",\"Pallenis spinosa\",\"Pallenis maritima\",\"Artemisia campestris\",\"Santolina chamaecyparissus\",\"Calendula arvensis\",\"Crepis vesicaria\",\"Leontodon saxatilis subsp. rothii\",\"Hypochaeris radicata\",\"Urospermum picroides\",\"Sonchus asper\",\"Sonchus tenerrimus\",\"Launaea fragilis\",\"Launaea arborescens\",\"Reichardia tingitana\",\"Scorzonera sp\",\"Centaurea melitensis\",\"Carduus tenuiflorus\",\"Atractylis cancellata\",\"Foeniculum vulgare\",\"Pseudorlaya pumila\",\"Distichoselinum tenuifolium\",\"Thapsia sp\",\"Thapsia villosa\",\"Torilis nodosa\",\"Bupleurum fruticescens\",\"Eryngium campestre\",\"Cephalaria leucantha\",\"Lomelosia stellata\",\"Thymus moroderi\",\"Thymus hyemalis\",\"Thymus vulgaris\",\"Rosmarinus officinalis\",\"Lavandula latifolia\",\"Lavandula dentata\",\"Lavandula multifida\",\"Teucrium libanitis\",\"Teucrium carolipaui\",\"Teucrium carthaginense\",\"Teucrium capitatum\",\"Teucrium pseudochamaepitys\",\"Ballota hirsuta\",\"Phlomis lychnitis\",\"Sideritis incana\",\"Sideritis angustifolia\",\"Bellardia trixago\",\"Orobanche sp\",\"Plantago albicans\",\"Plantago bellardii\",\"Plantago afra\",\"Globularia alypum\",\"Linaria arvensis\",\"Misopates orontium\",\"Olea europaea\",\"Echium creticum\",\"Lithodora fruticosa\",\"Valantia hispida\",\"Asperula aristata\",\"Rubia peregrina\",\"Periploca laevigata subsp. angustifolia\",\"Centaurium quadrifolium\",\"Blackstonia perfoliata\",\"Solanum americanum\",\"Withania frutescens\",\"Convolvulus lanuginosus\",\"Convolvulus althaeoides\",\"Erica multiflora\",\"Lysimachia linum-stellatum\",\"Anagallis arvensis\",\"Coris monspeliensis\",\"Mesembryanthemum nodiflorum\",\"Silene secundiflora\",\"Silene inaperta\",\"Dianthus sp\",\"Gypsophila struthium\",\"Spergularia rubra\",\"Polycarpon tetraphyllum\",\"Paronychia suffruticosa\",\"Paronychia argentea\",\"Herniaria fruticosa\",\"Salsola oppositifolia\",\"Salsola genistoides\",\"Salsola kali\",\"Halogeton sativus\",\"Atriplex semibaccata\",\"Atriplex halimus\",\"Rumex bucephalophorus\",\"Limonium sp\",\"Limonium carthaginense\",\"Limonium echioides\",\"Limonium cossonianum\",\"Tamarix canariensis\",\"Thesium humifusum\",\"Osyris lanceolata\",\"Medicago minima\",\"Ononis tridentata\",\"Astragalus sp\",\"Astragalus sesameus\",\"Onobrychis sp\",\"Lotus edulis\",\"Dorycnium pentaphyllum\",\"Anthyllis cytisoides\",\"Anthyllis terniflora\",\"Coronilla minima\",\"Bituminaria bituminosa\",\"Ulex parviflorus\",\"Polygala rupestris\",\"Sanguisorba minor\",\"Rhamnus lycioides\",\"Rhamnus alaternus\",\"Quercus coccifera\",\"Viola arborescens\",\"Euphorbia terracina\",\"Euphorbia exigua\",\"Euphorbia falcata\",\"Mercurialis annua\",\"Linum strictum\",\"Gymnosporia senegalensis\",\"Zygophyllum fabago\",\"Fagonia cretica\",\"Erucastrum virgatum\",\"Diplotaxis harra\",\"Moricandia arvensis\",\"Carrichtera annua\",\"Matthiola fruticulosa\",\"Lobularia maritima\",\"Reseda stricta\",\"Reseda phyteuma\",\"Fumana laevipes\",\"Fumana hispidula\",\"Fumana ericoides\",\"Fumana thymifolia\",\"Cistus albidus\",\"Cistus monspeliensis\",\"Cistus clusii\",\"Helianthemum violaceum\",\"Helianthemum squamatum\",\"Helianthemum cinereum\",\"Helianthemum syriacum\",\"Daphne gnidium\",\"Thymelaea hirsuta\",\"Thymelaea tinctoria\",\"Ruta angustifolia\",\"Haplophyllum rosmarinifolium\",\"Pistacia lentiscus\",\"Erodium malacoides\",\"Erodium cicutarium\",\"Sedum sediforme\",\"Serapias parviflora\",\"Asparagus albus\",\"Asparagus acutifolius\",\"Asparagus horridus\",\"Dipcadi serotinum\",\"Lapiedra martinezii\",\"Asphodelus fistulosus\",\"Hyparrhenia hirta\",\"Cynodon dactylon\",\"Phragmites australis\",\"Vulpia myuros\",\"Psilurus incurvus\",\"Dactylis glomerata\",\"Lamarckia aurea\",\"Rostraria cristata\",\"Avena barbata\",\"Bromus fasciculatus\",\"Bromus diandrus\",\"Brachypodium retusum\",\"Brachypodium phoenicoides\",\"Brachypodium distachyon\",\"Stipa offneri\",\"Piptatherum miliaceum\",\"Stipa parviflora\",\"Stipa capensis\",\"Stipa tenacissima\",\"Lygeum spartum\",\"Carex humilis\",\"Juncus acutus\",\"Chamaerops humilis\",\"Juniperus phoenicea\",\"Juniperus oxycedrus\",\"Tetraclinis articulata\",\"Pinus halepensis\",\"Ephedra fragilis\"],\"y\":[\"Teucrium libanitis\",\"Teucrium carolipaui\",\"Teucrium carthaginense\",\"Teucrium capitatum\",\"Teucrium pseudochamaepitys\"],\"z\":[[213.48282,213.48282,213.482821,213.482821,213.482821,213.482821,213.482821,213.482821,213.482821,213.482821,213.482821,213.482821,213.48282,213.482821,213.482821,213.48282,213.482821,213.482821,213.482821,213.482821,213.48282,213.48282,213.482821,213.48282,213.482821,213.482821,213.482821,213.482821,213.482821,213.482821,213.48282,213.482821,213.482821,213.482821,213.482821,213.482821,213.48282,68.5608340000001,68.5608340000001,68.560835,68.560835,68.5608340000002,68.5608340000002,68.560835,0.0,14.1839220000001,14.1839220000001,14.183923,14.183923,57.1514260000001,57.1514260000001,57.151426,57.151427,80.577871,80.5778700000001,105.865523,105.865523,105.865523,105.865523,105.865522,105.865523,142.041217,176.495553,176.495553,179.502135,179.502135,179.502135,179.502134,179.502134,179.502135,179.502135,179.502135,179.502135,179.502135,224.681457,224.681456,224.681457,224.681457,239.748467,239.748466,239.748467,239.748466,239.748466,239.748467,239.748467,239.748466,239.748466,239.748466,239.748466,239.748467,239.748467,239.748467,239.748467,239.748467,239.748466,239.748466,239.748466,239.748467,239.748467,239.748466,242.769328,242.769329,247.468473,247.468472,247.468472,247.468472,247.468472,247.468473,247.468473,247.468472,247.468473,247.468473,247.468473,247.468472,247.468472,247.468473,247.468473,247.468473,247.468473,247.468473,247.4684729998,247.4684729998,247.4684729998,247.4684729998,247.468473,247.468473,247.468473,247.468473,247.4684730003,247.4684730003,247.468473,247.4684730003,247.4684730003,247.4684730003,247.468472,247.468472,247.468472,247.468472,247.468472,247.468472,247.468472,247.468472,247.468473,247.468472,247.468472,247.468472,247.468472,247.468472,247.468473,247.468473,247.468473,247.468473,247.468473,247.468473,247.468473,247.468473,271.516129,271.516129,271.516129,271.516129,271.516129,271.516129,271.516128,271.516129,271.516129,271.516129,271.516129,271.516129,271.516129,271.516129,271.516129,271.516129,271.516128,271.516129,271.516129,271.516129,271.516129,271.516128,271.516129,271.516129,271.516129,271.516129,271.516129,271.516128,271.516129,271.516129,650.100055,650.100055,650.100055,650.100055,650.100055],[213.48282,213.48282,213.482821,213.482821,213.482821,213.482821,213.482821,213.482821,213.482821,213.482821,213.482821,213.482821,213.48282,213.482821,213.482821,213.48282,213.482821,213.482821,213.482821,213.482821,213.48282,213.48282,213.482821,213.48282,213.482821,213.482821,213.482821,213.482821,213.482821,213.482821,213.48282,213.482821,213.482821,213.482821,213.482821,213.482821,213.48282,68.5608340000001,68.5608340000001,68.560835,68.560835,68.5608340000002,68.5608340000002,68.560835,14.1839220000001,0.0,14.1839220000001,14.183923,14.183923,57.1514260000001,57.1514260000001,57.151426,57.151427,80.577871,80.5778700000001,105.865523,105.865523,105.865523,105.865523,105.865522,105.865523,142.041217,176.495553,176.495553,179.502135,179.502135,179.502135,179.502134,179.502134,179.502135,179.502135,179.502135,179.502135,179.502135,224.681457,224.681456,224.681457,224.681457,239.748467,239.748466,239.748467,239.748466,239.748466,239.748467,239.748467,239.748466,239.748466,239.748466,239.748466,239.748467,239.748467,239.748467,239.748467,239.748467,239.748466,239.748466,239.748466,239.748467,239.748467,239.748466,242.769328,242.769329,247.468473,247.468472,247.468472,247.468472,247.468472,247.468473,247.468473,247.468472,247.468473,247.468473,247.468473,247.468472,247.468472,247.468473,247.468473,247.468473,247.468473,247.468473,247.4684729998,247.4684729998,247.4684729998,247.4684729998,247.468473,247.468473,247.468473,247.468473,247.4684730003,247.4684730003,247.468473,247.4684730003,247.4684730003,247.4684730003,247.468472,247.468472,247.468472,247.468472,247.468472,247.468472,247.468472,247.468472,247.468473,247.468472,247.468472,247.468472,247.468472,247.468472,247.468473,247.468473,247.468473,247.468473,247.468473,247.468473,247.468473,247.468473,271.516129,271.516129,271.516129,271.516129,271.516129,271.516129,271.516128,271.516129,271.516129,271.516129,271.516129,271.516129,271.516129,271.516129,271.516129,271.516129,271.516128,271.516129,271.516129,271.516129,271.516129,271.516128,271.516129,271.516129,271.516129,271.516129,271.516129,271.516128,271.516129,271.516129,650.100055,650.100055,650.100055,650.100055,650.100055],[213.48282,213.48282,213.482821,213.482821,213.482821,213.482821,213.482821,213.482821,213.482821,213.482821,213.482821,213.482821,213.48282,213.482821,213.482821,213.48282,213.482821,213.482821,213.482821,213.482821,213.48282,213.48282,213.482821,213.48282,213.482821,213.482821,213.482821,213.482821,213.482821,213.482821,213.48282,213.482821,213.482821,213.482821,213.482821,213.482821,213.48282,68.5608340000001,68.5608340000001,68.560835,68.560835,68.5608340000002,68.5608340000002,68.560835,14.1839220000001,14.1839220000001,0.0,14.183923,14.183923,57.1514260000001,57.1514260000001,57.151426,57.151427,80.577871,80.5778700000001,105.865523,105.865523,105.865523,105.865523,105.865522,105.865523,142.041217,176.495553,176.495553,179.502135,179.502135,179.502135,179.502134,179.502134,179.502135,179.502135,179.502135,179.502135,179.502135,224.681457,224.681456,224.681457,224.681457,239.748467,239.748466,239.748467,239.748466,239.748466,239.748467,239.748467,239.748466,239.748466,239.748466,239.748466,239.748467,239.748467,239.748467,239.748467,239.748467,239.748466,239.748466,239.748466,239.748467,239.748467,239.748466,242.769328,242.769329,247.468473,247.468472,247.468472,247.468472,247.468472,247.468473,247.468473,247.468472,247.468473,247.468473,247.468473,247.468472,247.468472,247.468473,247.468473,247.468473,247.468473,247.468473,247.4684729998,247.4684729998,247.4684729998,247.4684729998,247.468473,247.468473,247.468473,247.468473,247.4684730003,247.4684730003,247.468473,247.4684730003,247.4684730003,247.4684730003,247.468472,247.468472,247.468472,247.468472,247.468472,247.468472,247.468472,247.468472,247.468473,247.468472,247.468472,247.468472,247.468472,247.468472,247.468473,247.468473,247.468473,247.468473,247.468473,247.468473,247.468473,247.468473,271.516129,271.516129,271.516129,271.516129,271.516129,271.516129,271.516128,271.516129,271.516129,271.516129,271.516129,271.516129,271.516129,271.516129,271.516129,271.516129,271.516128,271.516129,271.516129,271.516129,271.516129,271.516128,271.516129,271.516129,271.516129,271.516129,271.516129,271.516128,271.516129,271.516129,650.100055,650.100055,650.100055,650.100055,650.100055],[213.482821,213.482821,213.482822,213.482822,213.482822,213.482822,213.482822,213.482822,213.482822,213.482822,213.482822,213.482822,213.482821,213.482822,213.482822,213.482821,213.482822,213.482822,213.482822,213.482822,213.482821,213.482821,213.482822,213.482821,213.482822,213.482822,213.482822,213.482822,213.482822,213.482822,213.482821,213.482822,213.482822,213.482822,213.482822,213.482822,213.482821,68.560835,68.560835,68.560836,68.560836,68.5608350000002,68.5608350000002,68.560836,14.183923,14.183923,14.183923,0.0,14.178,57.151427,57.1514270000001,57.151427,57.151428,80.577872,80.5778710000001,105.865524,105.865524,105.865524,105.865524,105.865523,105.865524,142.041218,176.495554,176.495554,179.502136,179.502136,179.502136,179.502135,179.502135,179.502136,179.502136,179.502136,179.502136,179.502136,224.681458,224.681457,224.681458,224.681458,239.748468,239.748467,239.748468,239.748467,239.748467,239.748468,239.748468,239.748467,239.748467,239.748467,239.748467,239.748468,239.748468,239.748468,239.748468,239.748468,239.748467,239.748467,239.748467,239.748468,239.748468,239.748467,242.769329,242.76933,247.468474,247.468473,247.468473,247.468473,247.468473,247.468474,247.468474,247.468473,247.468474,247.468474,247.468474,247.468473,247.468473,247.468474,247.468474,247.468474,247.468474,247.468474,247.4684739998,247.4684739998,247.4684739998,247.4684739998,247.468474,247.468474,247.468474,247.468474,247.4684740003,247.4684740003,247.468474,247.4684740003,247.4684740003,247.4684740003,247.468473,247.468473,247.468473,247.468473,247.468473,247.468473,247.468473,247.468473,247.468474,247.468473,247.468473,247.468473,247.468473,247.468473,247.468474,247.468474,247.468474,247.468474,247.468474,247.468474,247.468474,247.468474,271.51613,271.51613,271.51613,271.51613,271.51613,271.51613,271.516129,271.51613,271.51613,271.51613,271.51613,271.51613,271.51613,271.51613,271.51613,271.51613,271.516129,271.51613,271.51613,271.51613,271.51613,271.516129,271.51613,271.51613,271.51613,271.51613,271.51613,271.516129,271.51613,271.51613,650.100056,650.100056,650.100056,650.100056,650.100056],[213.482821,213.482821,213.482822,213.482822,213.482822,213.482822,213.482822,213.482822,213.482822,213.482822,213.482822,213.482822,213.482821,213.482822,213.482822,213.482821,213.482822,213.482822,213.482822,213.482822,213.482821,213.482821,213.482822,213.482821,213.482822,213.482822,213.482822,213.482822,213.482822,213.482822,213.482821,213.482822,213.482822,213.482822,213.482822,213.482822,213.482821,68.560835,68.560835,68.560836,68.560836,68.5608350000002,68.5608350000002,68.560836,14.183923,14.183923,14.183923,14.178,0.0,57.151427,57.1514270000001,57.151427,57.151428,80.577872,80.5778710000001,105.865524,105.865524,105.865524,105.865524,105.865523,105.865524,142.041218,176.495554,176.495554,179.502136,179.502136,179.502136,179.502135,179.502135,179.502136,179.502136,179.502136,179.502136,179.502136,224.681458,224.681457,224.681458,224.681458,239.748468,239.748467,239.748468,239.748467,239.748467,239.748468,239.748468,239.748467,239.748467,239.748467,239.748467,239.748468,239.748468,239.748468,239.748468,239.748468,239.748467,239.748467,239.748467,239.748468,239.748468,239.748467,242.769329,242.76933,247.468474,247.468473,247.468473,247.468473,247.468473,247.468474,247.468474,247.468473,247.468474,247.468474,247.468474,247.468473,247.468473,247.468474,247.468474,247.468474,247.468474,247.468474,247.4684739998,247.4684739998,247.4684739998,247.4684739998,247.468474,247.468474,247.468474,247.468474,247.4684740003,247.4684740003,247.468474,247.4684740003,247.4684740003,247.4684740003,247.468473,247.468473,247.468473,247.468473,247.468473,247.468473,247.468473,247.468473,247.468474,247.468473,247.468473,247.468473,247.468473,247.468473,247.468474,247.468474,247.468474,247.468474,247.468474,247.468474,247.468474,247.468474,271.51613,271.51613,271.51613,271.51613,271.51613,271.51613,271.516129,271.51613,271.51613,271.51613,271.51613,271.51613,271.51613,271.51613,271.51613,271.51613,271.516129,271.51613,271.51613,271.51613,271.51613,271.516129,271.51613,271.51613,271.51613,271.51613,271.51613,271.516129,271.51613,271.51613,650.100056,650.100056,650.100056,650.100056,650.100056]],\"type\":\"heatmap\",\"xaxis\":\"x\",\"yaxis\":\"y\",\"hovertemplate\":\"x: %{x}<br>y: %{y}<br>color: %{z}<extra></extra>\"}],                        {\"template\":{\"data\":{\"histogram2dcontour\":[{\"type\":\"histogram2dcontour\",\"colorbar\":{\"outlinewidth\":0,\"ticks\":\"\"},\"colorscale\":[[0.0,\"#0d0887\"],[0.1111111111111111,\"#46039f\"],[0.2222222222222222,\"#7201a8\"],[0.3333333333333333,\"#9c179e\"],[0.4444444444444444,\"#bd3786\"],[0.5555555555555556,\"#d8576b\"],[0.6666666666666666,\"#ed7953\"],[0.7777777777777778,\"#fb9f3a\"],[0.8888888888888888,\"#fdca26\"],[1.0,\"#f0f921\"]]}],\"choropleth\":[{\"type\":\"choropleth\",\"colorbar\":{\"outlinewidth\":0,\"ticks\":\"\"}}],\"histogram2d\":[{\"type\":\"histogram2d\",\"colorbar\":{\"outlinewidth\":0,\"ticks\":\"\"},\"colorscale\":[[0.0,\"#0d0887\"],[0.1111111111111111,\"#46039f\"],[0.2222222222222222,\"#7201a8\"],[0.3333333333333333,\"#9c179e\"],[0.4444444444444444,\"#bd3786\"],[0.5555555555555556,\"#d8576b\"],[0.6666666666666666,\"#ed7953\"],[0.7777777777777778,\"#fb9f3a\"],[0.8888888888888888,\"#fdca26\"],[1.0,\"#f0f921\"]]}],\"heatmap\":[{\"type\":\"heatmap\",\"colorbar\":{\"outlinewidth\":0,\"ticks\":\"\"},\"colorscale\":[[0.0,\"#0d0887\"],[0.1111111111111111,\"#46039f\"],[0.2222222222222222,\"#7201a8\"],[0.3333333333333333,\"#9c179e\"],[0.4444444444444444,\"#bd3786\"],[0.5555555555555556,\"#d8576b\"],[0.6666666666666666,\"#ed7953\"],[0.7777777777777778,\"#fb9f3a\"],[0.8888888888888888,\"#fdca26\"],[1.0,\"#f0f921\"]]}],\"heatmapgl\":[{\"type\":\"heatmapgl\",\"colorbar\":{\"outlinewidth\":0,\"ticks\":\"\"},\"colorscale\":[[0.0,\"#0d0887\"],[0.1111111111111111,\"#46039f\"],[0.2222222222222222,\"#7201a8\"],[0.3333333333333333,\"#9c179e\"],[0.4444444444444444,\"#bd3786\"],[0.5555555555555556,\"#d8576b\"],[0.6666666666666666,\"#ed7953\"],[0.7777777777777778,\"#fb9f3a\"],[0.8888888888888888,\"#fdca26\"],[1.0,\"#f0f921\"]]}],\"contourcarpet\":[{\"type\":\"contourcarpet\",\"colorbar\":{\"outlinewidth\":0,\"ticks\":\"\"}}],\"contour\":[{\"type\":\"contour\",\"colorbar\":{\"outlinewidth\":0,\"ticks\":\"\"},\"colorscale\":[[0.0,\"#0d0887\"],[0.1111111111111111,\"#46039f\"],[0.2222222222222222,\"#7201a8\"],[0.3333333333333333,\"#9c179e\"],[0.4444444444444444,\"#bd3786\"],[0.5555555555555556,\"#d8576b\"],[0.6666666666666666,\"#ed7953\"],[0.7777777777777778,\"#fb9f3a\"],[0.8888888888888888,\"#fdca26\"],[1.0,\"#f0f921\"]]}],\"surface\":[{\"type\":\"surface\",\"colorbar\":{\"outlinewidth\":0,\"ticks\":\"\"},\"colorscale\":[[0.0,\"#0d0887\"],[0.1111111111111111,\"#46039f\"],[0.2222222222222222,\"#7201a8\"],[0.3333333333333333,\"#9c179e\"],[0.4444444444444444,\"#bd3786\"],[0.5555555555555556,\"#d8576b\"],[0.6666666666666666,\"#ed7953\"],[0.7777777777777778,\"#fb9f3a\"],[0.8888888888888888,\"#fdca26\"],[1.0,\"#f0f921\"]]}],\"mesh3d\":[{\"type\":\"mesh3d\",\"colorbar\":{\"outlinewidth\":0,\"ticks\":\"\"}}],\"scatter\":[{\"fillpattern\":{\"fillmode\":\"overlay\",\"size\":10,\"solidity\":0.2},\"type\":\"scatter\"}],\"parcoords\":[{\"type\":\"parcoords\",\"line\":{\"colorbar\":{\"outlinewidth\":0,\"ticks\":\"\"}}}],\"scatterpolargl\":[{\"type\":\"scatterpolargl\",\"marker\":{\"colorbar\":{\"outlinewidth\":0,\"ticks\":\"\"}}}],\"bar\":[{\"error_x\":{\"color\":\"#2a3f5f\"},\"error_y\":{\"color\":\"#2a3f5f\"},\"marker\":{\"line\":{\"color\":\"white\",\"width\":0.5},\"pattern\":{\"fillmode\":\"overlay\",\"size\":10,\"solidity\":0.2}},\"type\":\"bar\"}],\"scattergeo\":[{\"type\":\"scattergeo\",\"marker\":{\"colorbar\":{\"outlinewidth\":0,\"ticks\":\"\"}}}],\"scatterpolar\":[{\"type\":\"scatterpolar\",\"marker\":{\"colorbar\":{\"outlinewidth\":0,\"ticks\":\"\"}}}],\"histogram\":[{\"marker\":{\"pattern\":{\"fillmode\":\"overlay\",\"size\":10,\"solidity\":0.2}},\"type\":\"histogram\"}],\"scattergl\":[{\"type\":\"scattergl\",\"marker\":{\"colorbar\":{\"outlinewidth\":0,\"ticks\":\"\"}}}],\"scatter3d\":[{\"type\":\"scatter3d\",\"line\":{\"colorbar\":{\"outlinewidth\":0,\"ticks\":\"\"}},\"marker\":{\"colorbar\":{\"outlinewidth\":0,\"ticks\":\"\"}}}],\"scattermapbox\":[{\"type\":\"scattermapbox\",\"marker\":{\"colorbar\":{\"outlinewidth\":0,\"ticks\":\"\"}}}],\"scatterternary\":[{\"type\":\"scatterternary\",\"marker\":{\"colorbar\":{\"outlinewidth\":0,\"ticks\":\"\"}}}],\"scattercarpet\":[{\"type\":\"scattercarpet\",\"marker\":{\"colorbar\":{\"outlinewidth\":0,\"ticks\":\"\"}}}],\"carpet\":[{\"aaxis\":{\"endlinecolor\":\"#2a3f5f\",\"gridcolor\":\"#C8D4E3\",\"linecolor\":\"#C8D4E3\",\"minorgridcolor\":\"#C8D4E3\",\"startlinecolor\":\"#2a3f5f\"},\"baxis\":{\"endlinecolor\":\"#2a3f5f\",\"gridcolor\":\"#C8D4E3\",\"linecolor\":\"#C8D4E3\",\"minorgridcolor\":\"#C8D4E3\",\"startlinecolor\":\"#2a3f5f\"},\"type\":\"carpet\"}],\"table\":[{\"cells\":{\"fill\":{\"color\":\"#EBF0F8\"},\"line\":{\"color\":\"white\"}},\"header\":{\"fill\":{\"color\":\"#C8D4E3\"},\"line\":{\"color\":\"white\"}},\"type\":\"table\"}],\"barpolar\":[{\"marker\":{\"line\":{\"color\":\"white\",\"width\":0.5},\"pattern\":{\"fillmode\":\"overlay\",\"size\":10,\"solidity\":0.2}},\"type\":\"barpolar\"}],\"pie\":[{\"automargin\":true,\"type\":\"pie\"}]},\"layout\":{\"autotypenumbers\":\"strict\",\"colorway\":[\"#636efa\",\"#EF553B\",\"#00cc96\",\"#ab63fa\",\"#FFA15A\",\"#19d3f3\",\"#FF6692\",\"#B6E880\",\"#FF97FF\",\"#FECB52\"],\"font\":{\"color\":\"#2a3f5f\"},\"hovermode\":\"closest\",\"hoverlabel\":{\"align\":\"left\"},\"paper_bgcolor\":\"white\",\"plot_bgcolor\":\"white\",\"polar\":{\"bgcolor\":\"white\",\"angularaxis\":{\"gridcolor\":\"#EBF0F8\",\"linecolor\":\"#EBF0F8\",\"ticks\":\"\"},\"radialaxis\":{\"gridcolor\":\"#EBF0F8\",\"linecolor\":\"#EBF0F8\",\"ticks\":\"\"}},\"ternary\":{\"bgcolor\":\"white\",\"aaxis\":{\"gridcolor\":\"#DFE8F3\",\"linecolor\":\"#A2B1C6\",\"ticks\":\"\"},\"baxis\":{\"gridcolor\":\"#DFE8F3\",\"linecolor\":\"#A2B1C6\",\"ticks\":\"\"},\"caxis\":{\"gridcolor\":\"#DFE8F3\",\"linecolor\":\"#A2B1C6\",\"ticks\":\"\"}},\"coloraxis\":{\"colorbar\":{\"outlinewidth\":0,\"ticks\":\"\"}},\"colorscale\":{\"sequential\":[[0.0,\"#0d0887\"],[0.1111111111111111,\"#46039f\"],[0.2222222222222222,\"#7201a8\"],[0.3333333333333333,\"#9c179e\"],[0.4444444444444444,\"#bd3786\"],[0.5555555555555556,\"#d8576b\"],[0.6666666666666666,\"#ed7953\"],[0.7777777777777778,\"#fb9f3a\"],[0.8888888888888888,\"#fdca26\"],[1.0,\"#f0f921\"]],\"sequentialminus\":[[0.0,\"#0d0887\"],[0.1111111111111111,\"#46039f\"],[0.2222222222222222,\"#7201a8\"],[0.3333333333333333,\"#9c179e\"],[0.4444444444444444,\"#bd3786\"],[0.5555555555555556,\"#d8576b\"],[0.6666666666666666,\"#ed7953\"],[0.7777777777777778,\"#fb9f3a\"],[0.8888888888888888,\"#fdca26\"],[1.0,\"#f0f921\"]],\"diverging\":[[0,\"#8e0152\"],[0.1,\"#c51b7d\"],[0.2,\"#de77ae\"],[0.3,\"#f1b6da\"],[0.4,\"#fde0ef\"],[0.5,\"#f7f7f7\"],[0.6,\"#e6f5d0\"],[0.7,\"#b8e186\"],[0.8,\"#7fbc41\"],[0.9,\"#4d9221\"],[1,\"#276419\"]]},\"xaxis\":{\"gridcolor\":\"#EBF0F8\",\"linecolor\":\"#EBF0F8\",\"ticks\":\"\",\"title\":{\"standoff\":15},\"zerolinecolor\":\"#EBF0F8\",\"automargin\":true,\"zerolinewidth\":2},\"yaxis\":{\"gridcolor\":\"#EBF0F8\",\"linecolor\":\"#EBF0F8\",\"ticks\":\"\",\"title\":{\"standoff\":15},\"zerolinecolor\":\"#EBF0F8\",\"automargin\":true,\"zerolinewidth\":2},\"scene\":{\"xaxis\":{\"backgroundcolor\":\"white\",\"gridcolor\":\"#DFE8F3\",\"linecolor\":\"#EBF0F8\",\"showbackground\":true,\"ticks\":\"\",\"zerolinecolor\":\"#EBF0F8\",\"gridwidth\":2},\"yaxis\":{\"backgroundcolor\":\"white\",\"gridcolor\":\"#DFE8F3\",\"linecolor\":\"#EBF0F8\",\"showbackground\":true,\"ticks\":\"\",\"zerolinecolor\":\"#EBF0F8\",\"gridwidth\":2},\"zaxis\":{\"backgroundcolor\":\"white\",\"gridcolor\":\"#DFE8F3\",\"linecolor\":\"#EBF0F8\",\"showbackground\":true,\"ticks\":\"\",\"zerolinecolor\":\"#EBF0F8\",\"gridwidth\":2}},\"shapedefaults\":{\"line\":{\"color\":\"#2a3f5f\"}},\"annotationdefaults\":{\"arrowcolor\":\"#2a3f5f\",\"arrowhead\":0,\"arrowwidth\":1},\"geo\":{\"bgcolor\":\"white\",\"landcolor\":\"white\",\"subunitcolor\":\"#C8D4E3\",\"showland\":true,\"showlakes\":true,\"lakecolor\":\"white\"},\"title\":{\"x\":0.05},\"mapbox\":{\"style\":\"light\"}}},\"xaxis\":{\"anchor\":\"y\",\"domain\":[0.0,1.0]},\"yaxis\":{\"anchor\":\"x\",\"domain\":[0.0,1.0],\"autorange\":\"reversed\"},\"coloraxis\":{\"colorscale\":[[0.0,\"#1331c1\"],[0.00392156862745098,\"#1832c1\"],[0.00784313725490196,\"#1c32c0\"],[0.011764705882352941,\"#1f33c0\"],[0.01568627450980392,\"#2234bf\"],[0.0196078431372549,\"#2534bf\"],[0.023529411764705882,\"#2735bf\"],[0.027450980392156862,\"#2a36be\"],[0.03137254901960784,\"#2c37be\"],[0.03529411764705882,\"#2e37be\"],[0.0392156862745098,\"#3038bd\"],[0.043137254901960784,\"#3239bd\"],[0.047058823529411764,\"#343abd\"],[0.050980392156862744,\"#363abc\"],[0.054901960784313725,\"#383bbc\"],[0.058823529411764705,\"#393cbc\"],[0.06274509803921569,\"#3b3cbb\"],[0.06666666666666667,\"#3d3dbb\"],[0.07058823529411765,\"#3e3ebb\"],[0.07450980392156863,\"#403fba\"],[0.0784313725490196,\"#413fba\"],[0.08235294117647059,\"#4240b9\"],[0.08627450980392157,\"#4441b9\"],[0.09019607843137255,\"#4542b9\"],[0.09411764705882353,\"#4642b8\"],[0.09803921568627451,\"#4843b8\"],[0.10196078431372549,\"#4944b8\"],[0.10588235294117647,\"#4a44b7\"],[0.10980392156862745,\"#4b45b7\"],[0.11372549019607843,\"#4d46b7\"],[0.11764705882352941,\"#4e47b6\"],[0.12156862745098039,\"#4f47b6\"],[0.12549019607843137,\"#5048b6\"],[0.12941176470588237,\"#5149b5\"],[0.13333333333333333,\"#524ab5\"],[0.13725490196078433,\"#534ab4\"],[0.1411764705882353,\"#544bb4\"],[0.1450980392156863,\"#554cb4\"],[0.14901960784313725,\"#564db3\"],[0.15294117647058825,\"#574db3\"],[0.1568627450980392,\"#584eb3\"],[0.1607843137254902,\"#594fb2\"],[0.16470588235294117,\"#5a50b2\"],[0.16862745098039217,\"#5b50b2\"],[0.17254901960784313,\"#5c51b1\"],[0.17647058823529413,\"#5d52b1\"],[0.1803921568627451,\"#5e52b0\"],[0.1843137254901961,\"#5f53b0\"],[0.18823529411764706,\"#6054b0\"],[0.19215686274509805,\"#6155af\"],[0.19607843137254902,\"#6155af\"],[0.2,\"#6256af\"],[0.20392156862745098,\"#6357ae\"],[0.20784313725490197,\"#6458ae\"],[0.21176470588235294,\"#6558ad\"],[0.21568627450980393,\"#6659ad\"],[0.2196078431372549,\"#665aad\"],[0.2235294117647059,\"#675bac\"],[0.22745098039215686,\"#685bac\"],[0.23137254901960785,\"#695cac\"],[0.23529411764705882,\"#695dab\"],[0.23921568627450981,\"#6a5eab\"],[0.24313725490196078,\"#6b5eab\"],[0.24705882352941178,\"#6c5faa\"],[0.25098039215686274,\"#6c60aa\"],[0.2549019607843137,\"#6d61a9\"],[0.25882352941176473,\"#6e61a9\"],[0.2627450980392157,\"#6f62a9\"],[0.26666666666666666,\"#6f63a8\"],[0.27058823529411763,\"#7064a8\"],[0.27450980392156865,\"#7164a7\"],[0.2784313725490196,\"#7165a7\"],[0.2823529411764706,\"#7266a7\"],[0.28627450980392155,\"#7367a6\"],[0.2901960784313726,\"#7367a6\"],[0.29411764705882354,\"#7468a6\"],[0.2980392156862745,\"#7569a5\"],[0.30196078431372547,\"#756aa5\"],[0.3058823529411765,\"#766aa4\"],[0.30980392156862746,\"#776ba4\"],[0.3137254901960784,\"#776ca4\"],[0.3176470588235294,\"#786da3\"],[0.3215686274509804,\"#786da3\"],[0.3254901960784314,\"#796ea2\"],[0.32941176470588235,\"#7a6fa2\"],[0.3333333333333333,\"#7a70a2\"],[0.33725490196078434,\"#7b70a1\"],[0.3411764705882353,\"#7b71a1\"],[0.34509803921568627,\"#7c72a0\"],[0.34901960784313724,\"#7d73a0\"],[0.35294117647058826,\"#7d73a0\"],[0.3568627450980392,\"#7e749f\"],[0.3607843137254902,\"#7e759f\"],[0.36470588235294116,\"#7f769e\"],[0.3686274509803922,\"#80769e\"],[0.37254901960784315,\"#80779e\"],[0.3764705882352941,\"#81789d\"],[0.3803921568627451,\"#81799d\"],[0.3843137254901961,\"#82799c\"],[0.38823529411764707,\"#827a9c\"],[0.39215686274509803,\"#837b9c\"],[0.396078431372549,\"#837c9b\"],[0.4,\"#847c9b\"],[0.403921568627451,\"#847d9a\"],[0.40784313725490196,\"#857e9a\"],[0.4117647058823529,\"#857f9a\"],[0.41568627450980394,\"#868099\"],[0.4196078431372549,\"#868099\"],[0.4235294117647059,\"#878198\"],[0.42745098039215684,\"#878298\"],[0.43137254901960786,\"#888398\"],[0.43529411764705883,\"#888397\"],[0.4392156862745098,\"#898497\"],[0.44313725490196076,\"#898596\"],[0.4470588235294118,\"#8a8696\"],[0.45098039215686275,\"#8a8695\"],[0.4549019607843137,\"#8b8795\"],[0.4588235294117647,\"#8b8895\"],[0.4627450980392157,\"#8c8994\"],[0.4666666666666667,\"#8c8a94\"],[0.47058823529411764,\"#8d8a93\"],[0.4745098039215686,\"#8d8b93\"],[0.47843137254901963,\"#8e8c92\"],[0.4823529411764706,\"#8e8d92\"],[0.48627450980392156,\"#8e8d92\"],[0.49019607843137253,\"#8f8e91\"],[0.49411764705882355,\"#8f8f91\"],[0.4980392156862745,\"#909090\"],[0.5019607843137255,\"#919090\"],[0.5058823529411764,\"#92918f\"],[0.5098039215686274,\"#93928f\"],[0.5137254901960784,\"#94928e\"],[0.5176470588235295,\"#95938d\"],[0.5215686274509804,\"#96938d\"],[0.5254901960784314,\"#97948c\"],[0.5294117647058824,\"#98958c\"],[0.5333333333333333,\"#99958b\"],[0.5372549019607843,\"#9a968a\"],[0.5411764705882353,\"#9b968a\"],[0.5450980392156862,\"#9c9789\"],[0.5490196078431373,\"#9d9888\"],[0.5529411764705883,\"#9e9888\"],[0.5568627450980392,\"#9f9987\"],[0.5607843137254902,\"#a09a87\"],[0.5647058823529412,\"#a19a86\"],[0.5686274509803921,\"#a29b85\"],[0.5725490196078431,\"#a29b85\"],[0.5764705882352941,\"#a39c84\"],[0.5803921568627451,\"#a49d83\"],[0.5843137254901961,\"#a59d83\"],[0.5882352941176471,\"#a69e82\"],[0.592156862745098,\"#a79f82\"],[0.596078431372549,\"#a89f81\"],[0.6,\"#a9a080\"],[0.6039215686274509,\"#aaa080\"],[0.6078431372549019,\"#aba17f\"],[0.611764705882353,\"#aca27e\"],[0.615686274509804,\"#ada27e\"],[0.6196078431372549,\"#aea37d\"],[0.6235294117647059,\"#aea47c\"],[0.6274509803921569,\"#afa47c\"],[0.6313725490196078,\"#b0a57b\"],[0.6352941176470588,\"#b1a67a\"],[0.6392156862745098,\"#b2a67a\"],[0.6431372549019608,\"#b3a779\"],[0.6470588235294118,\"#b4a778\"],[0.6509803921568628,\"#b5a878\"],[0.6549019607843137,\"#b6a977\"],[0.6588235294117647,\"#b6a976\"],[0.6627450980392157,\"#b7aa76\"],[0.6666666666666666,\"#b8ab75\"],[0.6705882352941176,\"#b9ab74\"],[0.6745098039215687,\"#baac73\"],[0.6784313725490196,\"#bbad73\"],[0.6823529411764706,\"#bcad72\"],[0.6862745098039216,\"#bdae71\"],[0.6901960784313725,\"#bdae71\"],[0.6941176470588235,\"#beaf70\"],[0.6980392156862745,\"#bfb06f\"],[0.7019607843137254,\"#c0b06e\"],[0.7058823529411765,\"#c1b16e\"],[0.7098039215686275,\"#c2b26d\"],[0.7137254901960784,\"#c3b26c\"],[0.7176470588235294,\"#c3b36b\"],[0.7215686274509804,\"#c4b46b\"],[0.7254901960784313,\"#c5b46a\"],[0.7294117647058823,\"#c6b569\"],[0.7333333333333333,\"#c7b668\"],[0.7372549019607844,\"#c8b668\"],[0.7411764705882353,\"#c8b767\"],[0.7450980392156863,\"#c9b866\"],[0.7490196078431373,\"#cab865\"],[0.7529411764705882,\"#cbb965\"],[0.7568627450980392,\"#ccba64\"],[0.7607843137254902,\"#ccba63\"],[0.7647058823529411,\"#cdbb62\"],[0.7686274509803922,\"#cebc61\"],[0.7725490196078432,\"#cfbc60\"],[0.7764705882352941,\"#d0bd60\"],[0.7803921568627451,\"#d1be5f\"],[0.7843137254901961,\"#d1be5e\"],[0.788235294117647,\"#d2bf5d\"],[0.792156862745098,\"#d3c05c\"],[0.796078431372549,\"#d4c05b\"],[0.8,\"#d5c15a\"],[0.803921568627451,\"#d5c25a\"],[0.807843137254902,\"#d6c259\"],[0.8117647058823529,\"#d7c358\"],[0.8156862745098039,\"#d8c457\"],[0.8196078431372549,\"#d9c456\"],[0.8235294117647058,\"#d9c555\"],[0.8274509803921568,\"#dac654\"],[0.8313725490196079,\"#dbc653\"],[0.8352941176470589,\"#dcc752\"],[0.8392156862745098,\"#ddc851\"],[0.8431372549019608,\"#ddc850\"],[0.8470588235294118,\"#dec94f\"],[0.8509803921568627,\"#dfca4e\"],[0.8549019607843137,\"#e0ca4d\"],[0.8588235294117647,\"#e1cb4c\"],[0.8627450980392157,\"#e1cc4b\"],[0.8666666666666667,\"#e2cc4a\"],[0.8705882352941177,\"#e3cd49\"],[0.8745098039215686,\"#e4ce48\"],[0.8784313725490196,\"#e4ce47\"],[0.8823529411764706,\"#e5cf46\"],[0.8862745098039215,\"#e6d044\"],[0.8901960784313725,\"#e7d043\"],[0.8941176470588236,\"#e8d142\"],[0.8980392156862745,\"#e8d241\"],[0.9019607843137255,\"#e9d240\"],[0.9058823529411765,\"#ead33e\"],[0.9098039215686274,\"#ebd43d\"],[0.9137254901960784,\"#ebd43c\"],[0.9176470588235294,\"#ecd53a\"],[0.9215686274509803,\"#edd639\"],[0.9254901960784314,\"#eed637\"],[0.9294117647058824,\"#efd736\"],[0.9333333333333333,\"#efd834\"],[0.9372549019607843,\"#f0d833\"],[0.9411764705882353,\"#f1d931\"],[0.9450980392156862,\"#f2da30\"],[0.9490196078431372,\"#f2da2e\"],[0.9529411764705882,\"#f3db2c\"],[0.9568627450980393,\"#f4dc2a\"],[0.9607843137254902,\"#f5dd28\"],[0.9647058823529412,\"#f5dd26\"],[0.9686274509803922,\"#f6de24\"],[0.9725490196078431,\"#f7df22\"],[0.9764705882352941,\"#f8df1f\"],[0.9803921568627451,\"#f8e01d\"],[0.984313725490196,\"#f9e11a\"],[0.9882352941176471,\"#fae116\"],[0.9921568627450981,\"#fbe213\"],[0.996078431372549,\"#fbe30e\"],[1.0,\"#fce309\"]]},\"margin\":{\"t\":60},\"height\":400},                        {\"responsive\": true}                    ).then(function(){\n",
       "                            \n",
       "var gd = document.getElementById('ec6ea55b-98ec-4780-817b-e07efefc80a9');\n",
       "var x = new MutationObserver(function (mutations, observer) {{\n",
       "        var display = window.getComputedStyle(gd).display;\n",
       "        if (!display || display === 'none') {{\n",
       "            console.log([gd, 'removed!']);\n",
       "            Plotly.purge(gd);\n",
       "            observer.disconnect();\n",
       "        }}\n",
       "}});\n",
       "\n",
       "// Listen for the removal of the full notebook cells\n",
       "var notebookContainer = gd.closest('#notebook-container');\n",
       "if (notebookContainer) {{\n",
       "    x.observe(notebookContainer, {childList: true});\n",
       "}}\n",
       "\n",
       "// Listen for the clearing of the current output cell\n",
       "var outputEl = gd.closest('.output');\n",
       "if (outputEl) {{\n",
       "    x.observe(outputEl, {childList: true});\n",
       "}}\n",
       "\n",
       "                        })                };                });            </script>        </div>"
      ]
     },
     "metadata": {},
     "output_type": "display_data"
    }
   ],
   "source": [
    "phylo.loc[_, :].plot(kind='imshow', aspect='auto')"
   ]
  },
  {
   "cell_type": "code",
   "execution_count": 94,
   "metadata": {
    "tags": []
   },
   "outputs": [
    {
     "data": {
      "text/plain": [
       "Index(['Bouteloa gracilis', 'Neobuxbaumia mezcalaensis', 'Lippia graveolens',\n",
       "       'Yucca periculosa', 'Calliandra eriophylla', 'Aeschinomene compacta',\n",
       "       'Echinopterix eglandulosa', 'Ruelia', 'Ipomea sp',\n",
       "       'Lantana achirantifolia', 'Justicia mexicana',\n",
       "       'Ruelia hirsutoglandulosa', 'Cnidosculus tehuacanensis',\n",
       "       'Opuntia decumbens', 'Hechtia', 'Hibiscus'],\n",
       "      dtype='object')"
      ]
     },
     "execution_count": 94,
     "metadata": {},
     "output_type": "execute_result"
    }
   ],
   "source": [
    "species_target"
   ]
  },
  {
   "cell_type": "code",
   "execution_count": 151,
   "metadata": {
    "tags": []
   },
   "outputs": [
    {
     "data": {
      "application/vnd.plotly.v1+json": {
       "config": {
        "plotlyServerURL": "https://plot.ly"
       },
       "data": [
        {
         "coloraxis": "coloraxis",
         "hovertemplate": "x: %{x}<br>y: %{y}<br>color: %{z}<extra></extra>",
         "name": "0",
         "type": "heatmap",
         "x": [
          "Fumana thymifolia",
          "Stipa tenacissima",
          "Helianthemum violaceum",
          "Brachypodium retusum",
          "Fumana ericoides",
          "Rosmarinus officinalis",
          "Helianthemum syriacum",
          "Teucrium capitatum",
          "Atractylis cancellata",
          "Teucrium pseudochamaepitys",
          "Phagnalon rupestre",
          "Teucrium mola",
          "Fumana hispidula",
          "Sedum sediforme",
          "Matthiola fruticulosa",
          "Thymus vulgaris"
         ],
         "xaxis": "x",
         "y": [
          "Helichrysum stoechas",
          "Piptatherum miliaceum",
          "Hyparrhenia sinaica",
          "Reichardia tingitana",
          "Dittrichia viscosa",
          "Sonchus tenerrimus",
          "Linum strictum",
          "Pinus halepensis",
          "Leontodon longirostris",
          "Phagnalon saxatile",
          "Plantago crassifolia",
          "Fagonia cretica",
          "Atriplex halimus",
          "Lygeum spartum",
          "Paronychia suffruticosa",
          "Limonium carthaginense"
         ],
         "yaxis": "y",
         "z": [
          [
           247.468473,
           271.51613,
           247.468473,
           271.51613,
           247.468473,
           213.482822,
           247.468473,
           213.482822,
           68.560448,
           213.482822,
           27.369892,
           213.482821,
           247.468473,
           247.468474,
           247.4684740003,
           213.482822
          ],
          [
           271.516129,
           19.288636,
           271.516129,
           47.699884,
           271.516129,
           271.51613,
           271.516129,
           271.51613,
           271.51613,
           271.51613,
           271.51613,
           271.516129,
           271.516129,
           271.51613,
           271.5161300003,
           271.51613
          ],
          [
           271.516129,
           79.502156,
           271.516129,
           79.502156,
           271.516129,
           271.51613,
           271.516129,
           271.51613,
           271.51613,
           271.51613,
           271.51613,
           271.516129,
           271.516129,
           271.51613,
           271.5161300003,
           271.51613
          ],
          [
           247.468473,
           271.51613,
           247.468473,
           271.51613,
           247.468473,
           213.482822,
           247.468473,
           213.482822,
           68.560448,
           213.482822,
           61.348278,
           213.482821,
           247.468473,
           247.468474,
           247.4684740003,
           213.482822
          ],
          [
           247.468473,
           271.51613,
           247.468473,
           271.51613,
           247.468473,
           213.482822,
           247.468473,
           213.482822,
           68.560448,
           213.482822,
           44.199414,
           213.482821,
           247.468473,
           247.468474,
           247.4684740003,
           213.482822
          ],
          [
           247.468473,
           271.51613,
           247.468473,
           271.51613,
           247.468473,
           213.482822,
           247.468473,
           213.482822,
           68.560448,
           213.482822,
           61.348278,
           213.482821,
           247.468473,
           247.468474,
           247.4684740003,
           213.482822
          ],
          [
           237.157207,
           271.51613,
           237.157207,
           271.51613,
           237.157207,
           247.468474,
           237.157207,
           247.468474,
           247.468474,
           247.468474,
           247.468474,
           247.468473,
           237.157207,
           244.810184,
           237.1572080003,
           247.468474
          ],
          [
           650.100055,
           650.100056,
           650.100055,
           650.100056,
           650.100055,
           650.100056,
           650.100055,
           650.100056,
           650.100056,
           650.100056,
           650.100056,
           650.100055,
           650.100055,
           650.100056,
           650.1000560003,
           650.100056
          ],
          [
           247.468472,
           271.516129,
           247.468472,
           271.516129,
           247.468472,
           213.482821,
           247.468472,
           213.482821,
           68.5604470000001,
           213.482821,
           61.3482770000001,
           213.48282,
           247.468472,
           247.468473,
           247.4684730003,
           213.482821
          ],
          [
           247.468473,
           271.51613,
           247.468473,
           271.51613,
           247.468473,
           213.482822,
           247.468473,
           213.482822,
           68.560448,
           213.482822,
           2.438204,
           213.482821,
           247.468473,
           247.468474,
           247.4684740003,
           213.482822
          ],
          [
           247.468473,
           271.51613,
           247.468473,
           271.51613,
           247.468473,
           105.865524,
           247.468473,
           105.865524,
           213.482822,
           105.865524,
           213.482822,
           105.865523,
           247.468473,
           247.468474,
           247.4684740003,
           105.865524
          ],
          [
           237.157207,
           271.51613,
           237.157207,
           271.51613,
           237.157207,
           247.468474,
           237.157207,
           247.468474,
           247.468474,
           247.468474,
           247.468474,
           247.468473,
           237.157207,
           244.810184,
           237.1572080003,
           247.468474
          ],
          [
           247.468473,
           271.51613,
           247.468473,
           271.51613,
           247.468473,
           239.748468,
           247.468473,
           239.748468,
           239.748468,
           239.748468,
           239.748468,
           239.748467,
           247.468473,
           247.468474,
           247.4684740003,
           239.748468
          ],
          [
           271.516129,
           54.897342,
           271.516129,
           54.897342,
           271.516129,
           271.51613,
           271.516129,
           271.51613,
           271.51613,
           271.51613,
           271.51613,
           271.516129,
           271.516129,
           271.51613,
           271.5161300003,
           271.51613
          ],
          [
           247.468472,
           271.516129,
           247.468472,
           271.516129,
           247.468472,
           239.748467,
           247.468472,
           239.748467,
           239.748467,
           239.748467,
           239.748467,
           239.748466,
           247.468472,
           247.468473,
           247.4684730003,
           239.748467
          ],
          [
           247.468472,
           271.516129,
           247.468472,
           271.516129,
           247.468472,
           239.748467,
           247.468472,
           239.748467,
           239.748467,
           239.748467,
           239.748467,
           239.748466,
           247.468472,
           247.468473,
           247.4684730003,
           239.748467
          ]
         ]
        }
       ],
       "layout": {
        "autosize": true,
        "coloraxis": {
         "colorscale": [
          [
           0,
           "#f0f921"
          ],
          [
           0.1111111111111111,
           "#fdca26"
          ],
          [
           0.2222222222222222,
           "#fb9f3a"
          ],
          [
           0.3333333333333333,
           "#ed7953"
          ],
          [
           0.4444444444444444,
           "#d8576b"
          ],
          [
           0.5555555555555556,
           "#bd3786"
          ],
          [
           0.6666666666666666,
           "#9c179e"
          ],
          [
           0.7777777777777778,
           "#7201a8"
          ],
          [
           0.8888888888888888,
           "#46039f"
          ],
          [
           1,
           "#0d0887"
          ]
         ]
        },
        "margin": {
         "t": 60
        },
        "template": {
         "data": {
          "bar": [
           {
            "error_x": {
             "color": "#2a3f5f"
            },
            "error_y": {
             "color": "#2a3f5f"
            },
            "marker": {
             "line": {
              "color": "white",
              "width": 0.5
             },
             "pattern": {
              "fillmode": "overlay",
              "size": 10,
              "solidity": 0.2
             }
            },
            "type": "bar"
           }
          ],
          "barpolar": [
           {
            "marker": {
             "line": {
              "color": "white",
              "width": 0.5
             },
             "pattern": {
              "fillmode": "overlay",
              "size": 10,
              "solidity": 0.2
             }
            },
            "type": "barpolar"
           }
          ],
          "carpet": [
           {
            "aaxis": {
             "endlinecolor": "#2a3f5f",
             "gridcolor": "#C8D4E3",
             "linecolor": "#C8D4E3",
             "minorgridcolor": "#C8D4E3",
             "startlinecolor": "#2a3f5f"
            },
            "baxis": {
             "endlinecolor": "#2a3f5f",
             "gridcolor": "#C8D4E3",
             "linecolor": "#C8D4E3",
             "minorgridcolor": "#C8D4E3",
             "startlinecolor": "#2a3f5f"
            },
            "type": "carpet"
           }
          ],
          "choropleth": [
           {
            "colorbar": {
             "outlinewidth": 0,
             "ticks": ""
            },
            "type": "choropleth"
           }
          ],
          "contour": [
           {
            "colorbar": {
             "outlinewidth": 0,
             "ticks": ""
            },
            "colorscale": [
             [
              0,
              "#0d0887"
             ],
             [
              0.1111111111111111,
              "#46039f"
             ],
             [
              0.2222222222222222,
              "#7201a8"
             ],
             [
              0.3333333333333333,
              "#9c179e"
             ],
             [
              0.4444444444444444,
              "#bd3786"
             ],
             [
              0.5555555555555556,
              "#d8576b"
             ],
             [
              0.6666666666666666,
              "#ed7953"
             ],
             [
              0.7777777777777778,
              "#fb9f3a"
             ],
             [
              0.8888888888888888,
              "#fdca26"
             ],
             [
              1,
              "#f0f921"
             ]
            ],
            "type": "contour"
           }
          ],
          "contourcarpet": [
           {
            "colorbar": {
             "outlinewidth": 0,
             "ticks": ""
            },
            "type": "contourcarpet"
           }
          ],
          "heatmap": [
           {
            "colorbar": {
             "outlinewidth": 0,
             "ticks": ""
            },
            "colorscale": [
             [
              0,
              "#0d0887"
             ],
             [
              0.1111111111111111,
              "#46039f"
             ],
             [
              0.2222222222222222,
              "#7201a8"
             ],
             [
              0.3333333333333333,
              "#9c179e"
             ],
             [
              0.4444444444444444,
              "#bd3786"
             ],
             [
              0.5555555555555556,
              "#d8576b"
             ],
             [
              0.6666666666666666,
              "#ed7953"
             ],
             [
              0.7777777777777778,
              "#fb9f3a"
             ],
             [
              0.8888888888888888,
              "#fdca26"
             ],
             [
              1,
              "#f0f921"
             ]
            ],
            "type": "heatmap"
           }
          ],
          "heatmapgl": [
           {
            "colorbar": {
             "outlinewidth": 0,
             "ticks": ""
            },
            "colorscale": [
             [
              0,
              "#0d0887"
             ],
             [
              0.1111111111111111,
              "#46039f"
             ],
             [
              0.2222222222222222,
              "#7201a8"
             ],
             [
              0.3333333333333333,
              "#9c179e"
             ],
             [
              0.4444444444444444,
              "#bd3786"
             ],
             [
              0.5555555555555556,
              "#d8576b"
             ],
             [
              0.6666666666666666,
              "#ed7953"
             ],
             [
              0.7777777777777778,
              "#fb9f3a"
             ],
             [
              0.8888888888888888,
              "#fdca26"
             ],
             [
              1,
              "#f0f921"
             ]
            ],
            "type": "heatmapgl"
           }
          ],
          "histogram": [
           {
            "marker": {
             "pattern": {
              "fillmode": "overlay",
              "size": 10,
              "solidity": 0.2
             }
            },
            "type": "histogram"
           }
          ],
          "histogram2d": [
           {
            "colorbar": {
             "outlinewidth": 0,
             "ticks": ""
            },
            "colorscale": [
             [
              0,
              "#0d0887"
             ],
             [
              0.1111111111111111,
              "#46039f"
             ],
             [
              0.2222222222222222,
              "#7201a8"
             ],
             [
              0.3333333333333333,
              "#9c179e"
             ],
             [
              0.4444444444444444,
              "#bd3786"
             ],
             [
              0.5555555555555556,
              "#d8576b"
             ],
             [
              0.6666666666666666,
              "#ed7953"
             ],
             [
              0.7777777777777778,
              "#fb9f3a"
             ],
             [
              0.8888888888888888,
              "#fdca26"
             ],
             [
              1,
              "#f0f921"
             ]
            ],
            "type": "histogram2d"
           }
          ],
          "histogram2dcontour": [
           {
            "colorbar": {
             "outlinewidth": 0,
             "ticks": ""
            },
            "colorscale": [
             [
              0,
              "#0d0887"
             ],
             [
              0.1111111111111111,
              "#46039f"
             ],
             [
              0.2222222222222222,
              "#7201a8"
             ],
             [
              0.3333333333333333,
              "#9c179e"
             ],
             [
              0.4444444444444444,
              "#bd3786"
             ],
             [
              0.5555555555555556,
              "#d8576b"
             ],
             [
              0.6666666666666666,
              "#ed7953"
             ],
             [
              0.7777777777777778,
              "#fb9f3a"
             ],
             [
              0.8888888888888888,
              "#fdca26"
             ],
             [
              1,
              "#f0f921"
             ]
            ],
            "type": "histogram2dcontour"
           }
          ],
          "mesh3d": [
           {
            "colorbar": {
             "outlinewidth": 0,
             "ticks": ""
            },
            "type": "mesh3d"
           }
          ],
          "parcoords": [
           {
            "line": {
             "colorbar": {
              "outlinewidth": 0,
              "ticks": ""
             }
            },
            "type": "parcoords"
           }
          ],
          "pie": [
           {
            "automargin": true,
            "type": "pie"
           }
          ],
          "scatter": [
           {
            "fillpattern": {
             "fillmode": "overlay",
             "size": 10,
             "solidity": 0.2
            },
            "type": "scatter"
           }
          ],
          "scatter3d": [
           {
            "line": {
             "colorbar": {
              "outlinewidth": 0,
              "ticks": ""
             }
            },
            "marker": {
             "colorbar": {
              "outlinewidth": 0,
              "ticks": ""
             }
            },
            "type": "scatter3d"
           }
          ],
          "scattercarpet": [
           {
            "marker": {
             "colorbar": {
              "outlinewidth": 0,
              "ticks": ""
             }
            },
            "type": "scattercarpet"
           }
          ],
          "scattergeo": [
           {
            "marker": {
             "colorbar": {
              "outlinewidth": 0,
              "ticks": ""
             }
            },
            "type": "scattergeo"
           }
          ],
          "scattergl": [
           {
            "marker": {
             "colorbar": {
              "outlinewidth": 0,
              "ticks": ""
             }
            },
            "type": "scattergl"
           }
          ],
          "scattermapbox": [
           {
            "marker": {
             "colorbar": {
              "outlinewidth": 0,
              "ticks": ""
             }
            },
            "type": "scattermapbox"
           }
          ],
          "scatterpolar": [
           {
            "marker": {
             "colorbar": {
              "outlinewidth": 0,
              "ticks": ""
             }
            },
            "type": "scatterpolar"
           }
          ],
          "scatterpolargl": [
           {
            "marker": {
             "colorbar": {
              "outlinewidth": 0,
              "ticks": ""
             }
            },
            "type": "scatterpolargl"
           }
          ],
          "scatterternary": [
           {
            "marker": {
             "colorbar": {
              "outlinewidth": 0,
              "ticks": ""
             }
            },
            "type": "scatterternary"
           }
          ],
          "surface": [
           {
            "colorbar": {
             "outlinewidth": 0,
             "ticks": ""
            },
            "colorscale": [
             [
              0,
              "#0d0887"
             ],
             [
              0.1111111111111111,
              "#46039f"
             ],
             [
              0.2222222222222222,
              "#7201a8"
             ],
             [
              0.3333333333333333,
              "#9c179e"
             ],
             [
              0.4444444444444444,
              "#bd3786"
             ],
             [
              0.5555555555555556,
              "#d8576b"
             ],
             [
              0.6666666666666666,
              "#ed7953"
             ],
             [
              0.7777777777777778,
              "#fb9f3a"
             ],
             [
              0.8888888888888888,
              "#fdca26"
             ],
             [
              1,
              "#f0f921"
             ]
            ],
            "type": "surface"
           }
          ],
          "table": [
           {
            "cells": {
             "fill": {
              "color": "#EBF0F8"
             },
             "line": {
              "color": "white"
             }
            },
            "header": {
             "fill": {
              "color": "#C8D4E3"
             },
             "line": {
              "color": "white"
             }
            },
            "type": "table"
           }
          ]
         },
         "layout": {
          "annotationdefaults": {
           "arrowcolor": "#2a3f5f",
           "arrowhead": 0,
           "arrowwidth": 1
          },
          "autotypenumbers": "strict",
          "coloraxis": {
           "colorbar": {
            "outlinewidth": 0,
            "ticks": ""
           }
          },
          "colorscale": {
           "diverging": [
            [
             0,
             "#8e0152"
            ],
            [
             0.1,
             "#c51b7d"
            ],
            [
             0.2,
             "#de77ae"
            ],
            [
             0.3,
             "#f1b6da"
            ],
            [
             0.4,
             "#fde0ef"
            ],
            [
             0.5,
             "#f7f7f7"
            ],
            [
             0.6,
             "#e6f5d0"
            ],
            [
             0.7,
             "#b8e186"
            ],
            [
             0.8,
             "#7fbc41"
            ],
            [
             0.9,
             "#4d9221"
            ],
            [
             1,
             "#276419"
            ]
           ],
           "sequential": [
            [
             0,
             "#0d0887"
            ],
            [
             0.1111111111111111,
             "#46039f"
            ],
            [
             0.2222222222222222,
             "#7201a8"
            ],
            [
             0.3333333333333333,
             "#9c179e"
            ],
            [
             0.4444444444444444,
             "#bd3786"
            ],
            [
             0.5555555555555556,
             "#d8576b"
            ],
            [
             0.6666666666666666,
             "#ed7953"
            ],
            [
             0.7777777777777778,
             "#fb9f3a"
            ],
            [
             0.8888888888888888,
             "#fdca26"
            ],
            [
             1,
             "#f0f921"
            ]
           ],
           "sequentialminus": [
            [
             0,
             "#0d0887"
            ],
            [
             0.1111111111111111,
             "#46039f"
            ],
            [
             0.2222222222222222,
             "#7201a8"
            ],
            [
             0.3333333333333333,
             "#9c179e"
            ],
            [
             0.4444444444444444,
             "#bd3786"
            ],
            [
             0.5555555555555556,
             "#d8576b"
            ],
            [
             0.6666666666666666,
             "#ed7953"
            ],
            [
             0.7777777777777778,
             "#fb9f3a"
            ],
            [
             0.8888888888888888,
             "#fdca26"
            ],
            [
             1,
             "#f0f921"
            ]
           ]
          },
          "colorway": [
           "#636efa",
           "#EF553B",
           "#00cc96",
           "#ab63fa",
           "#FFA15A",
           "#19d3f3",
           "#FF6692",
           "#B6E880",
           "#FF97FF",
           "#FECB52"
          ],
          "font": {
           "color": "#2a3f5f"
          },
          "geo": {
           "bgcolor": "white",
           "lakecolor": "white",
           "landcolor": "white",
           "showlakes": true,
           "showland": true,
           "subunitcolor": "#C8D4E3"
          },
          "hoverlabel": {
           "align": "left"
          },
          "hovermode": "closest",
          "mapbox": {
           "style": "light"
          },
          "paper_bgcolor": "white",
          "plot_bgcolor": "white",
          "polar": {
           "angularaxis": {
            "gridcolor": "#EBF0F8",
            "linecolor": "#EBF0F8",
            "ticks": ""
           },
           "bgcolor": "white",
           "radialaxis": {
            "gridcolor": "#EBF0F8",
            "linecolor": "#EBF0F8",
            "ticks": ""
           }
          },
          "scene": {
           "xaxis": {
            "backgroundcolor": "white",
            "gridcolor": "#DFE8F3",
            "gridwidth": 2,
            "linecolor": "#EBF0F8",
            "showbackground": true,
            "ticks": "",
            "zerolinecolor": "#EBF0F8"
           },
           "yaxis": {
            "backgroundcolor": "white",
            "gridcolor": "#DFE8F3",
            "gridwidth": 2,
            "linecolor": "#EBF0F8",
            "showbackground": true,
            "ticks": "",
            "zerolinecolor": "#EBF0F8"
           },
           "zaxis": {
            "backgroundcolor": "white",
            "gridcolor": "#DFE8F3",
            "gridwidth": 2,
            "linecolor": "#EBF0F8",
            "showbackground": true,
            "ticks": "",
            "zerolinecolor": "#EBF0F8"
           }
          },
          "shapedefaults": {
           "line": {
            "color": "#2a3f5f"
           }
          },
          "ternary": {
           "aaxis": {
            "gridcolor": "#DFE8F3",
            "linecolor": "#A2B1C6",
            "ticks": ""
           },
           "baxis": {
            "gridcolor": "#DFE8F3",
            "linecolor": "#A2B1C6",
            "ticks": ""
           },
           "bgcolor": "white",
           "caxis": {
            "gridcolor": "#DFE8F3",
            "linecolor": "#A2B1C6",
            "ticks": ""
           }
          },
          "title": {
           "x": 0.05
          },
          "xaxis": {
           "automargin": true,
           "gridcolor": "#EBF0F8",
           "linecolor": "#EBF0F8",
           "ticks": "",
           "title": {
            "standoff": 15
           },
           "zerolinecolor": "#EBF0F8",
           "zerolinewidth": 2
          },
          "yaxis": {
           "automargin": true,
           "gridcolor": "#EBF0F8",
           "linecolor": "#EBF0F8",
           "ticks": "",
           "title": {
            "standoff": 15
           },
           "zerolinecolor": "#EBF0F8",
           "zerolinewidth": 2
          }
         }
        },
        "xaxis": {
         "anchor": "y",
         "autorange": true,
         "domain": [
          0,
          1
         ],
         "range": [
          -0.5,
          15.5
         ],
         "type": "category"
        },
        "yaxis": {
         "anchor": "x",
         "autorange": true,
         "domain": [
          0,
          1
         ],
         "range": [
          15.5,
          -0.5
         ],
         "type": "category"
        }
       }
      },
      "image/png": "[encoded data removed]",
      "text/html": [
       "<div>                            <div id=\"28b33d2a-c447-48dc-bec1-c69dbca2dadb\" class=\"plotly-graph-div\" style=\"height:400px; width:100%;\"></div>            <script type=\"text/javascript\">                require([\"plotly\"], function(Plotly) {                    window.PLOTLYENV=window.PLOTLYENV || {};                                    if (document.getElementById(\"28b33d2a-c447-48dc-bec1-c69dbca2dadb\")) {                    Plotly.newPlot(                        \"28b33d2a-c447-48dc-bec1-c69dbca2dadb\",                        [{\"coloraxis\":\"coloraxis\",\"name\":\"0\",\"x\":[\"Fumana thymifolia\",\"Stipa tenacissima\",\"Helianthemum violaceum\",\"Brachypodium retusum\",\"Fumana ericoides\",\"Rosmarinus officinalis\",\"Helianthemum syriacum\",\"Teucrium capitatum\",\"Atractylis cancellata\",\"Teucrium pseudochamaepitys\",\"Phagnalon rupestre\",\"Teucrium mola\",\"Fumana hispidula\",\"Sedum sediforme\",\"Matthiola fruticulosa\",\"Thymus vulgaris\"],\"y\":[\"Helichrysum stoechas\",\"Piptatherum miliaceum\",\"Hyparrhenia sinaica\",\"Reichardia tingitana\",\"Dittrichia viscosa\",\"Sonchus tenerrimus\",\"Linum strictum\",\"Pinus halepensis\",\"Leontodon longirostris\",\"Phagnalon saxatile\",\"Plantago crassifolia\",\"Fagonia cretica\",\"Atriplex halimus\",\"Lygeum spartum\",\"Paronychia suffruticosa\",\"Limonium carthaginense\"],\"z\":[[247.468473,271.51613,247.468473,271.51613,247.468473,213.482822,247.468473,213.482822,68.560448,213.482822,27.369892,213.482821,247.468473,247.468474,247.4684740003,213.482822],[271.516129,19.288636,271.516129,47.699884,271.516129,271.51613,271.516129,271.51613,271.51613,271.51613,271.51613,271.516129,271.516129,271.51613,271.5161300003,271.51613],[271.516129,79.502156,271.516129,79.502156,271.516129,271.51613,271.516129,271.51613,271.51613,271.51613,271.51613,271.516129,271.516129,271.51613,271.5161300003,271.51613],[247.468473,271.51613,247.468473,271.51613,247.468473,213.482822,247.468473,213.482822,68.560448,213.482822,61.348278,213.482821,247.468473,247.468474,247.4684740003,213.482822],[247.468473,271.51613,247.468473,271.51613,247.468473,213.482822,247.468473,213.482822,68.560448,213.482822,44.199414,213.482821,247.468473,247.468474,247.4684740003,213.482822],[247.468473,271.51613,247.468473,271.51613,247.468473,213.482822,247.468473,213.482822,68.560448,213.482822,61.348278,213.482821,247.468473,247.468474,247.4684740003,213.482822],[237.157207,271.51613,237.157207,271.51613,237.157207,247.468474,237.157207,247.468474,247.468474,247.468474,247.468474,247.468473,237.157207,244.810184,237.1572080003,247.468474],[650.100055,650.100056,650.100055,650.100056,650.100055,650.100056,650.100055,650.100056,650.100056,650.100056,650.100056,650.100055,650.100055,650.100056,650.1000560003,650.100056],[247.468472,271.516129,247.468472,271.516129,247.468472,213.482821,247.468472,213.482821,68.5604470000001,213.482821,61.3482770000001,213.48282,247.468472,247.468473,247.4684730003,213.482821],[247.468473,271.51613,247.468473,271.51613,247.468473,213.482822,247.468473,213.482822,68.560448,213.482822,2.438204,213.482821,247.468473,247.468474,247.4684740003,213.482822],[247.468473,271.51613,247.468473,271.51613,247.468473,105.865524,247.468473,105.865524,213.482822,105.865524,213.482822,105.865523,247.468473,247.468474,247.4684740003,105.865524],[237.157207,271.51613,237.157207,271.51613,237.157207,247.468474,237.157207,247.468474,247.468474,247.468474,247.468474,247.468473,237.157207,244.810184,237.1572080003,247.468474],[247.468473,271.51613,247.468473,271.51613,247.468473,239.748468,247.468473,239.748468,239.748468,239.748468,239.748468,239.748467,247.468473,247.468474,247.4684740003,239.748468],[271.516129,54.897342,271.516129,54.897342,271.516129,271.51613,271.516129,271.51613,271.51613,271.51613,271.51613,271.516129,271.516129,271.51613,271.5161300003,271.51613],[247.468472,271.516129,247.468472,271.516129,247.468472,239.748467,247.468472,239.748467,239.748467,239.748467,239.748467,239.748466,247.468472,247.468473,247.4684730003,239.748467],[247.468472,271.516129,247.468472,271.516129,247.468472,239.748467,247.468472,239.748467,239.748467,239.748467,239.748467,239.748466,247.468472,247.468473,247.4684730003,239.748467]],\"type\":\"heatmap\",\"xaxis\":\"x\",\"yaxis\":\"y\",\"hovertemplate\":\"x: %{x}<br>y: %{y}<br>color: %{z}<extra></extra>\"}],                        {\"template\":{\"data\":{\"histogram2dcontour\":[{\"type\":\"histogram2dcontour\",\"colorbar\":{\"outlinewidth\":0,\"ticks\":\"\"},\"colorscale\":[[0.0,\"#0d0887\"],[0.1111111111111111,\"#46039f\"],[0.2222222222222222,\"#7201a8\"],[0.3333333333333333,\"#9c179e\"],[0.4444444444444444,\"#bd3786\"],[0.5555555555555556,\"#d8576b\"],[0.6666666666666666,\"#ed7953\"],[0.7777777777777778,\"#fb9f3a\"],[0.8888888888888888,\"#fdca26\"],[1.0,\"#f0f921\"]]}],\"choropleth\":[{\"type\":\"choropleth\",\"colorbar\":{\"outlinewidth\":0,\"ticks\":\"\"}}],\"histogram2d\":[{\"type\":\"histogram2d\",\"colorbar\":{\"outlinewidth\":0,\"ticks\":\"\"},\"colorscale\":[[0.0,\"#0d0887\"],[0.1111111111111111,\"#46039f\"],[0.2222222222222222,\"#7201a8\"],[0.3333333333333333,\"#9c179e\"],[0.4444444444444444,\"#bd3786\"],[0.5555555555555556,\"#d8576b\"],[0.6666666666666666,\"#ed7953\"],[0.7777777777777778,\"#fb9f3a\"],[0.8888888888888888,\"#fdca26\"],[1.0,\"#f0f921\"]]}],\"heatmap\":[{\"type\":\"heatmap\",\"colorbar\":{\"outlinewidth\":0,\"ticks\":\"\"},\"colorscale\":[[0.0,\"#0d0887\"],[0.1111111111111111,\"#46039f\"],[0.2222222222222222,\"#7201a8\"],[0.3333333333333333,\"#9c179e\"],[0.4444444444444444,\"#bd3786\"],[0.5555555555555556,\"#d8576b\"],[0.6666666666666666,\"#ed7953\"],[0.7777777777777778,\"#fb9f3a\"],[0.8888888888888888,\"#fdca26\"],[1.0,\"#f0f921\"]]}],\"heatmapgl\":[{\"type\":\"heatmapgl\",\"colorbar\":{\"outlinewidth\":0,\"ticks\":\"\"},\"colorscale\":[[0.0,\"#0d0887\"],[0.1111111111111111,\"#46039f\"],[0.2222222222222222,\"#7201a8\"],[0.3333333333333333,\"#9c179e\"],[0.4444444444444444,\"#bd3786\"],[0.5555555555555556,\"#d8576b\"],[0.6666666666666666,\"#ed7953\"],[0.7777777777777778,\"#fb9f3a\"],[0.8888888888888888,\"#fdca26\"],[1.0,\"#f0f921\"]]}],\"contourcarpet\":[{\"type\":\"contourcarpet\",\"colorbar\":{\"outlinewidth\":0,\"ticks\":\"\"}}],\"contour\":[{\"type\":\"contour\",\"colorbar\":{\"outlinewidth\":0,\"ticks\":\"\"},\"colorscale\":[[0.0,\"#0d0887\"],[0.1111111111111111,\"#46039f\"],[0.2222222222222222,\"#7201a8\"],[0.3333333333333333,\"#9c179e\"],[0.4444444444444444,\"#bd3786\"],[0.5555555555555556,\"#d8576b\"],[0.6666666666666666,\"#ed7953\"],[0.7777777777777778,\"#fb9f3a\"],[0.8888888888888888,\"#fdca26\"],[1.0,\"#f0f921\"]]}],\"surface\":[{\"type\":\"surface\",\"colorbar\":{\"outlinewidth\":0,\"ticks\":\"\"},\"colorscale\":[[0.0,\"#0d0887\"],[0.1111111111111111,\"#46039f\"],[0.2222222222222222,\"#7201a8\"],[0.3333333333333333,\"#9c179e\"],[0.4444444444444444,\"#bd3786\"],[0.5555555555555556,\"#d8576b\"],[0.6666666666666666,\"#ed7953\"],[0.7777777777777778,\"#fb9f3a\"],[0.8888888888888888,\"#fdca26\"],[1.0,\"#f0f921\"]]}],\"mesh3d\":[{\"type\":\"mesh3d\",\"colorbar\":{\"outlinewidth\":0,\"ticks\":\"\"}}],\"scatter\":[{\"fillpattern\":{\"fillmode\":\"overlay\",\"size\":10,\"solidity\":0.2},\"type\":\"scatter\"}],\"parcoords\":[{\"type\":\"parcoords\",\"line\":{\"colorbar\":{\"outlinewidth\":0,\"ticks\":\"\"}}}],\"scatterpolargl\":[{\"type\":\"scatterpolargl\",\"marker\":{\"colorbar\":{\"outlinewidth\":0,\"ticks\":\"\"}}}],\"bar\":[{\"error_x\":{\"color\":\"#2a3f5f\"},\"error_y\":{\"color\":\"#2a3f5f\"},\"marker\":{\"line\":{\"color\":\"white\",\"width\":0.5},\"pattern\":{\"fillmode\":\"overlay\",\"size\":10,\"solidity\":0.2}},\"type\":\"bar\"}],\"scattergeo\":[{\"type\":\"scattergeo\",\"marker\":{\"colorbar\":{\"outlinewidth\":0,\"ticks\":\"\"}}}],\"scatterpolar\":[{\"type\":\"scatterpolar\",\"marker\":{\"colorbar\":{\"outlinewidth\":0,\"ticks\":\"\"}}}],\"histogram\":[{\"marker\":{\"pattern\":{\"fillmode\":\"overlay\",\"size\":10,\"solidity\":0.2}},\"type\":\"histogram\"}],\"scattergl\":[{\"type\":\"scattergl\",\"marker\":{\"colorbar\":{\"outlinewidth\":0,\"ticks\":\"\"}}}],\"scatter3d\":[{\"type\":\"scatter3d\",\"line\":{\"colorbar\":{\"outlinewidth\":0,\"ticks\":\"\"}},\"marker\":{\"colorbar\":{\"outlinewidth\":0,\"ticks\":\"\"}}}],\"scattermapbox\":[{\"type\":\"scattermapbox\",\"marker\":{\"colorbar\":{\"outlinewidth\":0,\"ticks\":\"\"}}}],\"scatterternary\":[{\"type\":\"scatterternary\",\"marker\":{\"colorbar\":{\"outlinewidth\":0,\"ticks\":\"\"}}}],\"scattercarpet\":[{\"type\":\"scattercarpet\",\"marker\":{\"colorbar\":{\"outlinewidth\":0,\"ticks\":\"\"}}}],\"carpet\":[{\"aaxis\":{\"endlinecolor\":\"#2a3f5f\",\"gridcolor\":\"#C8D4E3\",\"linecolor\":\"#C8D4E3\",\"minorgridcolor\":\"#C8D4E3\",\"startlinecolor\":\"#2a3f5f\"},\"baxis\":{\"endlinecolor\":\"#2a3f5f\",\"gridcolor\":\"#C8D4E3\",\"linecolor\":\"#C8D4E3\",\"minorgridcolor\":\"#C8D4E3\",\"startlinecolor\":\"#2a3f5f\"},\"type\":\"carpet\"}],\"table\":[{\"cells\":{\"fill\":{\"color\":\"#EBF0F8\"},\"line\":{\"color\":\"white\"}},\"header\":{\"fill\":{\"color\":\"#C8D4E3\"},\"line\":{\"color\":\"white\"}},\"type\":\"table\"}],\"barpolar\":[{\"marker\":{\"line\":{\"color\":\"white\",\"width\":0.5},\"pattern\":{\"fillmode\":\"overlay\",\"size\":10,\"solidity\":0.2}},\"type\":\"barpolar\"}],\"pie\":[{\"automargin\":true,\"type\":\"pie\"}]},\"layout\":{\"autotypenumbers\":\"strict\",\"colorway\":[\"#636efa\",\"#EF553B\",\"#00cc96\",\"#ab63fa\",\"#FFA15A\",\"#19d3f3\",\"#FF6692\",\"#B6E880\",\"#FF97FF\",\"#FECB52\"],\"font\":{\"color\":\"#2a3f5f\"},\"hovermode\":\"closest\",\"hoverlabel\":{\"align\":\"left\"},\"paper_bgcolor\":\"white\",\"plot_bgcolor\":\"white\",\"polar\":{\"bgcolor\":\"white\",\"angularaxis\":{\"gridcolor\":\"#EBF0F8\",\"linecolor\":\"#EBF0F8\",\"ticks\":\"\"},\"radialaxis\":{\"gridcolor\":\"#EBF0F8\",\"linecolor\":\"#EBF0F8\",\"ticks\":\"\"}},\"ternary\":{\"bgcolor\":\"white\",\"aaxis\":{\"gridcolor\":\"#DFE8F3\",\"linecolor\":\"#A2B1C6\",\"ticks\":\"\"},\"baxis\":{\"gridcolor\":\"#DFE8F3\",\"linecolor\":\"#A2B1C6\",\"ticks\":\"\"},\"caxis\":{\"gridcolor\":\"#DFE8F3\",\"linecolor\":\"#A2B1C6\",\"ticks\":\"\"}},\"coloraxis\":{\"colorbar\":{\"outlinewidth\":0,\"ticks\":\"\"}},\"colorscale\":{\"sequential\":[[0.0,\"#0d0887\"],[0.1111111111111111,\"#46039f\"],[0.2222222222222222,\"#7201a8\"],[0.3333333333333333,\"#9c179e\"],[0.4444444444444444,\"#bd3786\"],[0.5555555555555556,\"#d8576b\"],[0.6666666666666666,\"#ed7953\"],[0.7777777777777778,\"#fb9f3a\"],[0.8888888888888888,\"#fdca26\"],[1.0,\"#f0f921\"]],\"sequentialminus\":[[0.0,\"#0d0887\"],[0.1111111111111111,\"#46039f\"],[0.2222222222222222,\"#7201a8\"],[0.3333333333333333,\"#9c179e\"],[0.4444444444444444,\"#bd3786\"],[0.5555555555555556,\"#d8576b\"],[0.6666666666666666,\"#ed7953\"],[0.7777777777777778,\"#fb9f3a\"],[0.8888888888888888,\"#fdca26\"],[1.0,\"#f0f921\"]],\"diverging\":[[0,\"#8e0152\"],[0.1,\"#c51b7d\"],[0.2,\"#de77ae\"],[0.3,\"#f1b6da\"],[0.4,\"#fde0ef\"],[0.5,\"#f7f7f7\"],[0.6,\"#e6f5d0\"],[0.7,\"#b8e186\"],[0.8,\"#7fbc41\"],[0.9,\"#4d9221\"],[1,\"#276419\"]]},\"xaxis\":{\"gridcolor\":\"#EBF0F8\",\"linecolor\":\"#EBF0F8\",\"ticks\":\"\",\"title\":{\"standoff\":15},\"zerolinecolor\":\"#EBF0F8\",\"automargin\":true,\"zerolinewidth\":2},\"yaxis\":{\"gridcolor\":\"#EBF0F8\",\"linecolor\":\"#EBF0F8\",\"ticks\":\"\",\"title\":{\"standoff\":15},\"zerolinecolor\":\"#EBF0F8\",\"automargin\":true,\"zerolinewidth\":2},\"scene\":{\"xaxis\":{\"backgroundcolor\":\"white\",\"gridcolor\":\"#DFE8F3\",\"linecolor\":\"#EBF0F8\",\"showbackground\":true,\"ticks\":\"\",\"zerolinecolor\":\"#EBF0F8\",\"gridwidth\":2},\"yaxis\":{\"backgroundcolor\":\"white\",\"gridcolor\":\"#DFE8F3\",\"linecolor\":\"#EBF0F8\",\"showbackground\":true,\"ticks\":\"\",\"zerolinecolor\":\"#EBF0F8\",\"gridwidth\":2},\"zaxis\":{\"backgroundcolor\":\"white\",\"gridcolor\":\"#DFE8F3\",\"linecolor\":\"#EBF0F8\",\"showbackground\":true,\"ticks\":\"\",\"zerolinecolor\":\"#EBF0F8\",\"gridwidth\":2}},\"shapedefaults\":{\"line\":{\"color\":\"#2a3f5f\"}},\"annotationdefaults\":{\"arrowcolor\":\"#2a3f5f\",\"arrowhead\":0,\"arrowwidth\":1},\"geo\":{\"bgcolor\":\"white\",\"landcolor\":\"white\",\"subunitcolor\":\"#C8D4E3\",\"showland\":true,\"showlakes\":true,\"lakecolor\":\"white\"},\"title\":{\"x\":0.05},\"mapbox\":{\"style\":\"light\"}}},\"xaxis\":{\"anchor\":\"y\",\"domain\":[0.0,1.0]},\"yaxis\":{\"anchor\":\"x\",\"domain\":[0.0,1.0],\"autorange\":\"reversed\"},\"coloraxis\":{\"colorscale\":[[0.0,\"#f0f921\"],[0.1111111111111111,\"#fdca26\"],[0.2222222222222222,\"#fb9f3a\"],[0.3333333333333333,\"#ed7953\"],[0.4444444444444444,\"#d8576b\"],[0.5555555555555556,\"#bd3786\"],[0.6666666666666666,\"#9c179e\"],[0.7777777777777778,\"#7201a8\"],[0.8888888888888888,\"#46039f\"],[1.0,\"#0d0887\"]]},\"margin\":{\"t\":60},\"height\":400},                        {\"responsive\": true}                    ).then(function(){\n",
       "                            \n",
       "var gd = document.getElementById('28b33d2a-c447-48dc-bec1-c69dbca2dadb');\n",
       "var x = new MutationObserver(function (mutations, observer) {{\n",
       "        var display = window.getComputedStyle(gd).display;\n",
       "        if (!display || display === 'none') {{\n",
       "            console.log([gd, 'removed!']);\n",
       "            Plotly.purge(gd);\n",
       "            observer.disconnect();\n",
       "        }}\n",
       "}});\n",
       "\n",
       "// Listen for the removal of the full notebook cells\n",
       "var notebookContainer = gd.closest('#notebook-container');\n",
       "if (notebookContainer) {{\n",
       "    x.observe(notebookContainer, {childList: true});\n",
       "}}\n",
       "\n",
       "// Listen for the clearing of the current output cell\n",
       "var outputEl = gd.closest('.output');\n",
       "if (outputEl) {{\n",
       "    x.observe(outputEl, {childList: true});\n",
       "}}\n",
       "\n",
       "                        })                };                });            </script>        </div>"
      ]
     },
     "metadata": {},
     "output_type": "display_data"
    }
   ],
   "source": [
    "phylo = phylo.pipe(use_proxy_species, {'Teucrium mola' : 'Teucrium carolipaui'})\n",
    "if config['testing_data'] == 'union_patches':\n",
    "    phylo = phylo.pipe(use_proxy_species, {'Hyparrhenia sinaica': 'Hyparrhenia hirta',\n",
    "                                           'Plantago crassifolia': 'Plantago albicans',\n",
    "                                           'Leontodon longirostris' : 'Leontodon saxatilis subsp. rothii'})\n",
    "elif config['testing_data'] == 'mexico_all':\n",
    "    phylo = phylo.pipe(use_proxy_species, {'Bouteloa gracilis' : 'Bouteloua gracilis',\n",
    "                                          'Aeschinomene compacta' : 'Aeschynomene compacta',\n",
    "                                          'Echinopterix eglandulosa' : 'Echinopterys eglandulosa',\n",
    "                                           'Ruelia' : 'Ruellia lutea',\n",
    "                                           'Ipomea sp' : 'Ipomoea sp',\n",
    "                                           'Lantana achirantifolia' : 'Lantana achyranthifolia',\n",
    "                                           'Hechtia' : 'Hechtia podantha',\n",
    "                                           'Hibiscus' : 'Hibiscus elegans'\n",
    "                                          })\n",
    "        \n",
    "subset_phylo(phylo, species_origin, species_target).plot(**heatmap, color_continuous_scale = 'plasma_r')"
   ]
  },
  {
   "cell_type": "code",
   "execution_count": 160,
   "metadata": {
    "tags": []
   },
   "outputs": [
    {
     "data": {
      "application/vnd.plotly.v1+json": {
       "config": {
        "plotlyServerURL": "https://plot.ly"
       },
       "data": [
        {
         "alignmentgroup": "True",
         "bingroup": "x",
         "hovertemplate": "variable=value<br>_value=%{x}<br>count=%{y}<extra></extra>",
         "legendgroup": "value",
         "marker": {
          "color": "#999999",
          "pattern": {
           "shape": ""
          }
         },
         "name": "value",
         "offsetgroup": "value",
         "orientation": "v",
         "showlegend": true,
         "type": "histogram",
         "x": [
          247.468473,
          271.516129,
          271.516129,
          247.468473,
          247.468473,
          247.468473,
          237.157207,
          650.100055,
          247.468472,
          247.468473,
          247.468473,
          237.157207,
          247.468473,
          271.516129,
          247.468472,
          247.468472,
          271.51613,
          19.288636,
          79.502156,
          271.51613,
          271.51613,
          271.51613,
          271.51613,
          650.100056,
          271.516129,
          271.51613,
          271.51613,
          271.51613,
          271.51613,
          54.897342,
          271.516129,
          271.516129,
          247.468473,
          271.516129,
          271.516129,
          247.468473,
          247.468473,
          247.468473,
          237.157207,
          650.100055,
          247.468472,
          247.468473,
          247.468473,
          237.157207,
          247.468473,
          271.516129,
          247.468472,
          247.468472,
          271.51613,
          47.699884,
          79.502156,
          271.51613,
          271.51613,
          271.51613,
          271.51613,
          650.100056,
          271.516129,
          271.51613,
          271.51613,
          271.51613,
          271.51613,
          54.897342,
          271.516129,
          271.516129,
          247.468473,
          271.516129,
          271.516129,
          247.468473,
          247.468473,
          247.468473,
          237.157207,
          650.100055,
          247.468472,
          247.468473,
          247.468473,
          237.157207,
          247.468473,
          271.516129,
          247.468472,
          247.468472,
          213.482822,
          271.51613,
          271.51613,
          213.482822,
          213.482822,
          213.482822,
          247.468474,
          650.100056,
          213.482821,
          213.482822,
          105.865524,
          247.468474,
          239.748468,
          271.51613,
          239.748467,
          239.748467,
          247.468473,
          271.516129,
          271.516129,
          247.468473,
          247.468473,
          247.468473,
          237.157207,
          650.100055,
          247.468472,
          247.468473,
          247.468473,
          237.157207,
          247.468473,
          271.516129,
          247.468472,
          247.468472,
          213.482822,
          271.51613,
          271.51613,
          213.482822,
          213.482822,
          213.482822,
          247.468474,
          650.100056,
          213.482821,
          213.482822,
          105.865524,
          247.468474,
          239.748468,
          271.51613,
          239.748467,
          239.748467,
          68.560448,
          271.51613,
          271.51613,
          68.560448,
          68.560448,
          68.560448,
          247.468474,
          650.100056,
          68.5604470000001,
          68.560448,
          213.482822,
          247.468474,
          239.748468,
          271.51613,
          239.748467,
          239.748467,
          213.482822,
          271.51613,
          271.51613,
          213.482822,
          213.482822,
          213.482822,
          247.468474,
          650.100056,
          213.482821,
          213.482822,
          105.865524,
          247.468474,
          239.748468,
          271.51613,
          239.748467,
          239.748467,
          27.369892,
          271.51613,
          271.51613,
          61.348278,
          44.199414,
          61.348278,
          247.468474,
          650.100056,
          61.3482770000001,
          2.438204,
          213.482822,
          247.468474,
          239.748468,
          271.51613,
          239.748467,
          239.748467,
          213.482821,
          271.516129,
          271.516129,
          213.482821,
          213.482821,
          213.482821,
          247.468473,
          650.100055,
          213.48282,
          213.482821,
          105.865523,
          247.468473,
          239.748467,
          271.516129,
          239.748466,
          239.748466,
          247.468473,
          271.516129,
          271.516129,
          247.468473,
          247.468473,
          247.468473,
          237.157207,
          650.100055,
          247.468472,
          247.468473,
          247.468473,
          237.157207,
          247.468473,
          271.516129,
          247.468472,
          247.468472,
          247.468474,
          271.51613,
          271.51613,
          247.468474,
          247.468474,
          247.468474,
          244.810184,
          650.100056,
          247.468473,
          247.468474,
          247.468474,
          244.810184,
          247.468474,
          271.51613,
          247.468473,
          247.468473,
          247.4684740003,
          271.5161300003,
          271.5161300003,
          247.4684740003,
          247.4684740003,
          247.4684740003,
          237.1572080003,
          650.1000560003,
          247.4684730003,
          247.4684740003,
          247.4684740003,
          237.1572080003,
          247.4684740003,
          271.5161300003,
          247.4684730003,
          247.4684730003,
          213.482822,
          271.51613,
          271.51613,
          213.482822,
          213.482822,
          213.482822,
          247.468474,
          650.100056,
          213.482821,
          213.482822,
          105.865524,
          247.468474,
          239.748468,
          271.51613,
          239.748467,
          239.748467
         ],
         "xaxis": "x",
         "yaxis": "y"
        }
       ],
       "layout": {
        "autosize": true,
        "barmode": "relative",
        "legend": {
         "title": {
          "text": "variable"
         },
         "tracegroupgap": 0
        },
        "margin": {
         "t": 60
        },
        "template": {
         "data": {
          "bar": [
           {
            "error_x": {
             "color": "#2a3f5f"
            },
            "error_y": {
             "color": "#2a3f5f"
            },
            "marker": {
             "line": {
              "color": "white",
              "width": 0.5
             },
             "pattern": {
              "fillmode": "overlay",
              "size": 10,
              "solidity": 0.2
             }
            },
            "type": "bar"
           }
          ],
          "barpolar": [
           {
            "marker": {
             "line": {
              "color": "white",
              "width": 0.5
             },
             "pattern": {
              "fillmode": "overlay",
              "size": 10,
              "solidity": 0.2
             }
            },
            "type": "barpolar"
           }
          ],
          "carpet": [
           {
            "aaxis": {
             "endlinecolor": "#2a3f5f",
             "gridcolor": "#C8D4E3",
             "linecolor": "#C8D4E3",
             "minorgridcolor": "#C8D4E3",
             "startlinecolor": "#2a3f5f"
            },
            "baxis": {
             "endlinecolor": "#2a3f5f",
             "gridcolor": "#C8D4E3",
             "linecolor": "#C8D4E3",
             "minorgridcolor": "#C8D4E3",
             "startlinecolor": "#2a3f5f"
            },
            "type": "carpet"
           }
          ],
          "choropleth": [
           {
            "colorbar": {
             "outlinewidth": 0,
             "ticks": ""
            },
            "type": "choropleth"
           }
          ],
          "contour": [
           {
            "colorbar": {
             "outlinewidth": 0,
             "ticks": ""
            },
            "colorscale": [
             [
              0,
              "#0d0887"
             ],
             [
              0.1111111111111111,
              "#46039f"
             ],
             [
              0.2222222222222222,
              "#7201a8"
             ],
             [
              0.3333333333333333,
              "#9c179e"
             ],
             [
              0.4444444444444444,
              "#bd3786"
             ],
             [
              0.5555555555555556,
              "#d8576b"
             ],
             [
              0.6666666666666666,
              "#ed7953"
             ],
             [
              0.7777777777777778,
              "#fb9f3a"
             ],
             [
              0.8888888888888888,
              "#fdca26"
             ],
             [
              1,
              "#f0f921"
             ]
            ],
            "type": "contour"
           }
          ],
          "contourcarpet": [
           {
            "colorbar": {
             "outlinewidth": 0,
             "ticks": ""
            },
            "type": "contourcarpet"
           }
          ],
          "heatmap": [
           {
            "colorbar": {
             "outlinewidth": 0,
             "ticks": ""
            },
            "colorscale": [
             [
              0,
              "#0d0887"
             ],
             [
              0.1111111111111111,
              "#46039f"
             ],
             [
              0.2222222222222222,
              "#7201a8"
             ],
             [
              0.3333333333333333,
              "#9c179e"
             ],
             [
              0.4444444444444444,
              "#bd3786"
             ],
             [
              0.5555555555555556,
              "#d8576b"
             ],
             [
              0.6666666666666666,
              "#ed7953"
             ],
             [
              0.7777777777777778,
              "#fb9f3a"
             ],
             [
              0.8888888888888888,
              "#fdca26"
             ],
             [
              1,
              "#f0f921"
             ]
            ],
            "type": "heatmap"
           }
          ],
          "heatmapgl": [
           {
            "colorbar": {
             "outlinewidth": 0,
             "ticks": ""
            },
            "colorscale": [
             [
              0,
              "#0d0887"
             ],
             [
              0.1111111111111111,
              "#46039f"
             ],
             [
              0.2222222222222222,
              "#7201a8"
             ],
             [
              0.3333333333333333,
              "#9c179e"
             ],
             [
              0.4444444444444444,
              "#bd3786"
             ],
             [
              0.5555555555555556,
              "#d8576b"
             ],
             [
              0.6666666666666666,
              "#ed7953"
             ],
             [
              0.7777777777777778,
              "#fb9f3a"
             ],
             [
              0.8888888888888888,
              "#fdca26"
             ],
             [
              1,
              "#f0f921"
             ]
            ],
            "type": "heatmapgl"
           }
          ],
          "histogram": [
           {
            "marker": {
             "pattern": {
              "fillmode": "overlay",
              "size": 10,
              "solidity": 0.2
             }
            },
            "type": "histogram"
           }
          ],
          "histogram2d": [
           {
            "colorbar": {
             "outlinewidth": 0,
             "ticks": ""
            },
            "colorscale": [
             [
              0,
              "#0d0887"
             ],
             [
              0.1111111111111111,
              "#46039f"
             ],
             [
              0.2222222222222222,
              "#7201a8"
             ],
             [
              0.3333333333333333,
              "#9c179e"
             ],
             [
              0.4444444444444444,
              "#bd3786"
             ],
             [
              0.5555555555555556,
              "#d8576b"
             ],
             [
              0.6666666666666666,
              "#ed7953"
             ],
             [
              0.7777777777777778,
              "#fb9f3a"
             ],
             [
              0.8888888888888888,
              "#fdca26"
             ],
             [
              1,
              "#f0f921"
             ]
            ],
            "type": "histogram2d"
           }
          ],
          "histogram2dcontour": [
           {
            "colorbar": {
             "outlinewidth": 0,
             "ticks": ""
            },
            "colorscale": [
             [
              0,
              "#0d0887"
             ],
             [
              0.1111111111111111,
              "#46039f"
             ],
             [
              0.2222222222222222,
              "#7201a8"
             ],
             [
              0.3333333333333333,
              "#9c179e"
             ],
             [
              0.4444444444444444,
              "#bd3786"
             ],
             [
              0.5555555555555556,
              "#d8576b"
             ],
             [
              0.6666666666666666,
              "#ed7953"
             ],
             [
              0.7777777777777778,
              "#fb9f3a"
             ],
             [
              0.8888888888888888,
              "#fdca26"
             ],
             [
              1,
              "#f0f921"
             ]
            ],
            "type": "histogram2dcontour"
           }
          ],
          "mesh3d": [
           {
            "colorbar": {
             "outlinewidth": 0,
             "ticks": ""
            },
            "type": "mesh3d"
           }
          ],
          "parcoords": [
           {
            "line": {
             "colorbar": {
              "outlinewidth": 0,
              "ticks": ""
             }
            },
            "type": "parcoords"
           }
          ],
          "pie": [
           {
            "automargin": true,
            "type": "pie"
           }
          ],
          "scatter": [
           {
            "fillpattern": {
             "fillmode": "overlay",
             "size": 10,
             "solidity": 0.2
            },
            "type": "scatter"
           }
          ],
          "scatter3d": [
           {
            "line": {
             "colorbar": {
              "outlinewidth": 0,
              "ticks": ""
             }
            },
            "marker": {
             "colorbar": {
              "outlinewidth": 0,
              "ticks": ""
             }
            },
            "type": "scatter3d"
           }
          ],
          "scattercarpet": [
           {
            "marker": {
             "colorbar": {
              "outlinewidth": 0,
              "ticks": ""
             }
            },
            "type": "scattercarpet"
           }
          ],
          "scattergeo": [
           {
            "marker": {
             "colorbar": {
              "outlinewidth": 0,
              "ticks": ""
             }
            },
            "type": "scattergeo"
           }
          ],
          "scattergl": [
           {
            "marker": {
             "colorbar": {
              "outlinewidth": 0,
              "ticks": ""
             }
            },
            "type": "scattergl"
           }
          ],
          "scattermapbox": [
           {
            "marker": {
             "colorbar": {
              "outlinewidth": 0,
              "ticks": ""
             }
            },
            "type": "scattermapbox"
           }
          ],
          "scatterpolar": [
           {
            "marker": {
             "colorbar": {
              "outlinewidth": 0,
              "ticks": ""
             }
            },
            "type": "scatterpolar"
           }
          ],
          "scatterpolargl": [
           {
            "marker": {
             "colorbar": {
              "outlinewidth": 0,
              "ticks": ""
             }
            },
            "type": "scatterpolargl"
           }
          ],
          "scatterternary": [
           {
            "marker": {
             "colorbar": {
              "outlinewidth": 0,
              "ticks": ""
             }
            },
            "type": "scatterternary"
           }
          ],
          "surface": [
           {
            "colorbar": {
             "outlinewidth": 0,
             "ticks": ""
            },
            "colorscale": [
             [
              0,
              "#0d0887"
             ],
             [
              0.1111111111111111,
              "#46039f"
             ],
             [
              0.2222222222222222,
              "#7201a8"
             ],
             [
              0.3333333333333333,
              "#9c179e"
             ],
             [
              0.4444444444444444,
              "#bd3786"
             ],
             [
              0.5555555555555556,
              "#d8576b"
             ],
             [
              0.6666666666666666,
              "#ed7953"
             ],
             [
              0.7777777777777778,
              "#fb9f3a"
             ],
             [
              0.8888888888888888,
              "#fdca26"
             ],
             [
              1,
              "#f0f921"
             ]
            ],
            "type": "surface"
           }
          ],
          "table": [
           {
            "cells": {
             "fill": {
              "color": "#EBF0F8"
             },
             "line": {
              "color": "white"
             }
            },
            "header": {
             "fill": {
              "color": "#C8D4E3"
             },
             "line": {
              "color": "white"
             }
            },
            "type": "table"
           }
          ]
         },
         "layout": {
          "annotationdefaults": {
           "arrowcolor": "#2a3f5f",
           "arrowhead": 0,
           "arrowwidth": 1
          },
          "autotypenumbers": "strict",
          "coloraxis": {
           "colorbar": {
            "outlinewidth": 0,
            "ticks": ""
           }
          },
          "colorscale": {
           "diverging": [
            [
             0,
             "#8e0152"
            ],
            [
             0.1,
             "#c51b7d"
            ],
            [
             0.2,
             "#de77ae"
            ],
            [
             0.3,
             "#f1b6da"
            ],
            [
             0.4,
             "#fde0ef"
            ],
            [
             0.5,
             "#f7f7f7"
            ],
            [
             0.6,
             "#e6f5d0"
            ],
            [
             0.7,
             "#b8e186"
            ],
            [
             0.8,
             "#7fbc41"
            ],
            [
             0.9,
             "#4d9221"
            ],
            [
             1,
             "#276419"
            ]
           ],
           "sequential": [
            [
             0,
             "#0d0887"
            ],
            [
             0.1111111111111111,
             "#46039f"
            ],
            [
             0.2222222222222222,
             "#7201a8"
            ],
            [
             0.3333333333333333,
             "#9c179e"
            ],
            [
             0.4444444444444444,
             "#bd3786"
            ],
            [
             0.5555555555555556,
             "#d8576b"
            ],
            [
             0.6666666666666666,
             "#ed7953"
            ],
            [
             0.7777777777777778,
             "#fb9f3a"
            ],
            [
             0.8888888888888888,
             "#fdca26"
            ],
            [
             1,
             "#f0f921"
            ]
           ],
           "sequentialminus": [
            [
             0,
             "#0d0887"
            ],
            [
             0.1111111111111111,
             "#46039f"
            ],
            [
             0.2222222222222222,
             "#7201a8"
            ],
            [
             0.3333333333333333,
             "#9c179e"
            ],
            [
             0.4444444444444444,
             "#bd3786"
            ],
            [
             0.5555555555555556,
             "#d8576b"
            ],
            [
             0.6666666666666666,
             "#ed7953"
            ],
            [
             0.7777777777777778,
             "#fb9f3a"
            ],
            [
             0.8888888888888888,
             "#fdca26"
            ],
            [
             1,
             "#f0f921"
            ]
           ]
          },
          "colorway": [
           "#636efa",
           "#EF553B",
           "#00cc96",
           "#ab63fa",
           "#FFA15A",
           "#19d3f3",
           "#FF6692",
           "#B6E880",
           "#FF97FF",
           "#FECB52"
          ],
          "font": {
           "color": "#2a3f5f"
          },
          "geo": {
           "bgcolor": "white",
           "lakecolor": "white",
           "landcolor": "white",
           "showlakes": true,
           "showland": true,
           "subunitcolor": "#C8D4E3"
          },
          "hoverlabel": {
           "align": "left"
          },
          "hovermode": "closest",
          "mapbox": {
           "style": "light"
          },
          "paper_bgcolor": "white",
          "plot_bgcolor": "white",
          "polar": {
           "angularaxis": {
            "gridcolor": "#EBF0F8",
            "linecolor": "#EBF0F8",
            "ticks": ""
           },
           "bgcolor": "white",
           "radialaxis": {
            "gridcolor": "#EBF0F8",
            "linecolor": "#EBF0F8",
            "ticks": ""
           }
          },
          "scene": {
           "xaxis": {
            "backgroundcolor": "white",
            "gridcolor": "#DFE8F3",
            "gridwidth": 2,
            "linecolor": "#EBF0F8",
            "showbackground": true,
            "ticks": "",
            "zerolinecolor": "#EBF0F8"
           },
           "yaxis": {
            "backgroundcolor": "white",
            "gridcolor": "#DFE8F3",
            "gridwidth": 2,
            "linecolor": "#EBF0F8",
            "showbackground": true,
            "ticks": "",
            "zerolinecolor": "#EBF0F8"
           },
           "zaxis": {
            "backgroundcolor": "white",
            "gridcolor": "#DFE8F3",
            "gridwidth": 2,
            "linecolor": "#EBF0F8",
            "showbackground": true,
            "ticks": "",
            "zerolinecolor": "#EBF0F8"
           }
          },
          "shapedefaults": {
           "line": {
            "color": "#2a3f5f"
           }
          },
          "ternary": {
           "aaxis": {
            "gridcolor": "#DFE8F3",
            "linecolor": "#A2B1C6",
            "ticks": ""
           },
           "baxis": {
            "gridcolor": "#DFE8F3",
            "linecolor": "#A2B1C6",
            "ticks": ""
           },
           "bgcolor": "white",
           "caxis": {
            "gridcolor": "#DFE8F3",
            "linecolor": "#A2B1C6",
            "ticks": ""
           }
          },
          "title": {
           "x": 0.05
          },
          "xaxis": {
           "automargin": true,
           "gridcolor": "#EBF0F8",
           "linecolor": "#EBF0F8",
           "ticks": "",
           "title": {
            "standoff": 15
           },
           "zerolinecolor": "#EBF0F8",
           "zerolinewidth": 2
          },
          "yaxis": {
           "automargin": true,
           "gridcolor": "#EBF0F8",
           "linecolor": "#EBF0F8",
           "ticks": "",
           "title": {
            "standoff": 15
           },
           "zerolinecolor": "#EBF0F8",
           "zerolinewidth": 2
          }
         }
        },
        "xaxis": {
         "anchor": "y",
         "autorange": true,
         "domain": [
          0,
          1
         ],
         "range": [
          -25,
          675
         ],
         "title": {
          "text": "_value"
         },
         "type": "linear"
        },
        "yaxis": {
         "anchor": "x",
         "autorange": true,
         "domain": [
          0,
          1
         ],
         "range": [
          0,
          194.73684210526315
         ],
         "title": {
          "text": "count"
         }
        }
       }
      },
      "image/png": "[encoded data removed]",
      "text/html": [
       "<div>                            <div id=\"fb5659b1-d44d-4be3-8755-cea7ac955244\" class=\"plotly-graph-div\" style=\"height:400px; width:100%;\"></div>            <script type=\"text/javascript\">                require([\"plotly\"], function(Plotly) {                    window.PLOTLYENV=window.PLOTLYENV || {};                                    if (document.getElementById(\"fb5659b1-d44d-4be3-8755-cea7ac955244\")) {                    Plotly.newPlot(                        \"fb5659b1-d44d-4be3-8755-cea7ac955244\",                        [{\"alignmentgroup\":\"True\",\"bingroup\":\"x\",\"hovertemplate\":\"variable=value<br>_value=%{x}<br>count=%{y}<extra></extra>\",\"legendgroup\":\"value\",\"marker\":{\"color\":\"#999999\",\"pattern\":{\"shape\":\"\"}},\"name\":\"value\",\"offsetgroup\":\"value\",\"orientation\":\"v\",\"showlegend\":true,\"x\":[247.468473,271.516129,271.516129,247.468473,247.468473,247.468473,237.157207,650.100055,247.468472,247.468473,247.468473,237.157207,247.468473,271.516129,247.468472,247.468472,271.51613,19.288636,79.502156,271.51613,271.51613,271.51613,271.51613,650.100056,271.516129,271.51613,271.51613,271.51613,271.51613,54.897342,271.516129,271.516129,247.468473,271.516129,271.516129,247.468473,247.468473,247.468473,237.157207,650.100055,247.468472,247.468473,247.468473,237.157207,247.468473,271.516129,247.468472,247.468472,271.51613,47.699884,79.502156,271.51613,271.51613,271.51613,271.51613,650.100056,271.516129,271.51613,271.51613,271.51613,271.51613,54.897342,271.516129,271.516129,247.468473,271.516129,271.516129,247.468473,247.468473,247.468473,237.157207,650.100055,247.468472,247.468473,247.468473,237.157207,247.468473,271.516129,247.468472,247.468472,213.482822,271.51613,271.51613,213.482822,213.482822,213.482822,247.468474,650.100056,213.482821,213.482822,105.865524,247.468474,239.748468,271.51613,239.748467,239.748467,247.468473,271.516129,271.516129,247.468473,247.468473,247.468473,237.157207,650.100055,247.468472,247.468473,247.468473,237.157207,247.468473,271.516129,247.468472,247.468472,213.482822,271.51613,271.51613,213.482822,213.482822,213.482822,247.468474,650.100056,213.482821,213.482822,105.865524,247.468474,239.748468,271.51613,239.748467,239.748467,68.560448,271.51613,271.51613,68.560448,68.560448,68.560448,247.468474,650.100056,68.5604470000001,68.560448,213.482822,247.468474,239.748468,271.51613,239.748467,239.748467,213.482822,271.51613,271.51613,213.482822,213.482822,213.482822,247.468474,650.100056,213.482821,213.482822,105.865524,247.468474,239.748468,271.51613,239.748467,239.748467,27.369892,271.51613,271.51613,61.348278,44.199414,61.348278,247.468474,650.100056,61.3482770000001,2.438204,213.482822,247.468474,239.748468,271.51613,239.748467,239.748467,213.482821,271.516129,271.516129,213.482821,213.482821,213.482821,247.468473,650.100055,213.48282,213.482821,105.865523,247.468473,239.748467,271.516129,239.748466,239.748466,247.468473,271.516129,271.516129,247.468473,247.468473,247.468473,237.157207,650.100055,247.468472,247.468473,247.468473,237.157207,247.468473,271.516129,247.468472,247.468472,247.468474,271.51613,271.51613,247.468474,247.468474,247.468474,244.810184,650.100056,247.468473,247.468474,247.468474,244.810184,247.468474,271.51613,247.468473,247.468473,247.4684740003,271.5161300003,271.5161300003,247.4684740003,247.4684740003,247.4684740003,237.1572080003,650.1000560003,247.4684730003,247.4684740003,247.4684740003,237.1572080003,247.4684740003,271.5161300003,247.4684730003,247.4684730003,213.482822,271.51613,271.51613,213.482822,213.482822,213.482822,247.468474,650.100056,213.482821,213.482822,105.865524,247.468474,239.748468,271.51613,239.748467,239.748467],\"xaxis\":\"x\",\"yaxis\":\"y\",\"type\":\"histogram\"}],                        {\"template\":{\"data\":{\"histogram2dcontour\":[{\"type\":\"histogram2dcontour\",\"colorbar\":{\"outlinewidth\":0,\"ticks\":\"\"},\"colorscale\":[[0.0,\"#0d0887\"],[0.1111111111111111,\"#46039f\"],[0.2222222222222222,\"#7201a8\"],[0.3333333333333333,\"#9c179e\"],[0.4444444444444444,\"#bd3786\"],[0.5555555555555556,\"#d8576b\"],[0.6666666666666666,\"#ed7953\"],[0.7777777777777778,\"#fb9f3a\"],[0.8888888888888888,\"#fdca26\"],[1.0,\"#f0f921\"]]}],\"choropleth\":[{\"type\":\"choropleth\",\"colorbar\":{\"outlinewidth\":0,\"ticks\":\"\"}}],\"histogram2d\":[{\"type\":\"histogram2d\",\"colorbar\":{\"outlinewidth\":0,\"ticks\":\"\"},\"colorscale\":[[0.0,\"#0d0887\"],[0.1111111111111111,\"#46039f\"],[0.2222222222222222,\"#7201a8\"],[0.3333333333333333,\"#9c179e\"],[0.4444444444444444,\"#bd3786\"],[0.5555555555555556,\"#d8576b\"],[0.6666666666666666,\"#ed7953\"],[0.7777777777777778,\"#fb9f3a\"],[0.8888888888888888,\"#fdca26\"],[1.0,\"#f0f921\"]]}],\"heatmap\":[{\"type\":\"heatmap\",\"colorbar\":{\"outlinewidth\":0,\"ticks\":\"\"},\"colorscale\":[[0.0,\"#0d0887\"],[0.1111111111111111,\"#46039f\"],[0.2222222222222222,\"#7201a8\"],[0.3333333333333333,\"#9c179e\"],[0.4444444444444444,\"#bd3786\"],[0.5555555555555556,\"#d8576b\"],[0.6666666666666666,\"#ed7953\"],[0.7777777777777778,\"#fb9f3a\"],[0.8888888888888888,\"#fdca26\"],[1.0,\"#f0f921\"]]}],\"heatmapgl\":[{\"type\":\"heatmapgl\",\"colorbar\":{\"outlinewidth\":0,\"ticks\":\"\"},\"colorscale\":[[0.0,\"#0d0887\"],[0.1111111111111111,\"#46039f\"],[0.2222222222222222,\"#7201a8\"],[0.3333333333333333,\"#9c179e\"],[0.4444444444444444,\"#bd3786\"],[0.5555555555555556,\"#d8576b\"],[0.6666666666666666,\"#ed7953\"],[0.7777777777777778,\"#fb9f3a\"],[0.8888888888888888,\"#fdca26\"],[1.0,\"#f0f921\"]]}],\"contourcarpet\":[{\"type\":\"contourcarpet\",\"colorbar\":{\"outlinewidth\":0,\"ticks\":\"\"}}],\"contour\":[{\"type\":\"contour\",\"colorbar\":{\"outlinewidth\":0,\"ticks\":\"\"},\"colorscale\":[[0.0,\"#0d0887\"],[0.1111111111111111,\"#46039f\"],[0.2222222222222222,\"#7201a8\"],[0.3333333333333333,\"#9c179e\"],[0.4444444444444444,\"#bd3786\"],[0.5555555555555556,\"#d8576b\"],[0.6666666666666666,\"#ed7953\"],[0.7777777777777778,\"#fb9f3a\"],[0.8888888888888888,\"#fdca26\"],[1.0,\"#f0f921\"]]}],\"surface\":[{\"type\":\"surface\",\"colorbar\":{\"outlinewidth\":0,\"ticks\":\"\"},\"colorscale\":[[0.0,\"#0d0887\"],[0.1111111111111111,\"#46039f\"],[0.2222222222222222,\"#7201a8\"],[0.3333333333333333,\"#9c179e\"],[0.4444444444444444,\"#bd3786\"],[0.5555555555555556,\"#d8576b\"],[0.6666666666666666,\"#ed7953\"],[0.7777777777777778,\"#fb9f3a\"],[0.8888888888888888,\"#fdca26\"],[1.0,\"#f0f921\"]]}],\"mesh3d\":[{\"type\":\"mesh3d\",\"colorbar\":{\"outlinewidth\":0,\"ticks\":\"\"}}],\"scatter\":[{\"fillpattern\":{\"fillmode\":\"overlay\",\"size\":10,\"solidity\":0.2},\"type\":\"scatter\"}],\"parcoords\":[{\"type\":\"parcoords\",\"line\":{\"colorbar\":{\"outlinewidth\":0,\"ticks\":\"\"}}}],\"scatterpolargl\":[{\"type\":\"scatterpolargl\",\"marker\":{\"colorbar\":{\"outlinewidth\":0,\"ticks\":\"\"}}}],\"bar\":[{\"error_x\":{\"color\":\"#2a3f5f\"},\"error_y\":{\"color\":\"#2a3f5f\"},\"marker\":{\"line\":{\"color\":\"white\",\"width\":0.5},\"pattern\":{\"fillmode\":\"overlay\",\"size\":10,\"solidity\":0.2}},\"type\":\"bar\"}],\"scattergeo\":[{\"type\":\"scattergeo\",\"marker\":{\"colorbar\":{\"outlinewidth\":0,\"ticks\":\"\"}}}],\"scatterpolar\":[{\"type\":\"scatterpolar\",\"marker\":{\"colorbar\":{\"outlinewidth\":0,\"ticks\":\"\"}}}],\"histogram\":[{\"marker\":{\"pattern\":{\"fillmode\":\"overlay\",\"size\":10,\"solidity\":0.2}},\"type\":\"histogram\"}],\"scattergl\":[{\"type\":\"scattergl\",\"marker\":{\"colorbar\":{\"outlinewidth\":0,\"ticks\":\"\"}}}],\"scatter3d\":[{\"type\":\"scatter3d\",\"line\":{\"colorbar\":{\"outlinewidth\":0,\"ticks\":\"\"}},\"marker\":{\"colorbar\":{\"outlinewidth\":0,\"ticks\":\"\"}}}],\"scattermapbox\":[{\"type\":\"scattermapbox\",\"marker\":{\"colorbar\":{\"outlinewidth\":0,\"ticks\":\"\"}}}],\"scatterternary\":[{\"type\":\"scatterternary\",\"marker\":{\"colorbar\":{\"outlinewidth\":0,\"ticks\":\"\"}}}],\"scattercarpet\":[{\"type\":\"scattercarpet\",\"marker\":{\"colorbar\":{\"outlinewidth\":0,\"ticks\":\"\"}}}],\"carpet\":[{\"aaxis\":{\"endlinecolor\":\"#2a3f5f\",\"gridcolor\":\"#C8D4E3\",\"linecolor\":\"#C8D4E3\",\"minorgridcolor\":\"#C8D4E3\",\"startlinecolor\":\"#2a3f5f\"},\"baxis\":{\"endlinecolor\":\"#2a3f5f\",\"gridcolor\":\"#C8D4E3\",\"linecolor\":\"#C8D4E3\",\"minorgridcolor\":\"#C8D4E3\",\"startlinecolor\":\"#2a3f5f\"},\"type\":\"carpet\"}],\"table\":[{\"cells\":{\"fill\":{\"color\":\"#EBF0F8\"},\"line\":{\"color\":\"white\"}},\"header\":{\"fill\":{\"color\":\"#C8D4E3\"},\"line\":{\"color\":\"white\"}},\"type\":\"table\"}],\"barpolar\":[{\"marker\":{\"line\":{\"color\":\"white\",\"width\":0.5},\"pattern\":{\"fillmode\":\"overlay\",\"size\":10,\"solidity\":0.2}},\"type\":\"barpolar\"}],\"pie\":[{\"automargin\":true,\"type\":\"pie\"}]},\"layout\":{\"autotypenumbers\":\"strict\",\"colorway\":[\"#636efa\",\"#EF553B\",\"#00cc96\",\"#ab63fa\",\"#FFA15A\",\"#19d3f3\",\"#FF6692\",\"#B6E880\",\"#FF97FF\",\"#FECB52\"],\"font\":{\"color\":\"#2a3f5f\"},\"hovermode\":\"closest\",\"hoverlabel\":{\"align\":\"left\"},\"paper_bgcolor\":\"white\",\"plot_bgcolor\":\"white\",\"polar\":{\"bgcolor\":\"white\",\"angularaxis\":{\"gridcolor\":\"#EBF0F8\",\"linecolor\":\"#EBF0F8\",\"ticks\":\"\"},\"radialaxis\":{\"gridcolor\":\"#EBF0F8\",\"linecolor\":\"#EBF0F8\",\"ticks\":\"\"}},\"ternary\":{\"bgcolor\":\"white\",\"aaxis\":{\"gridcolor\":\"#DFE8F3\",\"linecolor\":\"#A2B1C6\",\"ticks\":\"\"},\"baxis\":{\"gridcolor\":\"#DFE8F3\",\"linecolor\":\"#A2B1C6\",\"ticks\":\"\"},\"caxis\":{\"gridcolor\":\"#DFE8F3\",\"linecolor\":\"#A2B1C6\",\"ticks\":\"\"}},\"coloraxis\":{\"colorbar\":{\"outlinewidth\":0,\"ticks\":\"\"}},\"colorscale\":{\"sequential\":[[0.0,\"#0d0887\"],[0.1111111111111111,\"#46039f\"],[0.2222222222222222,\"#7201a8\"],[0.3333333333333333,\"#9c179e\"],[0.4444444444444444,\"#bd3786\"],[0.5555555555555556,\"#d8576b\"],[0.6666666666666666,\"#ed7953\"],[0.7777777777777778,\"#fb9f3a\"],[0.8888888888888888,\"#fdca26\"],[1.0,\"#f0f921\"]],\"sequentialminus\":[[0.0,\"#0d0887\"],[0.1111111111111111,\"#46039f\"],[0.2222222222222222,\"#7201a8\"],[0.3333333333333333,\"#9c179e\"],[0.4444444444444444,\"#bd3786\"],[0.5555555555555556,\"#d8576b\"],[0.6666666666666666,\"#ed7953\"],[0.7777777777777778,\"#fb9f3a\"],[0.8888888888888888,\"#fdca26\"],[1.0,\"#f0f921\"]],\"diverging\":[[0,\"#8e0152\"],[0.1,\"#c51b7d\"],[0.2,\"#de77ae\"],[0.3,\"#f1b6da\"],[0.4,\"#fde0ef\"],[0.5,\"#f7f7f7\"],[0.6,\"#e6f5d0\"],[0.7,\"#b8e186\"],[0.8,\"#7fbc41\"],[0.9,\"#4d9221\"],[1,\"#276419\"]]},\"xaxis\":{\"gridcolor\":\"#EBF0F8\",\"linecolor\":\"#EBF0F8\",\"ticks\":\"\",\"title\":{\"standoff\":15},\"zerolinecolor\":\"#EBF0F8\",\"automargin\":true,\"zerolinewidth\":2},\"yaxis\":{\"gridcolor\":\"#EBF0F8\",\"linecolor\":\"#EBF0F8\",\"ticks\":\"\",\"title\":{\"standoff\":15},\"zerolinecolor\":\"#EBF0F8\",\"automargin\":true,\"zerolinewidth\":2},\"scene\":{\"xaxis\":{\"backgroundcolor\":\"white\",\"gridcolor\":\"#DFE8F3\",\"linecolor\":\"#EBF0F8\",\"showbackground\":true,\"ticks\":\"\",\"zerolinecolor\":\"#EBF0F8\",\"gridwidth\":2},\"yaxis\":{\"backgroundcolor\":\"white\",\"gridcolor\":\"#DFE8F3\",\"linecolor\":\"#EBF0F8\",\"showbackground\":true,\"ticks\":\"\",\"zerolinecolor\":\"#EBF0F8\",\"gridwidth\":2},\"zaxis\":{\"backgroundcolor\":\"white\",\"gridcolor\":\"#DFE8F3\",\"linecolor\":\"#EBF0F8\",\"showbackground\":true,\"ticks\":\"\",\"zerolinecolor\":\"#EBF0F8\",\"gridwidth\":2}},\"shapedefaults\":{\"line\":{\"color\":\"#2a3f5f\"}},\"annotationdefaults\":{\"arrowcolor\":\"#2a3f5f\",\"arrowhead\":0,\"arrowwidth\":1},\"geo\":{\"bgcolor\":\"white\",\"landcolor\":\"white\",\"subunitcolor\":\"#C8D4E3\",\"showland\":true,\"showlakes\":true,\"lakecolor\":\"white\"},\"title\":{\"x\":0.05},\"mapbox\":{\"style\":\"light\"}}},\"xaxis\":{\"anchor\":\"y\",\"domain\":[0.0,1.0],\"title\":{\"text\":\"_value\"}},\"yaxis\":{\"anchor\":\"x\",\"domain\":[0.0,1.0],\"title\":{\"text\":\"count\"}},\"legend\":{\"title\":{\"text\":\"variable\"},\"tracegroupgap\":0},\"margin\":{\"t\":60},\"barmode\":\"relative\",\"height\":400},                        {\"responsive\": true}                    ).then(function(){\n",
       "                            \n",
       "var gd = document.getElementById('fb5659b1-d44d-4be3-8755-cea7ac955244');\n",
       "var x = new MutationObserver(function (mutations, observer) {{\n",
       "        var display = window.getComputedStyle(gd).display;\n",
       "        if (!display || display === 'none') {{\n",
       "            console.log([gd, 'removed!']);\n",
       "            Plotly.purge(gd);\n",
       "            observer.disconnect();\n",
       "        }}\n",
       "}});\n",
       "\n",
       "// Listen for the removal of the full notebook cells\n",
       "var notebookContainer = gd.closest('#notebook-container');\n",
       "if (notebookContainer) {{\n",
       "    x.observe(notebookContainer, {childList: true});\n",
       "}}\n",
       "\n",
       "// Listen for the clearing of the current output cell\n",
       "var outputEl = gd.closest('.output');\n",
       "if (outputEl) {{\n",
       "    x.observe(outputEl, {childList: true});\n",
       "}}\n",
       "\n",
       "                        })                };                });            </script>        </div>"
      ]
     },
     "metadata": {},
     "output_type": "display_data"
    }
   ],
   "source": [
    "subset_phylo(phylo, species_origin, species_target).melt().value.plot.hist()"
   ]
  },
  {
   "cell_type": "code",
   "execution_count": 78,
   "metadata": {
    "tags": []
   },
   "outputs": [],
   "source": [
    "# phylo.pipe(export_patches, paths=paths, file_name= 'phylo_petrer_limestone_union_patches.csv', index=True)#"
   ]
  },
  {
   "cell_type": "code",
   "execution_count": 132,
   "metadata": {
    "tags": []
   },
   "outputs": [
    {
     "name": "stdout",
     "output_type": "stream",
     "text": [
      "Index(['Fumana thymifolia', 'Stipa tenacissima', 'Helianthemum violaceum',\n",
      "       'Brachypodium retusum', 'Fumana ericoides', 'Rosmarinus officinalis',\n",
      "       'Helianthemum syriacum', 'Teucrium capitatum', 'Atractylis cancellata',\n",
      "       'Teucrium pseudochamaepitys', 'Phagnalon rupestre', 'Teucrium mola',\n",
      "       'Fumana hispidula', 'Sedum sediforme', 'Matthiola fruticulosa',\n",
      "       'Thymus vulgaris'],\n",
      "      dtype='object')\n",
      "Index(['Bouteloa gracilis', 'Neobuxbaumia mezcalaensis', 'Lippia graveolens',\n",
      "       'Yucca periculosa', 'Calliandra eriophylla', 'Aeschinomene compacta',\n",
      "       'Echinopterix eglandulosa', 'Ruelia', 'Ipomea sp',\n",
      "       'Lantana achirantifolia', 'Justicia mexicana',\n",
      "       'Ruelia hirsutoglandulosa', 'Cnidosculus tehuacanensis',\n",
      "       'Opuntia decumbens', 'Hechtia', 'Hibiscus'],\n",
      "      dtype='object')\n"
     ]
    },
    {
     "data": {
      "text/plain": [
       "{'Fumana thymifolia': 'Bouteloa gracilis',\n",
       " 'Stipa tenacissima': 'Neobuxbaumia mezcalaensis',\n",
       " 'Helianthemum violaceum': 'Lippia graveolens',\n",
       " 'Brachypodium retusum': 'Yucca periculosa',\n",
       " 'Fumana ericoides': 'Calliandra eriophylla',\n",
       " 'Rosmarinus officinalis': 'Aeschinomene compacta',\n",
       " 'Helianthemum syriacum': 'Echinopterix eglandulosa',\n",
       " 'Teucrium capitatum': 'Ruelia',\n",
       " 'Atractylis cancellata': 'Ipomea sp',\n",
       " 'Teucrium pseudochamaepitys': 'Lantana achirantifolia',\n",
       " 'Phagnalon rupestre': 'Justicia mexicana',\n",
       " 'Teucrium mola': 'Ruelia hirsutoglandulosa',\n",
       " 'Fumana hispidula': 'Cnidosculus tehuacanensis',\n",
       " 'Sedum sediforme': 'Opuntia decumbens',\n",
       " 'Matthiola fruticulosa': 'Hechtia',\n",
       " 'Thymus vulgaris': 'Hibiscus'}"
      ]
     },
     "execution_count": 132,
     "metadata": {},
     "output_type": "execute_result"
    }
   ],
   "source": [
    "paths = set_paths('transfer')\n",
    "species_origin = get_species(config['training_data'])\n",
    "print(species_origin)\n",
    "species_target = get_species(config['testing_data'])\n",
    "print(species_target)\n",
    "dictionary = build_dictionary(config, phylo, species_origin, species_target, chunk_size = 16)\n",
    "dictionary"
   ]
  },
  {
   "cell_type": "code",
   "execution_count": 133,
   "metadata": {
    "tags": []
   },
   "outputs": [
    {
     "data": {
      "text/html": [
       "<div>\n",
       "<style scoped>\n",
       "    .dataframe tbody tr th:only-of-type {\n",
       "        vertical-align: middle;\n",
       "    }\n",
       "\n",
       "    .dataframe tbody tr th {\n",
       "        vertical-align: top;\n",
       "    }\n",
       "\n",
       "    .dataframe thead th {\n",
       "        text-align: right;\n",
       "    }\n",
       "</style>\n",
       "<table border=\"1\" class=\"dataframe\">\n",
       "  <thead>\n",
       "    <tr style=\"text-align: right;\">\n",
       "      <th></th>\n",
       "      <th>petrer</th>\n",
       "      <th>target</th>\n",
       "    </tr>\n",
       "  </thead>\n",
       "  <tbody>\n",
       "    <tr>\n",
       "      <th>0</th>\n",
       "      <td>Fumana thymifolia</td>\n",
       "      <td>Bouteloa gracilis</td>\n",
       "    </tr>\n",
       "    <tr>\n",
       "      <th>1</th>\n",
       "      <td>Stipa tenacissima</td>\n",
       "      <td>Neobuxbaumia mezcalaensis</td>\n",
       "    </tr>\n",
       "    <tr>\n",
       "      <th>2</th>\n",
       "      <td>Helianthemum violaceum</td>\n",
       "      <td>Lippia graveolens</td>\n",
       "    </tr>\n",
       "    <tr>\n",
       "      <th>3</th>\n",
       "      <td>Brachypodium retusum</td>\n",
       "      <td>Yucca periculosa</td>\n",
       "    </tr>\n",
       "    <tr>\n",
       "      <th>4</th>\n",
       "      <td>Fumana ericoides</td>\n",
       "      <td>Calliandra eriophylla</td>\n",
       "    </tr>\n",
       "    <tr>\n",
       "      <th>5</th>\n",
       "      <td>Rosmarinus officinalis</td>\n",
       "      <td>Aeschinomene compacta</td>\n",
       "    </tr>\n",
       "    <tr>\n",
       "      <th>6</th>\n",
       "      <td>Helianthemum syriacum</td>\n",
       "      <td>Echinopterix eglandulosa</td>\n",
       "    </tr>\n",
       "    <tr>\n",
       "      <th>7</th>\n",
       "      <td>Teucrium capitatum</td>\n",
       "      <td>Ruelia</td>\n",
       "    </tr>\n",
       "    <tr>\n",
       "      <th>8</th>\n",
       "      <td>Atractylis cancellata</td>\n",
       "      <td>Ipomea sp</td>\n",
       "    </tr>\n",
       "    <tr>\n",
       "      <th>9</th>\n",
       "      <td>Teucrium pseudochamaepitys</td>\n",
       "      <td>Lantana achirantifolia</td>\n",
       "    </tr>\n",
       "    <tr>\n",
       "      <th>10</th>\n",
       "      <td>Phagnalon rupestre</td>\n",
       "      <td>Justicia mexicana</td>\n",
       "    </tr>\n",
       "    <tr>\n",
       "      <th>11</th>\n",
       "      <td>Teucrium mola</td>\n",
       "      <td>Ruelia hirsutoglandulosa</td>\n",
       "    </tr>\n",
       "    <tr>\n",
       "      <th>12</th>\n",
       "      <td>Fumana hispidula</td>\n",
       "      <td>Cnidosculus tehuacanensis</td>\n",
       "    </tr>\n",
       "    <tr>\n",
       "      <th>13</th>\n",
       "      <td>Sedum sediforme</td>\n",
       "      <td>Opuntia decumbens</td>\n",
       "    </tr>\n",
       "    <tr>\n",
       "      <th>14</th>\n",
       "      <td>Matthiola fruticulosa</td>\n",
       "      <td>Hechtia</td>\n",
       "    </tr>\n",
       "    <tr>\n",
       "      <th>15</th>\n",
       "      <td>Thymus vulgaris</td>\n",
       "      <td>Hibiscus</td>\n",
       "    </tr>\n",
       "  </tbody>\n",
       "</table>\n",
       "</div>"
      ],
      "text/plain": [
       "                        petrer                     target\n",
       "0            Fumana thymifolia          Bouteloa gracilis\n",
       "1            Stipa tenacissima  Neobuxbaumia mezcalaensis\n",
       "2       Helianthemum violaceum          Lippia graveolens\n",
       "3         Brachypodium retusum           Yucca periculosa\n",
       "4             Fumana ericoides      Calliandra eriophylla\n",
       "5       Rosmarinus officinalis      Aeschinomene compacta\n",
       "6        Helianthemum syriacum   Echinopterix eglandulosa\n",
       "7           Teucrium capitatum                     Ruelia\n",
       "8        Atractylis cancellata                  Ipomea sp\n",
       "9   Teucrium pseudochamaepitys     Lantana achirantifolia\n",
       "10          Phagnalon rupestre          Justicia mexicana\n",
       "11               Teucrium mola   Ruelia hirsutoglandulosa\n",
       "12            Fumana hispidula  Cnidosculus tehuacanensis\n",
       "13             Sedum sediforme          Opuntia decumbens\n",
       "14       Matthiola fruticulosa                    Hechtia\n",
       "15             Thymus vulgaris                   Hibiscus"
      ]
     },
     "execution_count": 133,
     "metadata": {},
     "output_type": "execute_result"
    }
   ],
   "source": [
    "rev = pd.DataFrame([dictionary]).T\n",
    "rev.columns = ['target']\n",
    "rev = rev.reset_index(names = 'petrer')\n",
    "rev"
   ]
  },
  {
   "cell_type": "code",
   "execution_count": 134,
   "metadata": {
    "tags": []
   },
   "outputs": [
    {
     "data": {
      "text/plain": [
       "dict_values(['Bouteloa gracilis', 'Neobuxbaumia mezcalaensis', 'Lippia graveolens', 'Yucca periculosa', 'Calliandra eriophylla', 'Aeschinomene compacta', 'Echinopterix eglandulosa', 'Ruelia', 'Ipomea sp', 'Lantana achirantifolia', 'Justicia mexicana', 'Ruelia hirsutoglandulosa', 'Cnidosculus tehuacanensis', 'Opuntia decumbens', 'Hechtia', 'Hibiscus'])"
      ]
     },
     "execution_count": 134,
     "metadata": {},
     "output_type": "execute_result"
    }
   ],
   "source": [
    "dictionary = build_dictionary(config, phylo, species_origin, species_target, chunk_size = 16)\n",
    "dictionary.values()"
   ]
  },
  {
   "cell_type": "code",
   "execution_count": 135,
   "metadata": {
    "tags": []
   },
   "outputs": [
    {
     "data": {
      "text/html": [
       "<div>\n",
       "<style scoped>\n",
       "    .dataframe tbody tr th:only-of-type {\n",
       "        vertical-align: middle;\n",
       "    }\n",
       "\n",
       "    .dataframe tbody tr th {\n",
       "        vertical-align: top;\n",
       "    }\n",
       "\n",
       "    .dataframe thead th {\n",
       "        text-align: right;\n",
       "    }\n",
       "</style>\n",
       "<table border=\"1\" class=\"dataframe\">\n",
       "  <thead>\n",
       "    <tr style=\"text-align: right;\">\n",
       "      <th></th>\n",
       "      <th>Bouteloa gracilis</th>\n",
       "      <th>Neobuxbaumia mezcalaensis</th>\n",
       "      <th>Lippia graveolens</th>\n",
       "      <th>Yucca periculosa</th>\n",
       "      <th>Calliandra eriophylla</th>\n",
       "      <th>Aeschinomene compacta</th>\n",
       "      <th>Echinopterix eglandulosa</th>\n",
       "      <th>Ruelia</th>\n",
       "      <th>Ipomea sp</th>\n",
       "      <th>Lantana achirantifolia</th>\n",
       "      <th>Justicia mexicana</th>\n",
       "      <th>Ruelia hirsutoglandulosa</th>\n",
       "      <th>Cnidosculus tehuacanensis</th>\n",
       "      <th>Opuntia decumbens</th>\n",
       "      <th>Hechtia</th>\n",
       "      <th>Hibiscus</th>\n",
       "    </tr>\n",
       "  </thead>\n",
       "  <tbody>\n",
       "    <tr>\n",
       "      <th>0</th>\n",
       "      <td>True</td>\n",
       "      <td>True</td>\n",
       "      <td>True</td>\n",
       "      <td>False</td>\n",
       "      <td>True</td>\n",
       "      <td>False</td>\n",
       "      <td>False</td>\n",
       "      <td>False</td>\n",
       "      <td>False</td>\n",
       "      <td>False</td>\n",
       "      <td>False</td>\n",
       "      <td>False</td>\n",
       "      <td>False</td>\n",
       "      <td>False</td>\n",
       "      <td>False</td>\n",
       "      <td>False</td>\n",
       "    </tr>\n",
       "    <tr>\n",
       "      <th>1</th>\n",
       "      <td>True</td>\n",
       "      <td>True</td>\n",
       "      <td>False</td>\n",
       "      <td>False</td>\n",
       "      <td>False</td>\n",
       "      <td>False</td>\n",
       "      <td>False</td>\n",
       "      <td>False</td>\n",
       "      <td>False</td>\n",
       "      <td>False</td>\n",
       "      <td>False</td>\n",
       "      <td>False</td>\n",
       "      <td>False</td>\n",
       "      <td>False</td>\n",
       "      <td>True</td>\n",
       "      <td>False</td>\n",
       "    </tr>\n",
       "    <tr>\n",
       "      <th>2</th>\n",
       "      <td>True</td>\n",
       "      <td>True</td>\n",
       "      <td>True</td>\n",
       "      <td>False</td>\n",
       "      <td>False</td>\n",
       "      <td>False</td>\n",
       "      <td>False</td>\n",
       "      <td>False</td>\n",
       "      <td>False</td>\n",
       "      <td>False</td>\n",
       "      <td>False</td>\n",
       "      <td>False</td>\n",
       "      <td>True</td>\n",
       "      <td>False</td>\n",
       "      <td>False</td>\n",
       "      <td>True</td>\n",
       "    </tr>\n",
       "    <tr>\n",
       "      <th>4</th>\n",
       "      <td>True</td>\n",
       "      <td>False</td>\n",
       "      <td>False</td>\n",
       "      <td>False</td>\n",
       "      <td>False</td>\n",
       "      <td>True</td>\n",
       "      <td>False</td>\n",
       "      <td>False</td>\n",
       "      <td>False</td>\n",
       "      <td>False</td>\n",
       "      <td>False</td>\n",
       "      <td>False</td>\n",
       "      <td>False</td>\n",
       "      <td>False</td>\n",
       "      <td>False</td>\n",
       "      <td>False</td>\n",
       "    </tr>\n",
       "    <tr>\n",
       "      <th>5</th>\n",
       "      <td>True</td>\n",
       "      <td>False</td>\n",
       "      <td>False</td>\n",
       "      <td>False</td>\n",
       "      <td>False</td>\n",
       "      <td>True</td>\n",
       "      <td>False</td>\n",
       "      <td>False</td>\n",
       "      <td>False</td>\n",
       "      <td>False</td>\n",
       "      <td>False</td>\n",
       "      <td>False</td>\n",
       "      <td>False</td>\n",
       "      <td>False</td>\n",
       "      <td>False</td>\n",
       "      <td>False</td>\n",
       "    </tr>\n",
       "    <tr>\n",
       "      <th>...</th>\n",
       "      <td>...</td>\n",
       "      <td>...</td>\n",
       "      <td>...</td>\n",
       "      <td>...</td>\n",
       "      <td>...</td>\n",
       "      <td>...</td>\n",
       "      <td>...</td>\n",
       "      <td>...</td>\n",
       "      <td>...</td>\n",
       "      <td>...</td>\n",
       "      <td>...</td>\n",
       "      <td>...</td>\n",
       "      <td>...</td>\n",
       "      <td>...</td>\n",
       "      <td>...</td>\n",
       "      <td>...</td>\n",
       "    </tr>\n",
       "    <tr>\n",
       "      <th>887</th>\n",
       "      <td>True</td>\n",
       "      <td>False</td>\n",
       "      <td>True</td>\n",
       "      <td>False</td>\n",
       "      <td>False</td>\n",
       "      <td>False</td>\n",
       "      <td>True</td>\n",
       "      <td>True</td>\n",
       "      <td>False</td>\n",
       "      <td>False</td>\n",
       "      <td>False</td>\n",
       "      <td>False</td>\n",
       "      <td>True</td>\n",
       "      <td>False</td>\n",
       "      <td>False</td>\n",
       "      <td>False</td>\n",
       "    </tr>\n",
       "    <tr>\n",
       "      <th>888</th>\n",
       "      <td>True</td>\n",
       "      <td>True</td>\n",
       "      <td>False</td>\n",
       "      <td>True</td>\n",
       "      <td>False</td>\n",
       "      <td>True</td>\n",
       "      <td>False</td>\n",
       "      <td>True</td>\n",
       "      <td>False</td>\n",
       "      <td>True</td>\n",
       "      <td>False</td>\n",
       "      <td>False</td>\n",
       "      <td>False</td>\n",
       "      <td>False</td>\n",
       "      <td>True</td>\n",
       "      <td>False</td>\n",
       "    </tr>\n",
       "    <tr>\n",
       "      <th>889</th>\n",
       "      <td>True</td>\n",
       "      <td>True</td>\n",
       "      <td>False</td>\n",
       "      <td>False</td>\n",
       "      <td>False</td>\n",
       "      <td>True</td>\n",
       "      <td>False</td>\n",
       "      <td>False</td>\n",
       "      <td>False</td>\n",
       "      <td>False</td>\n",
       "      <td>True</td>\n",
       "      <td>False</td>\n",
       "      <td>False</td>\n",
       "      <td>True</td>\n",
       "      <td>False</td>\n",
       "      <td>False</td>\n",
       "    </tr>\n",
       "    <tr>\n",
       "      <th>890</th>\n",
       "      <td>True</td>\n",
       "      <td>True</td>\n",
       "      <td>False</td>\n",
       "      <td>False</td>\n",
       "      <td>True</td>\n",
       "      <td>False</td>\n",
       "      <td>False</td>\n",
       "      <td>True</td>\n",
       "      <td>False</td>\n",
       "      <td>False</td>\n",
       "      <td>False</td>\n",
       "      <td>False</td>\n",
       "      <td>True</td>\n",
       "      <td>False</td>\n",
       "      <td>False</td>\n",
       "      <td>False</td>\n",
       "    </tr>\n",
       "    <tr>\n",
       "      <th>891</th>\n",
       "      <td>False</td>\n",
       "      <td>True</td>\n",
       "      <td>False</td>\n",
       "      <td>True</td>\n",
       "      <td>False</td>\n",
       "      <td>False</td>\n",
       "      <td>True</td>\n",
       "      <td>False</td>\n",
       "      <td>False</td>\n",
       "      <td>True</td>\n",
       "      <td>True</td>\n",
       "      <td>False</td>\n",
       "      <td>False</td>\n",
       "      <td>False</td>\n",
       "      <td>False</td>\n",
       "      <td>False</td>\n",
       "    </tr>\n",
       "  </tbody>\n",
       "</table>\n",
       "<p>840 rows × 16 columns</p>\n",
       "</div>"
      ],
      "text/plain": [
       "     Bouteloa gracilis  Neobuxbaumia mezcalaensis  Lippia graveolens  \\\n",
       "0                 True                       True               True   \n",
       "1                 True                       True              False   \n",
       "2                 True                       True               True   \n",
       "4                 True                      False              False   \n",
       "5                 True                      False              False   \n",
       "..                 ...                        ...                ...   \n",
       "887               True                      False               True   \n",
       "888               True                       True              False   \n",
       "889               True                       True              False   \n",
       "890               True                       True              False   \n",
       "891              False                       True              False   \n",
       "\n",
       "     Yucca periculosa  Calliandra eriophylla  Aeschinomene compacta  \\\n",
       "0               False                   True                  False   \n",
       "1               False                  False                  False   \n",
       "2               False                  False                  False   \n",
       "4               False                  False                   True   \n",
       "5               False                  False                   True   \n",
       "..                ...                    ...                    ...   \n",
       "887             False                  False                  False   \n",
       "888              True                  False                   True   \n",
       "889             False                  False                   True   \n",
       "890             False                   True                  False   \n",
       "891              True                  False                  False   \n",
       "\n",
       "     Echinopterix eglandulosa  Ruelia  Ipomea sp  Lantana achirantifolia  \\\n",
       "0                       False   False      False                   False   \n",
       "1                       False   False      False                   False   \n",
       "2                       False   False      False                   False   \n",
       "4                       False   False      False                   False   \n",
       "5                       False   False      False                   False   \n",
       "..                        ...     ...        ...                     ...   \n",
       "887                      True    True      False                   False   \n",
       "888                     False    True      False                    True   \n",
       "889                     False   False      False                   False   \n",
       "890                     False    True      False                   False   \n",
       "891                      True   False      False                    True   \n",
       "\n",
       "     Justicia mexicana  Ruelia hirsutoglandulosa  Cnidosculus tehuacanensis  \\\n",
       "0                False                     False                      False   \n",
       "1                False                     False                      False   \n",
       "2                False                     False                       True   \n",
       "4                False                     False                      False   \n",
       "5                False                     False                      False   \n",
       "..                 ...                       ...                        ...   \n",
       "887              False                     False                       True   \n",
       "888              False                     False                      False   \n",
       "889               True                     False                      False   \n",
       "890              False                     False                       True   \n",
       "891               True                     False                      False   \n",
       "\n",
       "     Opuntia decumbens  Hechtia  Hibiscus  \n",
       "0                False    False     False  \n",
       "1                False     True     False  \n",
       "2                False    False      True  \n",
       "4                False    False     False  \n",
       "5                False    False     False  \n",
       "..                 ...      ...       ...  \n",
       "887              False    False     False  \n",
       "888              False     True     False  \n",
       "889               True    False     False  \n",
       "890              False    False     False  \n",
       "891              False    False     False  \n",
       "\n",
       "[840 rows x 16 columns]"
      ]
     },
     "execution_count": 135,
     "metadata": {},
     "output_type": "execute_result"
    }
   ],
   "source": [
    "testing_patches = get_patches(config, data='testing_data').pipe(clean_names)\n",
    "testing_patches[list(dictionary.values())]"
   ]
  },
  {
   "cell_type": "code",
   "execution_count": 136,
   "metadata": {
    "tags": []
   },
   "outputs": [
    {
     "data": {
      "application/vnd.plotly.v1+json": {
       "config": {
        "plotlyServerURL": "https://plot.ly"
       },
       "data": [
        {
         "alignmentgroup": "True",
         "hovertemplate": "variable=0<br>index=%{x}<br>value=%{y}<extra></extra>",
         "legendgroup": "0",
         "marker": {
          "color": "#999999",
          "pattern": {
           "shape": ""
          }
         },
         "name": "0",
         "offsetgroup": "0",
         "orientation": "v",
         "showlegend": true,
         "textposition": "auto",
         "type": "bar",
         "x": [
          "Bouteloa gracilis",
          "Neobuxbaumia mezcalaensis",
          "Lippia graveolens",
          "Yucca periculosa",
          "Calliandra eriophylla",
          "Aeschinomene compacta",
          "Echinopterix eglandulosa",
          "Ruelia",
          "Ipomea sp",
          "Lantana achirantifolia",
          "Justicia mexicana",
          "Ruelia hirsutoglandulosa",
          "Cnidosculus tehuacanensis",
          "Opuntia decumbens",
          "Hechtia",
          "Hibiscus"
         ],
         "xaxis": "x",
         "y": [
          0.7416666666666667,
          0.5678571428571428,
          0.3964285714285714,
          0.2976190476190476,
          0.29523809523809524,
          0.26904761904761904,
          0.2642857142857143,
          0.2392857142857143,
          0.2119047619047619,
          0.19404761904761905,
          0.17261904761904762,
          0.15,
          0.12738095238095237,
          0.125,
          0.10952380952380952,
          0.09047619047619047
         ],
         "yaxis": "y"
        }
       ],
       "layout": {
        "autosize": true,
        "barmode": "relative",
        "legend": {
         "title": {
          "text": "variable"
         },
         "tracegroupgap": 0
        },
        "margin": {
         "t": 60
        },
        "template": {
         "data": {
          "bar": [
           {
            "error_x": {
             "color": "#2a3f5f"
            },
            "error_y": {
             "color": "#2a3f5f"
            },
            "marker": {
             "line": {
              "color": "white",
              "width": 0.5
             },
             "pattern": {
              "fillmode": "overlay",
              "size": 10,
              "solidity": 0.2
             }
            },
            "type": "bar"
           }
          ],
          "barpolar": [
           {
            "marker": {
             "line": {
              "color": "white",
              "width": 0.5
             },
             "pattern": {
              "fillmode": "overlay",
              "size": 10,
              "solidity": 0.2
             }
            },
            "type": "barpolar"
           }
          ],
          "carpet": [
           {
            "aaxis": {
             "endlinecolor": "#2a3f5f",
             "gridcolor": "#C8D4E3",
             "linecolor": "#C8D4E3",
             "minorgridcolor": "#C8D4E3",
             "startlinecolor": "#2a3f5f"
            },
            "baxis": {
             "endlinecolor": "#2a3f5f",
             "gridcolor": "#C8D4E3",
             "linecolor": "#C8D4E3",
             "minorgridcolor": "#C8D4E3",
             "startlinecolor": "#2a3f5f"
            },
            "type": "carpet"
           }
          ],
          "choropleth": [
           {
            "colorbar": {
             "outlinewidth": 0,
             "ticks": ""
            },
            "type": "choropleth"
           }
          ],
          "contour": [
           {
            "colorbar": {
             "outlinewidth": 0,
             "ticks": ""
            },
            "colorscale": [
             [
              0,
              "#0d0887"
             ],
             [
              0.1111111111111111,
              "#46039f"
             ],
             [
              0.2222222222222222,
              "#7201a8"
             ],
             [
              0.3333333333333333,
              "#9c179e"
             ],
             [
              0.4444444444444444,
              "#bd3786"
             ],
             [
              0.5555555555555556,
              "#d8576b"
             ],
             [
              0.6666666666666666,
              "#ed7953"
             ],
             [
              0.7777777777777778,
              "#fb9f3a"
             ],
             [
              0.8888888888888888,
              "#fdca26"
             ],
             [
              1,
              "#f0f921"
             ]
            ],
            "type": "contour"
           }
          ],
          "contourcarpet": [
           {
            "colorbar": {
             "outlinewidth": 0,
             "ticks": ""
            },
            "type": "contourcarpet"
           }
          ],
          "heatmap": [
           {
            "colorbar": {
             "outlinewidth": 0,
             "ticks": ""
            },
            "colorscale": [
             [
              0,
              "#0d0887"
             ],
             [
              0.1111111111111111,
              "#46039f"
             ],
             [
              0.2222222222222222,
              "#7201a8"
             ],
             [
              0.3333333333333333,
              "#9c179e"
             ],
             [
              0.4444444444444444,
              "#bd3786"
             ],
             [
              0.5555555555555556,
              "#d8576b"
             ],
             [
              0.6666666666666666,
              "#ed7953"
             ],
             [
              0.7777777777777778,
              "#fb9f3a"
             ],
             [
              0.8888888888888888,
              "#fdca26"
             ],
             [
              1,
              "#f0f921"
             ]
            ],
            "type": "heatmap"
           }
          ],
          "heatmapgl": [
           {
            "colorbar": {
             "outlinewidth": 0,
             "ticks": ""
            },
            "colorscale": [
             [
              0,
              "#0d0887"
             ],
             [
              0.1111111111111111,
              "#46039f"
             ],
             [
              0.2222222222222222,
              "#7201a8"
             ],
             [
              0.3333333333333333,
              "#9c179e"
             ],
             [
              0.4444444444444444,
              "#bd3786"
             ],
             [
              0.5555555555555556,
              "#d8576b"
             ],
             [
              0.6666666666666666,
              "#ed7953"
             ],
             [
              0.7777777777777778,
              "#fb9f3a"
             ],
             [
              0.8888888888888888,
              "#fdca26"
             ],
             [
              1,
              "#f0f921"
             ]
            ],
            "type": "heatmapgl"
           }
          ],
          "histogram": [
           {
            "marker": {
             "pattern": {
              "fillmode": "overlay",
              "size": 10,
              "solidity": 0.2
             }
            },
            "type": "histogram"
           }
          ],
          "histogram2d": [
           {
            "colorbar": {
             "outlinewidth": 0,
             "ticks": ""
            },
            "colorscale": [
             [
              0,
              "#0d0887"
             ],
             [
              0.1111111111111111,
              "#46039f"
             ],
             [
              0.2222222222222222,
              "#7201a8"
             ],
             [
              0.3333333333333333,
              "#9c179e"
             ],
             [
              0.4444444444444444,
              "#bd3786"
             ],
             [
              0.5555555555555556,
              "#d8576b"
             ],
             [
              0.6666666666666666,
              "#ed7953"
             ],
             [
              0.7777777777777778,
              "#fb9f3a"
             ],
             [
              0.8888888888888888,
              "#fdca26"
             ],
             [
              1,
              "#f0f921"
             ]
            ],
            "type": "histogram2d"
           }
          ],
          "histogram2dcontour": [
           {
            "colorbar": {
             "outlinewidth": 0,
             "ticks": ""
            },
            "colorscale": [
             [
              0,
              "#0d0887"
             ],
             [
              0.1111111111111111,
              "#46039f"
             ],
             [
              0.2222222222222222,
              "#7201a8"
             ],
             [
              0.3333333333333333,
              "#9c179e"
             ],
             [
              0.4444444444444444,
              "#bd3786"
             ],
             [
              0.5555555555555556,
              "#d8576b"
             ],
             [
              0.6666666666666666,
              "#ed7953"
             ],
             [
              0.7777777777777778,
              "#fb9f3a"
             ],
             [
              0.8888888888888888,
              "#fdca26"
             ],
             [
              1,
              "#f0f921"
             ]
            ],
            "type": "histogram2dcontour"
           }
          ],
          "mesh3d": [
           {
            "colorbar": {
             "outlinewidth": 0,
             "ticks": ""
            },
            "type": "mesh3d"
           }
          ],
          "parcoords": [
           {
            "line": {
             "colorbar": {
              "outlinewidth": 0,
              "ticks": ""
             }
            },
            "type": "parcoords"
           }
          ],
          "pie": [
           {
            "automargin": true,
            "type": "pie"
           }
          ],
          "scatter": [
           {
            "fillpattern": {
             "fillmode": "overlay",
             "size": 10,
             "solidity": 0.2
            },
            "type": "scatter"
           }
          ],
          "scatter3d": [
           {
            "line": {
             "colorbar": {
              "outlinewidth": 0,
              "ticks": ""
             }
            },
            "marker": {
             "colorbar": {
              "outlinewidth": 0,
              "ticks": ""
             }
            },
            "type": "scatter3d"
           }
          ],
          "scattercarpet": [
           {
            "marker": {
             "colorbar": {
              "outlinewidth": 0,
              "ticks": ""
             }
            },
            "type": "scattercarpet"
           }
          ],
          "scattergeo": [
           {
            "marker": {
             "colorbar": {
              "outlinewidth": 0,
              "ticks": ""
             }
            },
            "type": "scattergeo"
           }
          ],
          "scattergl": [
           {
            "marker": {
             "colorbar": {
              "outlinewidth": 0,
              "ticks": ""
             }
            },
            "type": "scattergl"
           }
          ],
          "scattermapbox": [
           {
            "marker": {
             "colorbar": {
              "outlinewidth": 0,
              "ticks": ""
             }
            },
            "type": "scattermapbox"
           }
          ],
          "scatterpolar": [
           {
            "marker": {
             "colorbar": {
              "outlinewidth": 0,
              "ticks": ""
             }
            },
            "type": "scatterpolar"
           }
          ],
          "scatterpolargl": [
           {
            "marker": {
             "colorbar": {
              "outlinewidth": 0,
              "ticks": ""
             }
            },
            "type": "scatterpolargl"
           }
          ],
          "scatterternary": [
           {
            "marker": {
             "colorbar": {
              "outlinewidth": 0,
              "ticks": ""
             }
            },
            "type": "scatterternary"
           }
          ],
          "surface": [
           {
            "colorbar": {
             "outlinewidth": 0,
             "ticks": ""
            },
            "colorscale": [
             [
              0,
              "#0d0887"
             ],
             [
              0.1111111111111111,
              "#46039f"
             ],
             [
              0.2222222222222222,
              "#7201a8"
             ],
             [
              0.3333333333333333,
              "#9c179e"
             ],
             [
              0.4444444444444444,
              "#bd3786"
             ],
             [
              0.5555555555555556,
              "#d8576b"
             ],
             [
              0.6666666666666666,
              "#ed7953"
             ],
             [
              0.7777777777777778,
              "#fb9f3a"
             ],
             [
              0.8888888888888888,
              "#fdca26"
             ],
             [
              1,
              "#f0f921"
             ]
            ],
            "type": "surface"
           }
          ],
          "table": [
           {
            "cells": {
             "fill": {
              "color": "#EBF0F8"
             },
             "line": {
              "color": "white"
             }
            },
            "header": {
             "fill": {
              "color": "#C8D4E3"
             },
             "line": {
              "color": "white"
             }
            },
            "type": "table"
           }
          ]
         },
         "layout": {
          "annotationdefaults": {
           "arrowcolor": "#2a3f5f",
           "arrowhead": 0,
           "arrowwidth": 1
          },
          "autotypenumbers": "strict",
          "coloraxis": {
           "colorbar": {
            "outlinewidth": 0,
            "ticks": ""
           }
          },
          "colorscale": {
           "diverging": [
            [
             0,
             "#8e0152"
            ],
            [
             0.1,
             "#c51b7d"
            ],
            [
             0.2,
             "#de77ae"
            ],
            [
             0.3,
             "#f1b6da"
            ],
            [
             0.4,
             "#fde0ef"
            ],
            [
             0.5,
             "#f7f7f7"
            ],
            [
             0.6,
             "#e6f5d0"
            ],
            [
             0.7,
             "#b8e186"
            ],
            [
             0.8,
             "#7fbc41"
            ],
            [
             0.9,
             "#4d9221"
            ],
            [
             1,
             "#276419"
            ]
           ],
           "sequential": [
            [
             0,
             "#0d0887"
            ],
            [
             0.1111111111111111,
             "#46039f"
            ],
            [
             0.2222222222222222,
             "#7201a8"
            ],
            [
             0.3333333333333333,
             "#9c179e"
            ],
            [
             0.4444444444444444,
             "#bd3786"
            ],
            [
             0.5555555555555556,
             "#d8576b"
            ],
            [
             0.6666666666666666,
             "#ed7953"
            ],
            [
             0.7777777777777778,
             "#fb9f3a"
            ],
            [
             0.8888888888888888,
             "#fdca26"
            ],
            [
             1,
             "#f0f921"
            ]
           ],
           "sequentialminus": [
            [
             0,
             "#0d0887"
            ],
            [
             0.1111111111111111,
             "#46039f"
            ],
            [
             0.2222222222222222,
             "#7201a8"
            ],
            [
             0.3333333333333333,
             "#9c179e"
            ],
            [
             0.4444444444444444,
             "#bd3786"
            ],
            [
             0.5555555555555556,
             "#d8576b"
            ],
            [
             0.6666666666666666,
             "#ed7953"
            ],
            [
             0.7777777777777778,
             "#fb9f3a"
            ],
            [
             0.8888888888888888,
             "#fdca26"
            ],
            [
             1,
             "#f0f921"
            ]
           ]
          },
          "colorway": [
           "#636efa",
           "#EF553B",
           "#00cc96",
           "#ab63fa",
           "#FFA15A",
           "#19d3f3",
           "#FF6692",
           "#B6E880",
           "#FF97FF",
           "#FECB52"
          ],
          "font": {
           "color": "#2a3f5f"
          },
          "geo": {
           "bgcolor": "white",
           "lakecolor": "white",
           "landcolor": "white",
           "showlakes": true,
           "showland": true,
           "subunitcolor": "#C8D4E3"
          },
          "hoverlabel": {
           "align": "left"
          },
          "hovermode": "closest",
          "mapbox": {
           "style": "light"
          },
          "paper_bgcolor": "white",
          "plot_bgcolor": "white",
          "polar": {
           "angularaxis": {
            "gridcolor": "#EBF0F8",
            "linecolor": "#EBF0F8",
            "ticks": ""
           },
           "bgcolor": "white",
           "radialaxis": {
            "gridcolor": "#EBF0F8",
            "linecolor": "#EBF0F8",
            "ticks": ""
           }
          },
          "scene": {
           "xaxis": {
            "backgroundcolor": "white",
            "gridcolor": "#DFE8F3",
            "gridwidth": 2,
            "linecolor": "#EBF0F8",
            "showbackground": true,
            "ticks": "",
            "zerolinecolor": "#EBF0F8"
           },
           "yaxis": {
            "backgroundcolor": "white",
            "gridcolor": "#DFE8F3",
            "gridwidth": 2,
            "linecolor": "#EBF0F8",
            "showbackground": true,
            "ticks": "",
            "zerolinecolor": "#EBF0F8"
           },
           "zaxis": {
            "backgroundcolor": "white",
            "gridcolor": "#DFE8F3",
            "gridwidth": 2,
            "linecolor": "#EBF0F8",
            "showbackground": true,
            "ticks": "",
            "zerolinecolor": "#EBF0F8"
           }
          },
          "shapedefaults": {
           "line": {
            "color": "#2a3f5f"
           }
          },
          "ternary": {
           "aaxis": {
            "gridcolor": "#DFE8F3",
            "linecolor": "#A2B1C6",
            "ticks": ""
           },
           "baxis": {
            "gridcolor": "#DFE8F3",
            "linecolor": "#A2B1C6",
            "ticks": ""
           },
           "bgcolor": "white",
           "caxis": {
            "gridcolor": "#DFE8F3",
            "linecolor": "#A2B1C6",
            "ticks": ""
           }
          },
          "title": {
           "x": 0.05
          },
          "xaxis": {
           "automargin": true,
           "gridcolor": "#EBF0F8",
           "linecolor": "#EBF0F8",
           "ticks": "",
           "title": {
            "standoff": 15
           },
           "zerolinecolor": "#EBF0F8",
           "zerolinewidth": 2
          },
          "yaxis": {
           "automargin": true,
           "gridcolor": "#EBF0F8",
           "linecolor": "#EBF0F8",
           "ticks": "",
           "title": {
            "standoff": 15
           },
           "zerolinecolor": "#EBF0F8",
           "zerolinewidth": 2
          }
         }
        },
        "xaxis": {
         "anchor": "y",
         "autorange": true,
         "domain": [
          0,
          1
         ],
         "range": [
          -0.5,
          15.5
         ],
         "title": {
          "text": "index"
         },
         "type": "category"
        },
        "yaxis": {
         "anchor": "x",
         "autorange": true,
         "domain": [
          0,
          1
         ],
         "range": [
          0,
          0.7807017543859649
         ],
         "title": {
          "text": "value"
         },
         "type": "linear"
        }
       }
      },
      "image/png": "[encoded data removed]",
      "text/html": [
       "<div>                            <div id=\"423c442b-f834-49e5-8fd4-13d539e16a2c\" class=\"plotly-graph-div\" style=\"height:400px; width:100%;\"></div>            <script type=\"text/javascript\">                require([\"plotly\"], function(Plotly) {                    window.PLOTLYENV=window.PLOTLYENV || {};                                    if (document.getElementById(\"423c442b-f834-49e5-8fd4-13d539e16a2c\")) {                    Plotly.newPlot(                        \"423c442b-f834-49e5-8fd4-13d539e16a2c\",                        [{\"alignmentgroup\":\"True\",\"hovertemplate\":\"variable=0<br>index=%{x}<br>value=%{y}<extra></extra>\",\"legendgroup\":\"0\",\"marker\":{\"color\":\"#999999\",\"pattern\":{\"shape\":\"\"}},\"name\":\"0\",\"offsetgroup\":\"0\",\"orientation\":\"v\",\"showlegend\":true,\"textposition\":\"auto\",\"x\":[\"Bouteloa gracilis\",\"Neobuxbaumia mezcalaensis\",\"Lippia graveolens\",\"Yucca periculosa\",\"Calliandra eriophylla\",\"Aeschinomene compacta\",\"Echinopterix eglandulosa\",\"Ruelia\",\"Ipomea sp\",\"Lantana achirantifolia\",\"Justicia mexicana\",\"Ruelia hirsutoglandulosa\",\"Cnidosculus tehuacanensis\",\"Opuntia decumbens\",\"Hechtia\",\"Hibiscus\"],\"xaxis\":\"x\",\"y\":[0.7416666666666667,0.5678571428571428,0.3964285714285714,0.2976190476190476,0.29523809523809524,0.26904761904761904,0.2642857142857143,0.2392857142857143,0.2119047619047619,0.19404761904761905,0.17261904761904762,0.15,0.12738095238095237,0.125,0.10952380952380952,0.09047619047619047],\"yaxis\":\"y\",\"type\":\"bar\"}],                        {\"template\":{\"data\":{\"histogram2dcontour\":[{\"type\":\"histogram2dcontour\",\"colorbar\":{\"outlinewidth\":0,\"ticks\":\"\"},\"colorscale\":[[0.0,\"#0d0887\"],[0.1111111111111111,\"#46039f\"],[0.2222222222222222,\"#7201a8\"],[0.3333333333333333,\"#9c179e\"],[0.4444444444444444,\"#bd3786\"],[0.5555555555555556,\"#d8576b\"],[0.6666666666666666,\"#ed7953\"],[0.7777777777777778,\"#fb9f3a\"],[0.8888888888888888,\"#fdca26\"],[1.0,\"#f0f921\"]]}],\"choropleth\":[{\"type\":\"choropleth\",\"colorbar\":{\"outlinewidth\":0,\"ticks\":\"\"}}],\"histogram2d\":[{\"type\":\"histogram2d\",\"colorbar\":{\"outlinewidth\":0,\"ticks\":\"\"},\"colorscale\":[[0.0,\"#0d0887\"],[0.1111111111111111,\"#46039f\"],[0.2222222222222222,\"#7201a8\"],[0.3333333333333333,\"#9c179e\"],[0.4444444444444444,\"#bd3786\"],[0.5555555555555556,\"#d8576b\"],[0.6666666666666666,\"#ed7953\"],[0.7777777777777778,\"#fb9f3a\"],[0.8888888888888888,\"#fdca26\"],[1.0,\"#f0f921\"]]}],\"heatmap\":[{\"type\":\"heatmap\",\"colorbar\":{\"outlinewidth\":0,\"ticks\":\"\"},\"colorscale\":[[0.0,\"#0d0887\"],[0.1111111111111111,\"#46039f\"],[0.2222222222222222,\"#7201a8\"],[0.3333333333333333,\"#9c179e\"],[0.4444444444444444,\"#bd3786\"],[0.5555555555555556,\"#d8576b\"],[0.6666666666666666,\"#ed7953\"],[0.7777777777777778,\"#fb9f3a\"],[0.8888888888888888,\"#fdca26\"],[1.0,\"#f0f921\"]]}],\"heatmapgl\":[{\"type\":\"heatmapgl\",\"colorbar\":{\"outlinewidth\":0,\"ticks\":\"\"},\"colorscale\":[[0.0,\"#0d0887\"],[0.1111111111111111,\"#46039f\"],[0.2222222222222222,\"#7201a8\"],[0.3333333333333333,\"#9c179e\"],[0.4444444444444444,\"#bd3786\"],[0.5555555555555556,\"#d8576b\"],[0.6666666666666666,\"#ed7953\"],[0.7777777777777778,\"#fb9f3a\"],[0.8888888888888888,\"#fdca26\"],[1.0,\"#f0f921\"]]}],\"contourcarpet\":[{\"type\":\"contourcarpet\",\"colorbar\":{\"outlinewidth\":0,\"ticks\":\"\"}}],\"contour\":[{\"type\":\"contour\",\"colorbar\":{\"outlinewidth\":0,\"ticks\":\"\"},\"colorscale\":[[0.0,\"#0d0887\"],[0.1111111111111111,\"#46039f\"],[0.2222222222222222,\"#7201a8\"],[0.3333333333333333,\"#9c179e\"],[0.4444444444444444,\"#bd3786\"],[0.5555555555555556,\"#d8576b\"],[0.6666666666666666,\"#ed7953\"],[0.7777777777777778,\"#fb9f3a\"],[0.8888888888888888,\"#fdca26\"],[1.0,\"#f0f921\"]]}],\"surface\":[{\"type\":\"surface\",\"colorbar\":{\"outlinewidth\":0,\"ticks\":\"\"},\"colorscale\":[[0.0,\"#0d0887\"],[0.1111111111111111,\"#46039f\"],[0.2222222222222222,\"#7201a8\"],[0.3333333333333333,\"#9c179e\"],[0.4444444444444444,\"#bd3786\"],[0.5555555555555556,\"#d8576b\"],[0.6666666666666666,\"#ed7953\"],[0.7777777777777778,\"#fb9f3a\"],[0.8888888888888888,\"#fdca26\"],[1.0,\"#f0f921\"]]}],\"mesh3d\":[{\"type\":\"mesh3d\",\"colorbar\":{\"outlinewidth\":0,\"ticks\":\"\"}}],\"scatter\":[{\"fillpattern\":{\"fillmode\":\"overlay\",\"size\":10,\"solidity\":0.2},\"type\":\"scatter\"}],\"parcoords\":[{\"type\":\"parcoords\",\"line\":{\"colorbar\":{\"outlinewidth\":0,\"ticks\":\"\"}}}],\"scatterpolargl\":[{\"type\":\"scatterpolargl\",\"marker\":{\"colorbar\":{\"outlinewidth\":0,\"ticks\":\"\"}}}],\"bar\":[{\"error_x\":{\"color\":\"#2a3f5f\"},\"error_y\":{\"color\":\"#2a3f5f\"},\"marker\":{\"line\":{\"color\":\"white\",\"width\":0.5},\"pattern\":{\"fillmode\":\"overlay\",\"size\":10,\"solidity\":0.2}},\"type\":\"bar\"}],\"scattergeo\":[{\"type\":\"scattergeo\",\"marker\":{\"colorbar\":{\"outlinewidth\":0,\"ticks\":\"\"}}}],\"scatterpolar\":[{\"type\":\"scatterpolar\",\"marker\":{\"colorbar\":{\"outlinewidth\":0,\"ticks\":\"\"}}}],\"histogram\":[{\"marker\":{\"pattern\":{\"fillmode\":\"overlay\",\"size\":10,\"solidity\":0.2}},\"type\":\"histogram\"}],\"scattergl\":[{\"type\":\"scattergl\",\"marker\":{\"colorbar\":{\"outlinewidth\":0,\"ticks\":\"\"}}}],\"scatter3d\":[{\"type\":\"scatter3d\",\"line\":{\"colorbar\":{\"outlinewidth\":0,\"ticks\":\"\"}},\"marker\":{\"colorbar\":{\"outlinewidth\":0,\"ticks\":\"\"}}}],\"scattermapbox\":[{\"type\":\"scattermapbox\",\"marker\":{\"colorbar\":{\"outlinewidth\":0,\"ticks\":\"\"}}}],\"scatterternary\":[{\"type\":\"scatterternary\",\"marker\":{\"colorbar\":{\"outlinewidth\":0,\"ticks\":\"\"}}}],\"scattercarpet\":[{\"type\":\"scattercarpet\",\"marker\":{\"colorbar\":{\"outlinewidth\":0,\"ticks\":\"\"}}}],\"carpet\":[{\"aaxis\":{\"endlinecolor\":\"#2a3f5f\",\"gridcolor\":\"#C8D4E3\",\"linecolor\":\"#C8D4E3\",\"minorgridcolor\":\"#C8D4E3\",\"startlinecolor\":\"#2a3f5f\"},\"baxis\":{\"endlinecolor\":\"#2a3f5f\",\"gridcolor\":\"#C8D4E3\",\"linecolor\":\"#C8D4E3\",\"minorgridcolor\":\"#C8D4E3\",\"startlinecolor\":\"#2a3f5f\"},\"type\":\"carpet\"}],\"table\":[{\"cells\":{\"fill\":{\"color\":\"#EBF0F8\"},\"line\":{\"color\":\"white\"}},\"header\":{\"fill\":{\"color\":\"#C8D4E3\"},\"line\":{\"color\":\"white\"}},\"type\":\"table\"}],\"barpolar\":[{\"marker\":{\"line\":{\"color\":\"white\",\"width\":0.5},\"pattern\":{\"fillmode\":\"overlay\",\"size\":10,\"solidity\":0.2}},\"type\":\"barpolar\"}],\"pie\":[{\"automargin\":true,\"type\":\"pie\"}]},\"layout\":{\"autotypenumbers\":\"strict\",\"colorway\":[\"#636efa\",\"#EF553B\",\"#00cc96\",\"#ab63fa\",\"#FFA15A\",\"#19d3f3\",\"#FF6692\",\"#B6E880\",\"#FF97FF\",\"#FECB52\"],\"font\":{\"color\":\"#2a3f5f\"},\"hovermode\":\"closest\",\"hoverlabel\":{\"align\":\"left\"},\"paper_bgcolor\":\"white\",\"plot_bgcolor\":\"white\",\"polar\":{\"bgcolor\":\"white\",\"angularaxis\":{\"gridcolor\":\"#EBF0F8\",\"linecolor\":\"#EBF0F8\",\"ticks\":\"\"},\"radialaxis\":{\"gridcolor\":\"#EBF0F8\",\"linecolor\":\"#EBF0F8\",\"ticks\":\"\"}},\"ternary\":{\"bgcolor\":\"white\",\"aaxis\":{\"gridcolor\":\"#DFE8F3\",\"linecolor\":\"#A2B1C6\",\"ticks\":\"\"},\"baxis\":{\"gridcolor\":\"#DFE8F3\",\"linecolor\":\"#A2B1C6\",\"ticks\":\"\"},\"caxis\":{\"gridcolor\":\"#DFE8F3\",\"linecolor\":\"#A2B1C6\",\"ticks\":\"\"}},\"coloraxis\":{\"colorbar\":{\"outlinewidth\":0,\"ticks\":\"\"}},\"colorscale\":{\"sequential\":[[0.0,\"#0d0887\"],[0.1111111111111111,\"#46039f\"],[0.2222222222222222,\"#7201a8\"],[0.3333333333333333,\"#9c179e\"],[0.4444444444444444,\"#bd3786\"],[0.5555555555555556,\"#d8576b\"],[0.6666666666666666,\"#ed7953\"],[0.7777777777777778,\"#fb9f3a\"],[0.8888888888888888,\"#fdca26\"],[1.0,\"#f0f921\"]],\"sequentialminus\":[[0.0,\"#0d0887\"],[0.1111111111111111,\"#46039f\"],[0.2222222222222222,\"#7201a8\"],[0.3333333333333333,\"#9c179e\"],[0.4444444444444444,\"#bd3786\"],[0.5555555555555556,\"#d8576b\"],[0.6666666666666666,\"#ed7953\"],[0.7777777777777778,\"#fb9f3a\"],[0.8888888888888888,\"#fdca26\"],[1.0,\"#f0f921\"]],\"diverging\":[[0,\"#8e0152\"],[0.1,\"#c51b7d\"],[0.2,\"#de77ae\"],[0.3,\"#f1b6da\"],[0.4,\"#fde0ef\"],[0.5,\"#f7f7f7\"],[0.6,\"#e6f5d0\"],[0.7,\"#b8e186\"],[0.8,\"#7fbc41\"],[0.9,\"#4d9221\"],[1,\"#276419\"]]},\"xaxis\":{\"gridcolor\":\"#EBF0F8\",\"linecolor\":\"#EBF0F8\",\"ticks\":\"\",\"title\":{\"standoff\":15},\"zerolinecolor\":\"#EBF0F8\",\"automargin\":true,\"zerolinewidth\":2},\"yaxis\":{\"gridcolor\":\"#EBF0F8\",\"linecolor\":\"#EBF0F8\",\"ticks\":\"\",\"title\":{\"standoff\":15},\"zerolinecolor\":\"#EBF0F8\",\"automargin\":true,\"zerolinewidth\":2},\"scene\":{\"xaxis\":{\"backgroundcolor\":\"white\",\"gridcolor\":\"#DFE8F3\",\"linecolor\":\"#EBF0F8\",\"showbackground\":true,\"ticks\":\"\",\"zerolinecolor\":\"#EBF0F8\",\"gridwidth\":2},\"yaxis\":{\"backgroundcolor\":\"white\",\"gridcolor\":\"#DFE8F3\",\"linecolor\":\"#EBF0F8\",\"showbackground\":true,\"ticks\":\"\",\"zerolinecolor\":\"#EBF0F8\",\"gridwidth\":2},\"zaxis\":{\"backgroundcolor\":\"white\",\"gridcolor\":\"#DFE8F3\",\"linecolor\":\"#EBF0F8\",\"showbackground\":true,\"ticks\":\"\",\"zerolinecolor\":\"#EBF0F8\",\"gridwidth\":2}},\"shapedefaults\":{\"line\":{\"color\":\"#2a3f5f\"}},\"annotationdefaults\":{\"arrowcolor\":\"#2a3f5f\",\"arrowhead\":0,\"arrowwidth\":1},\"geo\":{\"bgcolor\":\"white\",\"landcolor\":\"white\",\"subunitcolor\":\"#C8D4E3\",\"showland\":true,\"showlakes\":true,\"lakecolor\":\"white\"},\"title\":{\"x\":0.05},\"mapbox\":{\"style\":\"light\"}}},\"xaxis\":{\"anchor\":\"y\",\"domain\":[0.0,1.0],\"title\":{\"text\":\"index\"}},\"yaxis\":{\"anchor\":\"x\",\"domain\":[0.0,1.0],\"title\":{\"text\":\"value\"}},\"legend\":{\"title\":{\"text\":\"variable\"},\"tracegroupgap\":0},\"margin\":{\"t\":60},\"barmode\":\"relative\",\"height\":400},                        {\"responsive\": true}                    ).then(function(){\n",
       "                            \n",
       "var gd = document.getElementById('423c442b-f834-49e5-8fd4-13d539e16a2c');\n",
       "var x = new MutationObserver(function (mutations, observer) {{\n",
       "        var display = window.getComputedStyle(gd).display;\n",
       "        if (!display || display === 'none') {{\n",
       "            console.log([gd, 'removed!']);\n",
       "            Plotly.purge(gd);\n",
       "            observer.disconnect();\n",
       "        }}\n",
       "}});\n",
       "\n",
       "// Listen for the removal of the full notebook cells\n",
       "var notebookContainer = gd.closest('#notebook-container');\n",
       "if (notebookContainer) {{\n",
       "    x.observe(notebookContainer, {childList: true});\n",
       "}}\n",
       "\n",
       "// Listen for the clearing of the current output cell\n",
       "var outputEl = gd.closest('.output');\n",
       "if (outputEl) {{\n",
       "    x.observe(outputEl, {childList: true});\n",
       "}}\n",
       "\n",
       "                        })                };                });            </script>        </div>"
      ]
     },
     "metadata": {},
     "output_type": "display_data"
    }
   ],
   "source": [
    "testing_patches.mean().plot.bar()"
   ]
  },
  {
   "cell_type": "code",
   "execution_count": 137,
   "metadata": {
    "tags": []
   },
   "outputs": [
    {
     "data": {
      "text/html": [
       "<div>\n",
       "<style scoped>\n",
       "    .dataframe tbody tr th:only-of-type {\n",
       "        vertical-align: middle;\n",
       "    }\n",
       "\n",
       "    .dataframe tbody tr th {\n",
       "        vertical-align: top;\n",
       "    }\n",
       "\n",
       "    .dataframe thead th {\n",
       "        text-align: right;\n",
       "    }\n",
       "</style>\n",
       "<table border=\"1\" class=\"dataframe\">\n",
       "  <thead>\n",
       "    <tr style=\"text-align: right;\">\n",
       "      <th></th>\n",
       "      <th>Fumana thymifolia</th>\n",
       "      <th>Stipa tenacissima</th>\n",
       "      <th>Helianthemum violaceum</th>\n",
       "      <th>Brachypodium retusum</th>\n",
       "      <th>Fumana ericoides</th>\n",
       "      <th>Rosmarinus officinalis</th>\n",
       "      <th>Helianthemum syriacum</th>\n",
       "      <th>Teucrium capitatum</th>\n",
       "      <th>Atractylis cancellata</th>\n",
       "      <th>Teucrium pseudochamaepitys</th>\n",
       "      <th>Phagnalon rupestre</th>\n",
       "      <th>Teucrium mola</th>\n",
       "      <th>Fumana hispidula</th>\n",
       "      <th>Sedum sediforme</th>\n",
       "      <th>Matthiola fruticulosa</th>\n",
       "      <th>Thymus vulgaris</th>\n",
       "    </tr>\n",
       "  </thead>\n",
       "  <tbody>\n",
       "    <tr>\n",
       "      <th>0</th>\n",
       "      <td>True</td>\n",
       "      <td>False</td>\n",
       "      <td>False</td>\n",
       "      <td>False</td>\n",
       "      <td>False</td>\n",
       "      <td>False</td>\n",
       "      <td>False</td>\n",
       "      <td>False</td>\n",
       "      <td>False</td>\n",
       "      <td>False</td>\n",
       "      <td>False</td>\n",
       "      <td>False</td>\n",
       "      <td>False</td>\n",
       "      <td>True</td>\n",
       "      <td>False</td>\n",
       "      <td>False</td>\n",
       "    </tr>\n",
       "    <tr>\n",
       "      <th>1</th>\n",
       "      <td>False</td>\n",
       "      <td>False</td>\n",
       "      <td>False</td>\n",
       "      <td>True</td>\n",
       "      <td>False</td>\n",
       "      <td>False</td>\n",
       "      <td>True</td>\n",
       "      <td>False</td>\n",
       "      <td>False</td>\n",
       "      <td>False</td>\n",
       "      <td>False</td>\n",
       "      <td>False</td>\n",
       "      <td>False</td>\n",
       "      <td>False</td>\n",
       "      <td>False</td>\n",
       "      <td>False</td>\n",
       "    </tr>\n",
       "    <tr>\n",
       "      <th>2</th>\n",
       "      <td>True</td>\n",
       "      <td>False</td>\n",
       "      <td>False</td>\n",
       "      <td>False</td>\n",
       "      <td>False</td>\n",
       "      <td>False</td>\n",
       "      <td>False</td>\n",
       "      <td>True</td>\n",
       "      <td>False</td>\n",
       "      <td>False</td>\n",
       "      <td>False</td>\n",
       "      <td>False</td>\n",
       "      <td>False</td>\n",
       "      <td>False</td>\n",
       "      <td>False</td>\n",
       "      <td>False</td>\n",
       "    </tr>\n",
       "    <tr>\n",
       "      <th>3</th>\n",
       "      <td>True</td>\n",
       "      <td>True</td>\n",
       "      <td>False</td>\n",
       "      <td>True</td>\n",
       "      <td>False</td>\n",
       "      <td>False</td>\n",
       "      <td>True</td>\n",
       "      <td>True</td>\n",
       "      <td>True</td>\n",
       "      <td>False</td>\n",
       "      <td>False</td>\n",
       "      <td>False</td>\n",
       "      <td>False</td>\n",
       "      <td>False</td>\n",
       "      <td>False</td>\n",
       "      <td>False</td>\n",
       "    </tr>\n",
       "    <tr>\n",
       "      <th>4</th>\n",
       "      <td>True</td>\n",
       "      <td>False</td>\n",
       "      <td>False</td>\n",
       "      <td>True</td>\n",
       "      <td>False</td>\n",
       "      <td>False</td>\n",
       "      <td>True</td>\n",
       "      <td>True</td>\n",
       "      <td>False</td>\n",
       "      <td>False</td>\n",
       "      <td>True</td>\n",
       "      <td>False</td>\n",
       "      <td>False</td>\n",
       "      <td>False</td>\n",
       "      <td>False</td>\n",
       "      <td>False</td>\n",
       "    </tr>\n",
       "    <tr>\n",
       "      <th>...</th>\n",
       "      <td>...</td>\n",
       "      <td>...</td>\n",
       "      <td>...</td>\n",
       "      <td>...</td>\n",
       "      <td>...</td>\n",
       "      <td>...</td>\n",
       "      <td>...</td>\n",
       "      <td>...</td>\n",
       "      <td>...</td>\n",
       "      <td>...</td>\n",
       "      <td>...</td>\n",
       "      <td>...</td>\n",
       "      <td>...</td>\n",
       "      <td>...</td>\n",
       "      <td>...</td>\n",
       "      <td>...</td>\n",
       "    </tr>\n",
       "    <tr>\n",
       "      <th>2125</th>\n",
       "      <td>True</td>\n",
       "      <td>True</td>\n",
       "      <td>True</td>\n",
       "      <td>True</td>\n",
       "      <td>False</td>\n",
       "      <td>False</td>\n",
       "      <td>False</td>\n",
       "      <td>True</td>\n",
       "      <td>False</td>\n",
       "      <td>False</td>\n",
       "      <td>True</td>\n",
       "      <td>False</td>\n",
       "      <td>False</td>\n",
       "      <td>True</td>\n",
       "      <td>True</td>\n",
       "      <td>False</td>\n",
       "    </tr>\n",
       "    <tr>\n",
       "      <th>2126</th>\n",
       "      <td>True</td>\n",
       "      <td>True</td>\n",
       "      <td>False</td>\n",
       "      <td>False</td>\n",
       "      <td>False</td>\n",
       "      <td>False</td>\n",
       "      <td>False</td>\n",
       "      <td>False</td>\n",
       "      <td>False</td>\n",
       "      <td>False</td>\n",
       "      <td>False</td>\n",
       "      <td>False</td>\n",
       "      <td>False</td>\n",
       "      <td>True</td>\n",
       "      <td>False</td>\n",
       "      <td>False</td>\n",
       "    </tr>\n",
       "    <tr>\n",
       "      <th>2127</th>\n",
       "      <td>True</td>\n",
       "      <td>True</td>\n",
       "      <td>False</td>\n",
       "      <td>False</td>\n",
       "      <td>False</td>\n",
       "      <td>False</td>\n",
       "      <td>True</td>\n",
       "      <td>False</td>\n",
       "      <td>False</td>\n",
       "      <td>False</td>\n",
       "      <td>False</td>\n",
       "      <td>False</td>\n",
       "      <td>False</td>\n",
       "      <td>False</td>\n",
       "      <td>False</td>\n",
       "      <td>False</td>\n",
       "    </tr>\n",
       "    <tr>\n",
       "      <th>2128</th>\n",
       "      <td>True</td>\n",
       "      <td>False</td>\n",
       "      <td>False</td>\n",
       "      <td>False</td>\n",
       "      <td>False</td>\n",
       "      <td>False</td>\n",
       "      <td>False</td>\n",
       "      <td>False</td>\n",
       "      <td>False</td>\n",
       "      <td>False</td>\n",
       "      <td>True</td>\n",
       "      <td>False</td>\n",
       "      <td>False</td>\n",
       "      <td>False</td>\n",
       "      <td>False</td>\n",
       "      <td>False</td>\n",
       "    </tr>\n",
       "    <tr>\n",
       "      <th>2129</th>\n",
       "      <td>True</td>\n",
       "      <td>False</td>\n",
       "      <td>False</td>\n",
       "      <td>True</td>\n",
       "      <td>False</td>\n",
       "      <td>False</td>\n",
       "      <td>False</td>\n",
       "      <td>False</td>\n",
       "      <td>False</td>\n",
       "      <td>False</td>\n",
       "      <td>False</td>\n",
       "      <td>False</td>\n",
       "      <td>False</td>\n",
       "      <td>False</td>\n",
       "      <td>False</td>\n",
       "      <td>False</td>\n",
       "    </tr>\n",
       "  </tbody>\n",
       "</table>\n",
       "<p>2130 rows × 16 columns</p>\n",
       "</div>"
      ],
      "text/plain": [
       "      Fumana thymifolia  Stipa tenacissima  Helianthemum violaceum  \\\n",
       "0                  True              False                   False   \n",
       "1                 False              False                   False   \n",
       "2                  True              False                   False   \n",
       "3                  True               True                   False   \n",
       "4                  True              False                   False   \n",
       "...                 ...                ...                     ...   \n",
       "2125               True               True                    True   \n",
       "2126               True               True                   False   \n",
       "2127               True               True                   False   \n",
       "2128               True              False                   False   \n",
       "2129               True              False                   False   \n",
       "\n",
       "      Brachypodium retusum  Fumana ericoides  Rosmarinus officinalis  \\\n",
       "0                    False             False                   False   \n",
       "1                     True             False                   False   \n",
       "2                    False             False                   False   \n",
       "3                     True             False                   False   \n",
       "4                     True             False                   False   \n",
       "...                    ...               ...                     ...   \n",
       "2125                  True             False                   False   \n",
       "2126                 False             False                   False   \n",
       "2127                 False             False                   False   \n",
       "2128                 False             False                   False   \n",
       "2129                  True             False                   False   \n",
       "\n",
       "      Helianthemum syriacum  Teucrium capitatum  Atractylis cancellata  \\\n",
       "0                     False               False                  False   \n",
       "1                      True               False                  False   \n",
       "2                     False                True                  False   \n",
       "3                      True                True                   True   \n",
       "4                      True                True                  False   \n",
       "...                     ...                 ...                    ...   \n",
       "2125                  False                True                  False   \n",
       "2126                  False               False                  False   \n",
       "2127                   True               False                  False   \n",
       "2128                  False               False                  False   \n",
       "2129                  False               False                  False   \n",
       "\n",
       "      Teucrium pseudochamaepitys  Phagnalon rupestre  Teucrium mola  \\\n",
       "0                          False               False          False   \n",
       "1                          False               False          False   \n",
       "2                          False               False          False   \n",
       "3                          False               False          False   \n",
       "4                          False                True          False   \n",
       "...                          ...                 ...            ...   \n",
       "2125                       False                True          False   \n",
       "2126                       False               False          False   \n",
       "2127                       False               False          False   \n",
       "2128                       False                True          False   \n",
       "2129                       False               False          False   \n",
       "\n",
       "      Fumana hispidula  Sedum sediforme  Matthiola fruticulosa  \\\n",
       "0                False             True                  False   \n",
       "1                False            False                  False   \n",
       "2                False            False                  False   \n",
       "3                False            False                  False   \n",
       "4                False            False                  False   \n",
       "...                ...              ...                    ...   \n",
       "2125             False             True                   True   \n",
       "2126             False             True                  False   \n",
       "2127             False            False                  False   \n",
       "2128             False            False                  False   \n",
       "2129             False            False                  False   \n",
       "\n",
       "      Thymus vulgaris  \n",
       "0               False  \n",
       "1               False  \n",
       "2               False  \n",
       "3               False  \n",
       "4               False  \n",
       "...               ...  \n",
       "2125            False  \n",
       "2126            False  \n",
       "2127            False  \n",
       "2128            False  \n",
       "2129            False  \n",
       "\n",
       "[2130 rows x 16 columns]"
      ]
     },
     "execution_count": 137,
     "metadata": {},
     "output_type": "execute_result"
    }
   ],
   "source": [
    "training_patches = get_patches(config, data='training_data').pipe(clean_names)\n",
    "training_patches"
   ]
  },
  {
   "cell_type": "code",
   "execution_count": 138,
   "metadata": {
    "tags": []
   },
   "outputs": [
    {
     "data": {
      "text/html": [
       "<div>\n",
       "<style scoped>\n",
       "    .dataframe tbody tr th:only-of-type {\n",
       "        vertical-align: middle;\n",
       "    }\n",
       "\n",
       "    .dataframe tbody tr th {\n",
       "        vertical-align: top;\n",
       "    }\n",
       "\n",
       "    .dataframe thead th {\n",
       "        text-align: right;\n",
       "    }\n",
       "</style>\n",
       "<table border=\"1\" class=\"dataframe\">\n",
       "  <thead>\n",
       "    <tr style=\"text-align: right;\">\n",
       "      <th></th>\n",
       "      <th>Bouteloa gracilis</th>\n",
       "      <th>Neobuxbaumia mezcalaensis</th>\n",
       "      <th>Lippia graveolens</th>\n",
       "      <th>Yucca periculosa</th>\n",
       "      <th>Calliandra eriophylla</th>\n",
       "      <th>Aeschinomene compacta</th>\n",
       "      <th>Echinopterix eglandulosa</th>\n",
       "      <th>Ruelia</th>\n",
       "      <th>Ipomea sp</th>\n",
       "      <th>Lantana achirantifolia</th>\n",
       "      <th>Justicia mexicana</th>\n",
       "      <th>Ruelia hirsutoglandulosa</th>\n",
       "      <th>Cnidosculus tehuacanensis</th>\n",
       "      <th>Opuntia decumbens</th>\n",
       "      <th>Hechtia</th>\n",
       "      <th>Hibiscus</th>\n",
       "    </tr>\n",
       "  </thead>\n",
       "  <tbody>\n",
       "    <tr>\n",
       "      <th>0</th>\n",
       "      <td>True</td>\n",
       "      <td>True</td>\n",
       "      <td>True</td>\n",
       "      <td>False</td>\n",
       "      <td>True</td>\n",
       "      <td>False</td>\n",
       "      <td>False</td>\n",
       "      <td>False</td>\n",
       "      <td>False</td>\n",
       "      <td>False</td>\n",
       "      <td>False</td>\n",
       "      <td>False</td>\n",
       "      <td>False</td>\n",
       "      <td>False</td>\n",
       "      <td>False</td>\n",
       "      <td>False</td>\n",
       "    </tr>\n",
       "    <tr>\n",
       "      <th>1</th>\n",
       "      <td>True</td>\n",
       "      <td>True</td>\n",
       "      <td>False</td>\n",
       "      <td>False</td>\n",
       "      <td>False</td>\n",
       "      <td>False</td>\n",
       "      <td>False</td>\n",
       "      <td>False</td>\n",
       "      <td>False</td>\n",
       "      <td>False</td>\n",
       "      <td>False</td>\n",
       "      <td>False</td>\n",
       "      <td>False</td>\n",
       "      <td>False</td>\n",
       "      <td>True</td>\n",
       "      <td>False</td>\n",
       "    </tr>\n",
       "    <tr>\n",
       "      <th>2</th>\n",
       "      <td>True</td>\n",
       "      <td>True</td>\n",
       "      <td>True</td>\n",
       "      <td>False</td>\n",
       "      <td>False</td>\n",
       "      <td>False</td>\n",
       "      <td>False</td>\n",
       "      <td>False</td>\n",
       "      <td>False</td>\n",
       "      <td>False</td>\n",
       "      <td>False</td>\n",
       "      <td>False</td>\n",
       "      <td>True</td>\n",
       "      <td>False</td>\n",
       "      <td>False</td>\n",
       "      <td>True</td>\n",
       "    </tr>\n",
       "    <tr>\n",
       "      <th>4</th>\n",
       "      <td>True</td>\n",
       "      <td>False</td>\n",
       "      <td>False</td>\n",
       "      <td>False</td>\n",
       "      <td>False</td>\n",
       "      <td>True</td>\n",
       "      <td>False</td>\n",
       "      <td>False</td>\n",
       "      <td>False</td>\n",
       "      <td>False</td>\n",
       "      <td>False</td>\n",
       "      <td>False</td>\n",
       "      <td>False</td>\n",
       "      <td>False</td>\n",
       "      <td>False</td>\n",
       "      <td>False</td>\n",
       "    </tr>\n",
       "    <tr>\n",
       "      <th>5</th>\n",
       "      <td>True</td>\n",
       "      <td>False</td>\n",
       "      <td>False</td>\n",
       "      <td>False</td>\n",
       "      <td>False</td>\n",
       "      <td>True</td>\n",
       "      <td>False</td>\n",
       "      <td>False</td>\n",
       "      <td>False</td>\n",
       "      <td>False</td>\n",
       "      <td>False</td>\n",
       "      <td>False</td>\n",
       "      <td>False</td>\n",
       "      <td>False</td>\n",
       "      <td>False</td>\n",
       "      <td>False</td>\n",
       "    </tr>\n",
       "    <tr>\n",
       "      <th>...</th>\n",
       "      <td>...</td>\n",
       "      <td>...</td>\n",
       "      <td>...</td>\n",
       "      <td>...</td>\n",
       "      <td>...</td>\n",
       "      <td>...</td>\n",
       "      <td>...</td>\n",
       "      <td>...</td>\n",
       "      <td>...</td>\n",
       "      <td>...</td>\n",
       "      <td>...</td>\n",
       "      <td>...</td>\n",
       "      <td>...</td>\n",
       "      <td>...</td>\n",
       "      <td>...</td>\n",
       "      <td>...</td>\n",
       "    </tr>\n",
       "    <tr>\n",
       "      <th>887</th>\n",
       "      <td>True</td>\n",
       "      <td>False</td>\n",
       "      <td>True</td>\n",
       "      <td>False</td>\n",
       "      <td>False</td>\n",
       "      <td>False</td>\n",
       "      <td>True</td>\n",
       "      <td>True</td>\n",
       "      <td>False</td>\n",
       "      <td>False</td>\n",
       "      <td>False</td>\n",
       "      <td>False</td>\n",
       "      <td>True</td>\n",
       "      <td>False</td>\n",
       "      <td>False</td>\n",
       "      <td>False</td>\n",
       "    </tr>\n",
       "    <tr>\n",
       "      <th>888</th>\n",
       "      <td>True</td>\n",
       "      <td>True</td>\n",
       "      <td>False</td>\n",
       "      <td>True</td>\n",
       "      <td>False</td>\n",
       "      <td>True</td>\n",
       "      <td>False</td>\n",
       "      <td>True</td>\n",
       "      <td>False</td>\n",
       "      <td>True</td>\n",
       "      <td>False</td>\n",
       "      <td>False</td>\n",
       "      <td>False</td>\n",
       "      <td>False</td>\n",
       "      <td>True</td>\n",
       "      <td>False</td>\n",
       "    </tr>\n",
       "    <tr>\n",
       "      <th>889</th>\n",
       "      <td>True</td>\n",
       "      <td>True</td>\n",
       "      <td>False</td>\n",
       "      <td>False</td>\n",
       "      <td>False</td>\n",
       "      <td>True</td>\n",
       "      <td>False</td>\n",
       "      <td>False</td>\n",
       "      <td>False</td>\n",
       "      <td>False</td>\n",
       "      <td>True</td>\n",
       "      <td>False</td>\n",
       "      <td>False</td>\n",
       "      <td>True</td>\n",
       "      <td>False</td>\n",
       "      <td>False</td>\n",
       "    </tr>\n",
       "    <tr>\n",
       "      <th>890</th>\n",
       "      <td>True</td>\n",
       "      <td>True</td>\n",
       "      <td>False</td>\n",
       "      <td>False</td>\n",
       "      <td>True</td>\n",
       "      <td>False</td>\n",
       "      <td>False</td>\n",
       "      <td>True</td>\n",
       "      <td>False</td>\n",
       "      <td>False</td>\n",
       "      <td>False</td>\n",
       "      <td>False</td>\n",
       "      <td>True</td>\n",
       "      <td>False</td>\n",
       "      <td>False</td>\n",
       "      <td>False</td>\n",
       "    </tr>\n",
       "    <tr>\n",
       "      <th>891</th>\n",
       "      <td>False</td>\n",
       "      <td>True</td>\n",
       "      <td>False</td>\n",
       "      <td>True</td>\n",
       "      <td>False</td>\n",
       "      <td>False</td>\n",
       "      <td>True</td>\n",
       "      <td>False</td>\n",
       "      <td>False</td>\n",
       "      <td>True</td>\n",
       "      <td>True</td>\n",
       "      <td>False</td>\n",
       "      <td>False</td>\n",
       "      <td>False</td>\n",
       "      <td>False</td>\n",
       "      <td>False</td>\n",
       "    </tr>\n",
       "  </tbody>\n",
       "</table>\n",
       "<p>840 rows × 16 columns</p>\n",
       "</div>"
      ],
      "text/plain": [
       "     Bouteloa gracilis  Neobuxbaumia mezcalaensis  Lippia graveolens  \\\n",
       "0                 True                       True               True   \n",
       "1                 True                       True              False   \n",
       "2                 True                       True               True   \n",
       "4                 True                      False              False   \n",
       "5                 True                      False              False   \n",
       "..                 ...                        ...                ...   \n",
       "887               True                      False               True   \n",
       "888               True                       True              False   \n",
       "889               True                       True              False   \n",
       "890               True                       True              False   \n",
       "891              False                       True              False   \n",
       "\n",
       "     Yucca periculosa  Calliandra eriophylla  Aeschinomene compacta  \\\n",
       "0               False                   True                  False   \n",
       "1               False                  False                  False   \n",
       "2               False                  False                  False   \n",
       "4               False                  False                   True   \n",
       "5               False                  False                   True   \n",
       "..                ...                    ...                    ...   \n",
       "887             False                  False                  False   \n",
       "888              True                  False                   True   \n",
       "889             False                  False                   True   \n",
       "890             False                   True                  False   \n",
       "891              True                  False                  False   \n",
       "\n",
       "     Echinopterix eglandulosa  Ruelia  Ipomea sp  Lantana achirantifolia  \\\n",
       "0                       False   False      False                   False   \n",
       "1                       False   False      False                   False   \n",
       "2                       False   False      False                   False   \n",
       "4                       False   False      False                   False   \n",
       "5                       False   False      False                   False   \n",
       "..                        ...     ...        ...                     ...   \n",
       "887                      True    True      False                   False   \n",
       "888                     False    True      False                    True   \n",
       "889                     False   False      False                   False   \n",
       "890                     False    True      False                   False   \n",
       "891                      True   False      False                    True   \n",
       "\n",
       "     Justicia mexicana  Ruelia hirsutoglandulosa  Cnidosculus tehuacanensis  \\\n",
       "0                False                     False                      False   \n",
       "1                False                     False                      False   \n",
       "2                False                     False                       True   \n",
       "4                False                     False                      False   \n",
       "5                False                     False                      False   \n",
       "..                 ...                       ...                        ...   \n",
       "887              False                     False                       True   \n",
       "888              False                     False                      False   \n",
       "889               True                     False                      False   \n",
       "890              False                     False                       True   \n",
       "891               True                     False                      False   \n",
       "\n",
       "     Opuntia decumbens  Hechtia  Hibiscus  \n",
       "0                False    False     False  \n",
       "1                False     True     False  \n",
       "2                False    False      True  \n",
       "4                False    False     False  \n",
       "5                False    False     False  \n",
       "..                 ...      ...       ...  \n",
       "887              False    False     False  \n",
       "888              False     True     False  \n",
       "889               True    False     False  \n",
       "890              False    False     False  \n",
       "891              False    False     False  \n",
       "\n",
       "[840 rows x 16 columns]"
      ]
     },
     "execution_count": 138,
     "metadata": {},
     "output_type": "execute_result"
    }
   ],
   "source": [
    "testing_patches\n"
   ]
  },
  {
   "cell_type": "code",
   "execution_count": 139,
   "metadata": {
    "tags": []
   },
   "outputs": [
    {
     "data": {
      "text/plain": [
       "{'data': PosixPath('/Users/johannes/work/resecarin/data/transfer'),\n",
       " 'outputs': PosixPath('/Users/johannes/work/resecarin/outputs/transfer'),\n",
       " 'figures': PosixPath('/Users/johannes/work/resecarin/figures/transfer'),\n",
       " 'models': PosixPath('/Users/johannes/work/resecarin/models/transfer')}"
      ]
     },
     "execution_count": 139,
     "metadata": {},
     "output_type": "execute_result"
    }
   ],
   "source": [
    "paths"
   ]
  },
  {
   "cell_type": "code",
   "execution_count": 140,
   "metadata": {
    "tags": []
   },
   "outputs": [],
   "source": [
    "for chunk_size in range(0,17):\n",
    "    dictionary = build_dictionary(config, phylo, species_origin, species_target, chunk_size = chunk_size)\n",
    "    paths = set_paths('phylo_' + config['testing_data'] + '_chunk_size='+str(chunk_size))\n",
    "    out_csv = testing_patches[list(dictionary.values())].to_csv(paths['outputs'] / (config['testing_data'] + '_matched_to_' + config['training_data'] +'_chunk_size=' +str(chunk_size )+ '.csv'), index=False)\n",
    "    # pd.read_csv(out_csv)"
   ]
  },
  {
   "cell_type": "code",
   "execution_count": 123,
   "metadata": {
    "tags": []
   },
   "outputs": [
    {
     "ename": "NameError",
     "evalue": "name 'launion_by_phylo' is not defined",
     "output_type": "error",
     "traceback": [
      "\u001b[0;31m---------------------------------------------------------------------------\u001b[0m",
      "\u001b[0;31mNameError\u001b[0m                                 Traceback (most recent call last)",
      "Cell \u001b[0;32mIn[123], line 1\u001b[0m\n\u001b[0;32m----> 1\u001b[0m out_csv \u001b[38;5;241m=\u001b[39m \u001b[43mlaunion_by_phylo\u001b[49m\u001b[38;5;241m.\u001b[39mpipe(export_patches, paths, \u001b[38;5;124m'\u001b[39m\u001b[38;5;124mphylo_\u001b[39m\u001b[38;5;124m'\u001b[39m \u001b[38;5;241m+\u001b[39m data_loc_2 \u001b[38;5;241m+\u001b[39m data_tag_2 \u001b[38;5;241m+\u001b[39m \u001b[38;5;124m'\u001b[39m\u001b[38;5;124m_matched_to_\u001b[39m\u001b[38;5;124m'\u001b[39m \u001b[38;5;241m+\u001b[39m data_loc_1 \u001b[38;5;241m+\u001b[39m data_tag_1 \u001b[38;5;241m+\u001b[39m \u001b[38;5;124m'\u001b[39m\u001b[38;5;124m.csv\u001b[39m\u001b[38;5;124m'\u001b[39m)\n",
      "\u001b[0;31mNameError\u001b[0m: name 'launion_by_phylo' is not defined"
     ]
    }
   ],
   "source": [
    "# out_csv = launion_by_phylo.pipe(export_patches, paths, 'phylo_' + data_loc_2 + data_tag_2 + '_matched_to_' + data_loc_1 + data_tag_1 + '.csv')\n"
   ]
  },
  {
   "cell_type": "code",
   "execution_count": 124,
   "metadata": {
    "tags": []
   },
   "outputs": [
    {
     "ename": "ValueError",
     "evalue": "Invalid file path or buffer object type: <class 'NoneType'>",
     "output_type": "error",
     "traceback": [
      "\u001b[0;31m---------------------------------------------------------------------------\u001b[0m",
      "\u001b[0;31mValueError\u001b[0m                                Traceback (most recent call last)",
      "Cell \u001b[0;32mIn[124], line 1\u001b[0m\n\u001b[0;32m----> 1\u001b[0m \u001b[43mpd\u001b[49m\u001b[38;5;241;43m.\u001b[39;49m\u001b[43mread_csv\u001b[49m\u001b[43m(\u001b[49m\u001b[43mout_csv\u001b[49m\u001b[43m)\u001b[49m\n",
      "File \u001b[0;32m~/opt/anaconda3/envs/eco_transfer/lib/python3.8/site-packages/pandas/util/_decorators.py:211\u001b[0m, in \u001b[0;36mdeprecate_kwarg.<locals>._deprecate_kwarg.<locals>.wrapper\u001b[0;34m(*args, **kwargs)\u001b[0m\n\u001b[1;32m    209\u001b[0m     \u001b[38;5;28;01melse\u001b[39;00m:\n\u001b[1;32m    210\u001b[0m         kwargs[new_arg_name] \u001b[38;5;241m=\u001b[39m new_arg_value\n\u001b[0;32m--> 211\u001b[0m \u001b[38;5;28;01mreturn\u001b[39;00m \u001b[43mfunc\u001b[49m\u001b[43m(\u001b[49m\u001b[38;5;241;43m*\u001b[39;49m\u001b[43margs\u001b[49m\u001b[43m,\u001b[49m\u001b[43m \u001b[49m\u001b[38;5;241;43m*\u001b[39;49m\u001b[38;5;241;43m*\u001b[39;49m\u001b[43mkwargs\u001b[49m\u001b[43m)\u001b[49m\n",
      "File \u001b[0;32m~/opt/anaconda3/envs/eco_transfer/lib/python3.8/site-packages/pandas/util/_decorators.py:331\u001b[0m, in \u001b[0;36mdeprecate_nonkeyword_arguments.<locals>.decorate.<locals>.wrapper\u001b[0;34m(*args, **kwargs)\u001b[0m\n\u001b[1;32m    325\u001b[0m \u001b[38;5;28;01mif\u001b[39;00m \u001b[38;5;28mlen\u001b[39m(args) \u001b[38;5;241m>\u001b[39m num_allow_args:\n\u001b[1;32m    326\u001b[0m     warnings\u001b[38;5;241m.\u001b[39mwarn(\n\u001b[1;32m    327\u001b[0m         msg\u001b[38;5;241m.\u001b[39mformat(arguments\u001b[38;5;241m=\u001b[39m_format_argument_list(allow_args)),\n\u001b[1;32m    328\u001b[0m         \u001b[38;5;167;01mFutureWarning\u001b[39;00m,\n\u001b[1;32m    329\u001b[0m         stacklevel\u001b[38;5;241m=\u001b[39mfind_stack_level(),\n\u001b[1;32m    330\u001b[0m     )\n\u001b[0;32m--> 331\u001b[0m \u001b[38;5;28;01mreturn\u001b[39;00m \u001b[43mfunc\u001b[49m\u001b[43m(\u001b[49m\u001b[38;5;241;43m*\u001b[39;49m\u001b[43margs\u001b[49m\u001b[43m,\u001b[49m\u001b[43m \u001b[49m\u001b[38;5;241;43m*\u001b[39;49m\u001b[38;5;241;43m*\u001b[39;49m\u001b[43mkwargs\u001b[49m\u001b[43m)\u001b[49m\n",
      "File \u001b[0;32m~/opt/anaconda3/envs/eco_transfer/lib/python3.8/site-packages/pandas/io/parsers/readers.py:950\u001b[0m, in \u001b[0;36mread_csv\u001b[0;34m(filepath_or_buffer, sep, delimiter, header, names, index_col, usecols, squeeze, prefix, mangle_dupe_cols, dtype, engine, converters, true_values, false_values, skipinitialspace, skiprows, skipfooter, nrows, na_values, keep_default_na, na_filter, verbose, skip_blank_lines, parse_dates, infer_datetime_format, keep_date_col, date_parser, dayfirst, cache_dates, iterator, chunksize, compression, thousands, decimal, lineterminator, quotechar, quoting, doublequote, escapechar, comment, encoding, encoding_errors, dialect, error_bad_lines, warn_bad_lines, on_bad_lines, delim_whitespace, low_memory, memory_map, float_precision, storage_options)\u001b[0m\n\u001b[1;32m    935\u001b[0m kwds_defaults \u001b[38;5;241m=\u001b[39m _refine_defaults_read(\n\u001b[1;32m    936\u001b[0m     dialect,\n\u001b[1;32m    937\u001b[0m     delimiter,\n\u001b[0;32m   (...)\u001b[0m\n\u001b[1;32m    946\u001b[0m     defaults\u001b[38;5;241m=\u001b[39m{\u001b[38;5;124m\"\u001b[39m\u001b[38;5;124mdelimiter\u001b[39m\u001b[38;5;124m\"\u001b[39m: \u001b[38;5;124m\"\u001b[39m\u001b[38;5;124m,\u001b[39m\u001b[38;5;124m\"\u001b[39m},\n\u001b[1;32m    947\u001b[0m )\n\u001b[1;32m    948\u001b[0m kwds\u001b[38;5;241m.\u001b[39mupdate(kwds_defaults)\n\u001b[0;32m--> 950\u001b[0m \u001b[38;5;28;01mreturn\u001b[39;00m \u001b[43m_read\u001b[49m\u001b[43m(\u001b[49m\u001b[43mfilepath_or_buffer\u001b[49m\u001b[43m,\u001b[49m\u001b[43m \u001b[49m\u001b[43mkwds\u001b[49m\u001b[43m)\u001b[49m\n",
      "File \u001b[0;32m~/opt/anaconda3/envs/eco_transfer/lib/python3.8/site-packages/pandas/io/parsers/readers.py:605\u001b[0m, in \u001b[0;36m_read\u001b[0;34m(filepath_or_buffer, kwds)\u001b[0m\n\u001b[1;32m    602\u001b[0m _validate_names(kwds\u001b[38;5;241m.\u001b[39mget(\u001b[38;5;124m\"\u001b[39m\u001b[38;5;124mnames\u001b[39m\u001b[38;5;124m\"\u001b[39m, \u001b[38;5;28;01mNone\u001b[39;00m))\n\u001b[1;32m    604\u001b[0m \u001b[38;5;66;03m# Create the parser.\u001b[39;00m\n\u001b[0;32m--> 605\u001b[0m parser \u001b[38;5;241m=\u001b[39m \u001b[43mTextFileReader\u001b[49m\u001b[43m(\u001b[49m\u001b[43mfilepath_or_buffer\u001b[49m\u001b[43m,\u001b[49m\u001b[43m \u001b[49m\u001b[38;5;241;43m*\u001b[39;49m\u001b[38;5;241;43m*\u001b[39;49m\u001b[43mkwds\u001b[49m\u001b[43m)\u001b[49m\n\u001b[1;32m    607\u001b[0m \u001b[38;5;28;01mif\u001b[39;00m chunksize \u001b[38;5;129;01mor\u001b[39;00m iterator:\n\u001b[1;32m    608\u001b[0m     \u001b[38;5;28;01mreturn\u001b[39;00m parser\n",
      "File \u001b[0;32m~/opt/anaconda3/envs/eco_transfer/lib/python3.8/site-packages/pandas/io/parsers/readers.py:1442\u001b[0m, in \u001b[0;36mTextFileReader.__init__\u001b[0;34m(self, f, engine, **kwds)\u001b[0m\n\u001b[1;32m   1439\u001b[0m     \u001b[38;5;28mself\u001b[39m\u001b[38;5;241m.\u001b[39moptions[\u001b[38;5;124m\"\u001b[39m\u001b[38;5;124mhas_index_names\u001b[39m\u001b[38;5;124m\"\u001b[39m] \u001b[38;5;241m=\u001b[39m kwds[\u001b[38;5;124m\"\u001b[39m\u001b[38;5;124mhas_index_names\u001b[39m\u001b[38;5;124m\"\u001b[39m]\n\u001b[1;32m   1441\u001b[0m \u001b[38;5;28mself\u001b[39m\u001b[38;5;241m.\u001b[39mhandles: IOHandles \u001b[38;5;241m|\u001b[39m \u001b[38;5;28;01mNone\u001b[39;00m \u001b[38;5;241m=\u001b[39m \u001b[38;5;28;01mNone\u001b[39;00m\n\u001b[0;32m-> 1442\u001b[0m \u001b[38;5;28mself\u001b[39m\u001b[38;5;241m.\u001b[39m_engine \u001b[38;5;241m=\u001b[39m \u001b[38;5;28;43mself\u001b[39;49m\u001b[38;5;241;43m.\u001b[39;49m\u001b[43m_make_engine\u001b[49m\u001b[43m(\u001b[49m\u001b[43mf\u001b[49m\u001b[43m,\u001b[49m\u001b[43m \u001b[49m\u001b[38;5;28;43mself\u001b[39;49m\u001b[38;5;241;43m.\u001b[39;49m\u001b[43mengine\u001b[49m\u001b[43m)\u001b[49m\n",
      "File \u001b[0;32m~/opt/anaconda3/envs/eco_transfer/lib/python3.8/site-packages/pandas/io/parsers/readers.py:1735\u001b[0m, in \u001b[0;36mTextFileReader._make_engine\u001b[0;34m(self, f, engine)\u001b[0m\n\u001b[1;32m   1733\u001b[0m     \u001b[38;5;28;01mif\u001b[39;00m \u001b[38;5;124m\"\u001b[39m\u001b[38;5;124mb\u001b[39m\u001b[38;5;124m\"\u001b[39m \u001b[38;5;129;01mnot\u001b[39;00m \u001b[38;5;129;01min\u001b[39;00m mode:\n\u001b[1;32m   1734\u001b[0m         mode \u001b[38;5;241m+\u001b[39m\u001b[38;5;241m=\u001b[39m \u001b[38;5;124m\"\u001b[39m\u001b[38;5;124mb\u001b[39m\u001b[38;5;124m\"\u001b[39m\n\u001b[0;32m-> 1735\u001b[0m \u001b[38;5;28mself\u001b[39m\u001b[38;5;241m.\u001b[39mhandles \u001b[38;5;241m=\u001b[39m \u001b[43mget_handle\u001b[49m\u001b[43m(\u001b[49m\n\u001b[1;32m   1736\u001b[0m \u001b[43m    \u001b[49m\u001b[43mf\u001b[49m\u001b[43m,\u001b[49m\n\u001b[1;32m   1737\u001b[0m \u001b[43m    \u001b[49m\u001b[43mmode\u001b[49m\u001b[43m,\u001b[49m\n\u001b[1;32m   1738\u001b[0m \u001b[43m    \u001b[49m\u001b[43mencoding\u001b[49m\u001b[38;5;241;43m=\u001b[39;49m\u001b[38;5;28;43mself\u001b[39;49m\u001b[38;5;241;43m.\u001b[39;49m\u001b[43moptions\u001b[49m\u001b[38;5;241;43m.\u001b[39;49m\u001b[43mget\u001b[49m\u001b[43m(\u001b[49m\u001b[38;5;124;43m\"\u001b[39;49m\u001b[38;5;124;43mencoding\u001b[39;49m\u001b[38;5;124;43m\"\u001b[39;49m\u001b[43m,\u001b[49m\u001b[43m \u001b[49m\u001b[38;5;28;43;01mNone\u001b[39;49;00m\u001b[43m)\u001b[49m\u001b[43m,\u001b[49m\n\u001b[1;32m   1739\u001b[0m \u001b[43m    \u001b[49m\u001b[43mcompression\u001b[49m\u001b[38;5;241;43m=\u001b[39;49m\u001b[38;5;28;43mself\u001b[39;49m\u001b[38;5;241;43m.\u001b[39;49m\u001b[43moptions\u001b[49m\u001b[38;5;241;43m.\u001b[39;49m\u001b[43mget\u001b[49m\u001b[43m(\u001b[49m\u001b[38;5;124;43m\"\u001b[39;49m\u001b[38;5;124;43mcompression\u001b[39;49m\u001b[38;5;124;43m\"\u001b[39;49m\u001b[43m,\u001b[49m\u001b[43m \u001b[49m\u001b[38;5;28;43;01mNone\u001b[39;49;00m\u001b[43m)\u001b[49m\u001b[43m,\u001b[49m\n\u001b[1;32m   1740\u001b[0m \u001b[43m    \u001b[49m\u001b[43mmemory_map\u001b[49m\u001b[38;5;241;43m=\u001b[39;49m\u001b[38;5;28;43mself\u001b[39;49m\u001b[38;5;241;43m.\u001b[39;49m\u001b[43moptions\u001b[49m\u001b[38;5;241;43m.\u001b[39;49m\u001b[43mget\u001b[49m\u001b[43m(\u001b[49m\u001b[38;5;124;43m\"\u001b[39;49m\u001b[38;5;124;43mmemory_map\u001b[39;49m\u001b[38;5;124;43m\"\u001b[39;49m\u001b[43m,\u001b[49m\u001b[43m \u001b[49m\u001b[38;5;28;43;01mFalse\u001b[39;49;00m\u001b[43m)\u001b[49m\u001b[43m,\u001b[49m\n\u001b[1;32m   1741\u001b[0m \u001b[43m    \u001b[49m\u001b[43mis_text\u001b[49m\u001b[38;5;241;43m=\u001b[39;49m\u001b[43mis_text\u001b[49m\u001b[43m,\u001b[49m\n\u001b[1;32m   1742\u001b[0m \u001b[43m    \u001b[49m\u001b[43merrors\u001b[49m\u001b[38;5;241;43m=\u001b[39;49m\u001b[38;5;28;43mself\u001b[39;49m\u001b[38;5;241;43m.\u001b[39;49m\u001b[43moptions\u001b[49m\u001b[38;5;241;43m.\u001b[39;49m\u001b[43mget\u001b[49m\u001b[43m(\u001b[49m\u001b[38;5;124;43m\"\u001b[39;49m\u001b[38;5;124;43mencoding_errors\u001b[39;49m\u001b[38;5;124;43m\"\u001b[39;49m\u001b[43m,\u001b[49m\u001b[43m \u001b[49m\u001b[38;5;124;43m\"\u001b[39;49m\u001b[38;5;124;43mstrict\u001b[39;49m\u001b[38;5;124;43m\"\u001b[39;49m\u001b[43m)\u001b[49m\u001b[43m,\u001b[49m\n\u001b[1;32m   1743\u001b[0m \u001b[43m    \u001b[49m\u001b[43mstorage_options\u001b[49m\u001b[38;5;241;43m=\u001b[39;49m\u001b[38;5;28;43mself\u001b[39;49m\u001b[38;5;241;43m.\u001b[39;49m\u001b[43moptions\u001b[49m\u001b[38;5;241;43m.\u001b[39;49m\u001b[43mget\u001b[49m\u001b[43m(\u001b[49m\u001b[38;5;124;43m\"\u001b[39;49m\u001b[38;5;124;43mstorage_options\u001b[39;49m\u001b[38;5;124;43m\"\u001b[39;49m\u001b[43m,\u001b[49m\u001b[43m \u001b[49m\u001b[38;5;28;43;01mNone\u001b[39;49;00m\u001b[43m)\u001b[49m\u001b[43m,\u001b[49m\n\u001b[1;32m   1744\u001b[0m \u001b[43m\u001b[49m\u001b[43m)\u001b[49m\n\u001b[1;32m   1745\u001b[0m \u001b[38;5;28;01massert\u001b[39;00m \u001b[38;5;28mself\u001b[39m\u001b[38;5;241m.\u001b[39mhandles \u001b[38;5;129;01mis\u001b[39;00m \u001b[38;5;129;01mnot\u001b[39;00m \u001b[38;5;28;01mNone\u001b[39;00m\n\u001b[1;32m   1746\u001b[0m f \u001b[38;5;241m=\u001b[39m \u001b[38;5;28mself\u001b[39m\u001b[38;5;241m.\u001b[39mhandles\u001b[38;5;241m.\u001b[39mhandle\n",
      "File \u001b[0;32m~/opt/anaconda3/envs/eco_transfer/lib/python3.8/site-packages/pandas/io/common.py:713\u001b[0m, in \u001b[0;36mget_handle\u001b[0;34m(path_or_buf, mode, encoding, compression, memory_map, is_text, errors, storage_options)\u001b[0m\n\u001b[1;32m    710\u001b[0m     codecs\u001b[38;5;241m.\u001b[39mlookup_error(errors)\n\u001b[1;32m    712\u001b[0m \u001b[38;5;66;03m# open URLs\u001b[39;00m\n\u001b[0;32m--> 713\u001b[0m ioargs \u001b[38;5;241m=\u001b[39m \u001b[43m_get_filepath_or_buffer\u001b[49m\u001b[43m(\u001b[49m\n\u001b[1;32m    714\u001b[0m \u001b[43m    \u001b[49m\u001b[43mpath_or_buf\u001b[49m\u001b[43m,\u001b[49m\n\u001b[1;32m    715\u001b[0m \u001b[43m    \u001b[49m\u001b[43mencoding\u001b[49m\u001b[38;5;241;43m=\u001b[39;49m\u001b[43mencoding\u001b[49m\u001b[43m,\u001b[49m\n\u001b[1;32m    716\u001b[0m \u001b[43m    \u001b[49m\u001b[43mcompression\u001b[49m\u001b[38;5;241;43m=\u001b[39;49m\u001b[43mcompression\u001b[49m\u001b[43m,\u001b[49m\n\u001b[1;32m    717\u001b[0m \u001b[43m    \u001b[49m\u001b[43mmode\u001b[49m\u001b[38;5;241;43m=\u001b[39;49m\u001b[43mmode\u001b[49m\u001b[43m,\u001b[49m\n\u001b[1;32m    718\u001b[0m \u001b[43m    \u001b[49m\u001b[43mstorage_options\u001b[49m\u001b[38;5;241;43m=\u001b[39;49m\u001b[43mstorage_options\u001b[49m\u001b[43m,\u001b[49m\n\u001b[1;32m    719\u001b[0m \u001b[43m\u001b[49m\u001b[43m)\u001b[49m\n\u001b[1;32m    721\u001b[0m handle \u001b[38;5;241m=\u001b[39m ioargs\u001b[38;5;241m.\u001b[39mfilepath_or_buffer\n\u001b[1;32m    722\u001b[0m handles: \u001b[38;5;28mlist\u001b[39m[BaseBuffer]\n",
      "File \u001b[0;32m~/opt/anaconda3/envs/eco_transfer/lib/python3.8/site-packages/pandas/io/common.py:451\u001b[0m, in \u001b[0;36m_get_filepath_or_buffer\u001b[0;34m(filepath_or_buffer, encoding, compression, mode, storage_options)\u001b[0m\n\u001b[1;32m    447\u001b[0m \u001b[38;5;28;01mif\u001b[39;00m \u001b[38;5;129;01mnot\u001b[39;00m (\n\u001b[1;32m    448\u001b[0m     \u001b[38;5;28mhasattr\u001b[39m(filepath_or_buffer, \u001b[38;5;124m\"\u001b[39m\u001b[38;5;124mread\u001b[39m\u001b[38;5;124m\"\u001b[39m) \u001b[38;5;129;01mor\u001b[39;00m \u001b[38;5;28mhasattr\u001b[39m(filepath_or_buffer, \u001b[38;5;124m\"\u001b[39m\u001b[38;5;124mwrite\u001b[39m\u001b[38;5;124m\"\u001b[39m)\n\u001b[1;32m    449\u001b[0m ):\n\u001b[1;32m    450\u001b[0m     msg \u001b[38;5;241m=\u001b[39m \u001b[38;5;124mf\u001b[39m\u001b[38;5;124m\"\u001b[39m\u001b[38;5;124mInvalid file path or buffer object type: \u001b[39m\u001b[38;5;132;01m{\u001b[39;00m\u001b[38;5;28mtype\u001b[39m(filepath_or_buffer)\u001b[38;5;132;01m}\u001b[39;00m\u001b[38;5;124m\"\u001b[39m\n\u001b[0;32m--> 451\u001b[0m     \u001b[38;5;28;01mraise\u001b[39;00m \u001b[38;5;167;01mValueError\u001b[39;00m(msg)\n\u001b[1;32m    453\u001b[0m \u001b[38;5;28;01mreturn\u001b[39;00m IOArgs(\n\u001b[1;32m    454\u001b[0m     filepath_or_buffer\u001b[38;5;241m=\u001b[39mfilepath_or_buffer,\n\u001b[1;32m    455\u001b[0m     encoding\u001b[38;5;241m=\u001b[39mencoding,\n\u001b[0;32m   (...)\u001b[0m\n\u001b[1;32m    458\u001b[0m     mode\u001b[38;5;241m=\u001b[39mmode,\n\u001b[1;32m    459\u001b[0m )\n",
      "\u001b[0;31mValueError\u001b[0m: Invalid file path or buffer object type: <class 'NoneType'>"
     ]
    }
   ],
   "source": [
    "pd.read_csv(out_csv)\n"
   ]
  },
  {
   "cell_type": "code",
   "execution_count": null,
   "metadata": {},
   "outputs": [],
   "source": []
  }
 ],
 "metadata": {
  "kernelspec": {
   "display_name": "Python 3 (ipykernel)",
   "language": "python",
   "name": "python3"
  },
  "language_info": {
   "codemirror_mode": {
    "name": "ipython",
    "version": 3
   },
   "file_extension": ".py",
   "mimetype": "text/x-python",
   "name": "python",
   "nbconvert_exporter": "python",
   "pygments_lexer": "ipython3",
   "version": "3.8.0"
  },
  "vscode": {
   "interpreter": {
    "hash": "238ce985d5977f65bf6de1a0451044ae1f696fb547416426a22c887823529cda"
   }
  }
 },
 "nbformat": 4,
 "nbformat_minor": 4
}
